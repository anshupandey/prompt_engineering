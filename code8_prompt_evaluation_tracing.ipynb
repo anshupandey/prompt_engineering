{
 "cells": [
  {
   "cell_type": "markdown",
   "id": "3bbc1156",
   "metadata": {},
   "source": [
    "# Prompt Evaluation and Tracing with MLflow\n",
    "This notebook is designed to help you evaluate and trace prompts using MLflow. It provides a structured way to log prompt evaluations, track their performance, and visualize the results over time.\n",
    "\n",
    "Key Benefits of MLflow Prompt Evaluation\n",
    "* Effective Evaluation: `MLflow's LLM Evaluation API provides a simple and consistent way to evaluate prompts across different models and datasets without writing boilerplate code.\n",
    "* Compare Results: Compare evaluation results with ease in the MLflow UI.\n",
    "* Tracking Results: Track evaluation results in MLflow Experiment to maintain the history of prompt performance and different evaluation settings.\n",
    "* Tracing: Inspect model behavior during inference deeply with traces generated during evaluation."
   ]
  },
  {
   "cell_type": "code",
   "execution_count": null,
   "id": "f45256b9",
   "metadata": {},
   "outputs": [],
   "source": [
    "!pip install mlflow openai --quiet"
   ]
  },
  {
   "cell_type": "code",
   "execution_count": null,
   "id": "2a97b8a8",
   "metadata": {},
   "outputs": [],
   "source": [
    "import os\n",
    "import mlflow\n",
    "from openai import OpenAI\n",
    "os.environ['OPENAI_API_KEY'] = \"\""
   ]
  },
  {
   "cell_type": "markdown",
   "id": "2d4db162",
   "metadata": {},
   "source": [
    "### 1. Create a new prompt"
   ]
  },
  {
   "cell_type": "code",
   "execution_count": null,
   "id": "574133d5",
   "metadata": {},
   "outputs": [],
   "source": [
    "import mlflow\n",
    "\n",
    "# Use double curly braces for variables in the template\n",
    "initial_template = \"\"\"\\\n",
    "Summarize content you are provided with in {{ num_sentences }} sentences.\n",
    "\n",
    "Sentences: {{ sentences }}\n",
    "\"\"\"\n",
    "\n",
    "# Register a new prompt\n",
    "prompt = mlflow.register_prompt(\n",
    "    name=\"summarization-prompt\",\n",
    "    template=initial_template,\n",
    "    # Optional: Provide a commit message to describe the changes\n",
    "    commit_message=\"Initial commit\",\n",
    ")\n",
    "\n",
    "# The prompt object contains information about the registered prompt\n",
    "print(f\"Created prompt '{prompt.name}' (version {prompt.version})\")"
   ]
  },
  {
   "cell_type": "markdown",
   "id": "5ff816a5",
   "metadata": {},
   "source": [
    "### 2. Prepare Evaluation Data"
   ]
  },
  {
   "cell_type": "code",
   "execution_count": 1,
   "id": "4c1e3206",
   "metadata": {},
   "outputs": [
    {
     "name": "stderr",
     "output_type": "stream",
     "text": [
      "C:\\Users\\Anshu Pandey\\AppData\\Roaming\\Python\\Python310\\site-packages\\pandas\\core\\arrays\\masked.py:60: UserWarning: Pandas requires version '1.3.6' or newer of 'bottleneck' (version '1.3.5' currently installed).\n",
      "  from pandas.core import (\n"
     ]
    }
   ],
   "source": [
    "import pandas as pd\n",
    "\n",
    "eval_data = pd.DataFrame(\n",
    "    {\n",
    "        \"inputs\": [\n",
    "            \"Artificial intelligence has transformed how businesses operate in the 21st century. Companies are leveraging AI for everything from customer service to supply chain optimization. The technology enables automation of routine tasks, freeing human workers for more creative endeavors. However, concerns about job displacement and ethical implications remain significant. Many experts argue that AI will ultimately create more jobs than it eliminates, though the transition may be challenging.\",\n",
    "            \"Climate change continues to affect ecosystems worldwide at an alarming rate. Rising global temperatures have led to more frequent extreme weather events including hurricanes, floods, and wildfires. Polar ice caps are melting faster than predicted, contributing to sea level rise that threatens coastal communities. Scientists warn that without immediate and dramatic reductions in greenhouse gas emissions, many of these changes may become irreversible. International cooperation remains essential but politically challenging.\",\n",
    "            \"The human genome project was completed in 2003 after 13 years of international collaborative research. It successfully mapped all of the genes of the human genome, approximately 20,000-25,000 genes in total. The project cost nearly $3 billion but has enabled countless medical advances and spawned new fields like pharmacogenomics. The knowledge gained has dramatically improved our understanding of genetic diseases and opened pathways to personalized medicine. Today, a complete human genome can be sequenced in under a day for about $1,000.\",\n",
    "            \"Remote work adoption accelerated dramatically during the COVID-19 pandemic. Organizations that had previously resisted flexible work arrangements were forced to implement digital collaboration tools and virtual workflows. Many companies reported surprising productivity gains, though concerns about company culture and collaboration persisted. After the pandemic, a hybrid model emerged as the preferred approach for many businesses, combining in-office and remote work. This shift has profound implications for urban planning, commercial real estate, and work-life balance.\",\n",
    "            \"Quantum computing represents a fundamental shift in computational capability. Unlike classical computers that use bits as either 0 or 1, quantum computers use quantum bits or qubits that can exist in multiple states simultaneously. This property, known as superposition, theoretically allows quantum computers to solve certain problems exponentially faster than classical computers. Major technology companies and governments are investing billions in quantum research. Fields like cryptography, material science, and drug discovery are expected to be revolutionized once quantum computers reach practical scale.\",\n",
    "        ],\n",
    "        \"targets\": [\n",
    "            \"AI has revolutionized business operations through automation and optimization, though ethical concerns about job displacement persist alongside predictions that AI will ultimately create more employment opportunities than it eliminates.\",\n",
    "            \"Climate change is causing accelerating environmental damage through extreme weather events and melting ice caps, with scientists warning that without immediate reduction in greenhouse gas emissions, many changes may become irreversible.\",\n",
    "            \"The Human Genome Project, completed in 2003, mapped approximately 20,000-25,000 human genes at a cost of $3 billion, enabling medical advances, improving understanding of genetic diseases, and establishing the foundation for personalized medicine.\",\n",
    "            \"The COVID-19 pandemic forced widespread adoption of remote work, revealing unexpected productivity benefits despite collaboration challenges, and resulting in a hybrid work model that impacts urban planning, real estate, and work-life balance.\",\n",
    "            \"Quantum computing uses qubits existing in multiple simultaneous states to potentially solve certain problems exponentially faster than classical computers, with major investment from tech companies and governments anticipating revolutionary applications in cryptography, materials science, and pharmaceutical research.\",\n",
    "        ],\n",
    "    }\n",
    ")"
   ]
  },
  {
   "cell_type": "markdown",
   "id": "429dca7a",
   "metadata": {},
   "source": [
    "### 3. Define prediction function"
   ]
  },
  {
   "cell_type": "code",
   "execution_count": null,
   "id": "10a6a4dc",
   "metadata": {},
   "outputs": [],
   "source": [
    "def predict(data: pd.DataFrame) -> list[str]:\n",
    "    predictions = []\n",
    "    prompt = mlflow.load_prompt(\"prompts:/summarization-prompt/1\")\n",
    "\n",
    "    for _, row in data.iterrows():\n",
    "        # Fill in variables in the prompt template\n",
    "        content = prompt.format(sentences=row[\"inputs\"], num_sentences=1)\n",
    "        completion = openai.chat.completions.create(\n",
    "            model=\"gpt-4o-mini\",\n",
    "            messages=[{\"role\": \"user\", \"content\": content}],\n",
    "            temperature=0.1,\n",
    "        )\n",
    "        predictions.append(completion.choices[0].message.content)\n",
    "\n",
    "    return predictions"
   ]
  },
  {
   "cell_type": "markdown",
   "id": "c272a26d",
   "metadata": {},
   "source": [
    "### 4. Run Evaluation"
   ]
  },
  {
   "cell_type": "code",
   "execution_count": null,
   "id": "901e013f",
   "metadata": {},
   "outputs": [],
   "source": [
    "with mlflow.start_run(run_name=\"prompt-evaluation\"):\n",
    "    mlflow.log_param(\"model\", \"gpt-4o-mini\")\n",
    "    mlflow.log_param(\"temperature\", 0.1)\n",
    "\n",
    "    results = mlflow.evaluate(\n",
    "        model=predict,\n",
    "        data=eval_data,\n",
    "        targets=\"targets\",\n",
    "        extra_metrics=[\n",
    "            mlflow.metrics.latency(),\n",
    "            # Specify GPT4 as a judge model for answer similarity. Other models such as Anthropic,\n",
    "            # Bedrock, Databricks, are also supported.\n",
    "            mlflow.metrics.genai.answer_similarity(model=\"openai:/gpt-4\"),\n",
    "        ],\n",
    "    )"
   ]
  },
  {
   "cell_type": "markdown",
   "id": "1391af1b",
   "metadata": {},
   "source": [
    "### 5. View Results\n",
    "<img src=\"https://mlflow.org/docs/latest/assets/images/prompt-evaluation-result-7c106f17187fdc750439725d086c389b.png\" alt=\"MLflow LLM Evaluation UI\" width=\"800\">"
   ]
  },
  {
   "cell_type": "markdown",
   "id": "7d3a0cb5",
   "metadata": {},
   "source": [
    "<img src = \"https://mlflow.org/docs/latest/assets/images/prompt-evaluation-chart-8a93612e37184b8279c699fd6640013d.png\" >"
   ]
  },
  {
   "cell_type": "markdown",
   "id": "d6fe7137",
   "metadata": {},
   "source": []
  }
 ],
 "metadata": {
  "kernelspec": {
   "display_name": "base",
   "language": "python",
   "name": "python3"
  },
  "language_info": {
   "codemirror_mode": {
    "name": "ipython",
    "version": 3
   },
   "file_extension": ".py",
   "mimetype": "text/x-python",
   "name": "python",
   "nbconvert_exporter": "python",
   "pygments_lexer": "ipython3",
   "version": "3.10.9"
  }
 },
 "nbformat": 4,
 "nbformat_minor": 5
}
