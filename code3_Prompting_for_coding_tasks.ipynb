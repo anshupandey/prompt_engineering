{
  "cells": [
    {
      "cell_type": "markdown",
      "metadata": {
        "id": "view-in-github",
        "colab_type": "text"
      },
      "source": [
        "<a href=\"https://colab.research.google.com/github/anshupandey/prompt_engineering/blob/main/code3_Prompting_for_coding_tasks.ipynb\" target=\"_parent\"><img src=\"https://colab.research.google.com/assets/colab-badge.svg\" alt=\"Open In Colab\"/></a>"
      ]
    },
    {
      "cell_type": "markdown",
      "metadata": {
        "id": "gUIEP9y7NHxU"
      },
      "source": [
        "# OpenAI: Prompt Engineering for Coding Tasks"
      ]
    },
    {
      "cell_type": "code",
      "source": [
        "!pip install openai --quiet"
      ],
      "metadata": {
        "id": "kbYJwQEFlDZx"
      },
      "execution_count": 1,
      "outputs": []
    },
    {
      "cell_type": "code",
      "source": [
        "import os\n",
        "os.environ['OPENAI_API_KEY'] = \"sk-proj-xx-xxxxxxx-xx-x-xxx\""
      ],
      "metadata": {
        "id": "RJyhJ6FMlFMF"
      },
      "execution_count": 2,
      "outputs": []
    },
    {
      "cell_type": "code",
      "execution_count": 3,
      "metadata": {
        "id": "AWcDdeofM8U0"
      },
      "outputs": [],
      "source": [
        "from openai import OpenAI\n",
        "client = OpenAI()"
      ]
    },
    {
      "cell_type": "code",
      "execution_count": 5,
      "metadata": {
        "id": "Xv50i87gy_UX"
      },
      "outputs": [],
      "source": [
        "def generate_response(prompt,temp=0):\n",
        "  response = client.responses.create(\n",
        "      input=[{\"role\":\"system\",'content':\"You are an expert programmer, you follow standard best practices for answering coding questions.\"},\n",
        "            {\"role\":\"user\",'content':prompt}],\n",
        "      model = \"gpt-4o\",\n",
        "      temperature=temp,\n",
        "  )\n",
        "  return response.output_text"
      ]
    },
    {
      "cell_type": "markdown",
      "metadata": {
        "id": "qjb3J7DzygTu"
      },
      "source": [
        "# Calculate Code Complexity"
      ]
    },
    {
      "cell_type": "code",
      "execution_count": 6,
      "metadata": {
        "colab": {
          "base_uri": "https://localhost:8080/"
        },
        "id": "IVXYhAUHyfUJ",
        "outputId": "fc318129-48fb-4dda-d39f-aea9d034e495"
      },
      "outputs": [
        {
          "output_type": "stream",
          "name": "stdout",
          "text": [
            "To determine the time complexity of the given code, let's analyze the nested loops:\n",
            "\n",
            "```python\n",
            "def myfun(c, v):\n",
            "    counter = 0\n",
            "    for i in range(c):\n",
            "        for j in range(v):\n",
            "            counter += 1\n",
            "    return counter\n",
            "```\n",
            "\n",
            "### Analysis:\n",
            "\n",
            "1. **Outer Loop**: The outer loop runs `c` times.\n",
            "2. **Inner Loop**: For each iteration of the outer loop, the inner loop runs `v` times.\n",
            "\n",
            "### Total Operations:\n",
            "\n",
            "- For each iteration of the outer loop, the inner loop runs `v` times, resulting in `v` operations.\n",
            "- Since the outer loop runs `c` times, the total number of operations is `c * v`.\n",
            "\n",
            "### Time Complexity:\n",
            "\n",
            "The time complexity of the function is \\(O(c \\times v)\\), where `c` and `v` are the input parameters.\n"
          ]
        }
      ],
      "source": [
        "code = \"\"\"\n",
        "def myfun(c,v):\n",
        "  counter = 0\n",
        "  for i in range(c):\n",
        "    for j in range(v):\n",
        "      counter +=1\n",
        "  return counter\n",
        "\"\"\"\n",
        "\n",
        "prompt = f\"\"\"Calculate the time complexity for the python code separated by triple backticks.\n",
        "\n",
        "         Code:\n",
        "\n",
        "         ```{code}```\n",
        "         \"\"\"\n",
        "\n",
        "print(generate_response(prompt))"
      ]
    },
    {
      "cell_type": "markdown",
      "metadata": {
        "id": "LOKpnaYF2DE0"
      },
      "source": [
        "# Improve code efficiency"
      ]
    },
    {
      "cell_type": "code",
      "execution_count": 7,
      "metadata": {
        "colab": {
          "base_uri": "https://localhost:8080/"
        },
        "id": "2K0FKxFmz5ZN",
        "outputId": "3744f3e2-f72c-4cf9-8200-902b9f37a3a4"
      },
      "outputs": [
        {
          "output_type": "stream",
          "name": "stdout",
          "text": [
            "To optimize the given code, we can use a hash set to track the numbers we have seen so far. This approach reduces the time complexity from \\(O(n^2)\\) to \\(O(n)\\) and the space complexity to \\(O(n)\\).\n",
            "\n",
            "Here's the optimized code:\n",
            "\n",
            "```python\n",
            "from typing import List\n",
            "\n",
            "def has_sum_k(nums: List[int], k: int) -> bool:\n",
            "    '''\n",
            "    Returns True if there are two distinct elements in nums such that their sum\n",
            "    is equal to k, and otherwise returns False.\n",
            "    '''\n",
            "    seen = set()\n",
            "    for num in nums:\n",
            "        complement = k - num\n",
            "        if complement in seen:\n",
            "            return True\n",
            "        seen.add(num)\n",
            "    return False\n",
            "```\n",
            "\n",
            "### Explanation:\n",
            "\n",
            "1. **Hash Set Usage**: We use a hash set `seen` to store numbers as we iterate through the list. This allows us to check in constant time if the complement of the current number (i.e., `k - num`) has already been seen.\n",
            "\n",
            "2. **Single Pass**: We only need a single pass through the list, making the time complexity \\(O(n)\\).\n",
            "\n",
            "3. **Space Complexity**: The space complexity is \\(O(n)\\) due to the storage of numbers in the hash set. However, this is generally more efficient than the \\(O(n^2)\\) space used by the implicit call stack in the original nested loop approach.\n"
          ]
        }
      ],
      "source": [
        "code = \"\"\"\n",
        "from typing import List\n",
        "def has_sum_k(nums: List[int], k: int) -> bool:\n",
        "    '''\n",
        "    Returns True if there are two distinct elements in nums such that their sum\n",
        "    is equal to k, and otherwise returns False.\n",
        "    '''\n",
        "    n = len(nums)\n",
        "    for i in range(n):\n",
        "        for j in range(i+1, n):\n",
        "            if nums[i] + nums[j] == k:\n",
        "                return True\n",
        "    return False\n",
        "\"\"\"\n",
        "\n",
        "\n",
        "prompt = f\"\"\" Optimize the provide code in triple backticks to improve its time and space complexity (make it more efficient).\n",
        "         Code:\n",
        "         ```{code}```\n",
        "         \"\"\"\n",
        "\n",
        "print(generate_response(prompt))"
      ]
    },
    {
      "cell_type": "markdown",
      "metadata": {
        "id": "8LxdSdLf22pr"
      },
      "source": [
        "# Explain a piece of code"
      ]
    },
    {
      "cell_type": "code",
      "execution_count": 8,
      "metadata": {
        "colab": {
          "base_uri": "https://localhost:8080/"
        },
        "id": "jyGTdcws22FM",
        "outputId": "c392ef57-543a-422c-be47-b1d1a55858dc"
      },
      "outputs": [
        {
          "output_type": "stream",
          "name": "stdout",
          "text": [
            "The code defines a function `has_sum_k` that checks if there are two distinct elements in a list `nums` whose sum equals a given integer `k`.\n",
            "\n",
            "### Key Points:\n",
            "\n",
            "- **Function Signature**: \n",
            "  - `has_sum_k(nums: List[int], k: int) -> bool`\n",
            "  - Takes a list of integers `nums` and an integer `k`.\n",
            "  - Returns a boolean value.\n",
            "\n",
            "- **Logic**:\n",
            "  - Uses a nested loop to iterate over all pairs of elements in `nums`.\n",
            "  - The outer loop runs from the first element to the second-to-last element.\n",
            "  - The inner loop starts from the element right after the current element of the outer loop to ensure distinct pairs.\n",
            "  - Checks if the sum of the current pair equals `k`.\n",
            "  - If a pair is found, returns `True`.\n",
            "  - If no such pair is found after all iterations, returns `False`.\n",
            "\n",
            "- **Complexity**:\n",
            "  - Time complexity is \\(O(n^2)\\) due to the nested loops, where \\(n\\) is the length of `nums`.\n"
          ]
        }
      ],
      "source": [
        "code = \"\"\"\n",
        "from typing import List\n",
        "def has_sum_k(nums: List[int], k: int) -> bool:\n",
        "    '''\n",
        "    Returns True if there are two distinct elements in nums such that their sum\n",
        "    is equal to k, and otherwise returns False.\n",
        "    '''\n",
        "    n = len(nums)\n",
        "    for i in range(n):\n",
        "        for j in range(i+1, n):\n",
        "            if nums[i] + nums[j] == k:\n",
        "                return True\n",
        "    return False\n",
        "\"\"\"\n",
        "\n",
        "\n",
        "prompt = f\"\"\"Explain below code in triple backticks in a concise way.\n",
        "         Code:\n",
        "         ```{code}```\n",
        "         \"\"\"\n",
        "\n",
        "print(generate_response(prompt))"
      ]
    },
    {
      "cell_type": "markdown",
      "metadata": {
        "id": "14E54_2iM8U2"
      },
      "source": []
    },
    {
      "cell_type": "markdown",
      "metadata": {
        "id": "CC5fOCC239ct"
      },
      "source": [
        "# Code Generation with openAI"
      ]
    },
    {
      "cell_type": "code",
      "execution_count": 9,
      "metadata": {
        "id": "lYf7YK5iM8U2",
        "outputId": "c0088811-0e09-459b-f70e-8217018aa91f",
        "colab": {
          "base_uri": "https://localhost:8080/"
        }
      },
      "outputs": [
        {
          "output_type": "stream",
          "name": "stdout",
          "text": [
            "Certainly! Here's a Python implementation of the binary search algorithm. This function assumes that the input list is sorted in ascending order.\n",
            "\n",
            "```python\n",
            "def binary_search(arr, target):\n",
            "    \"\"\"\n",
            "    Perform a binary search on a sorted list.\n",
            "\n",
            "    Parameters:\n",
            "    arr (list): A list of elements sorted in ascending order.\n",
            "    target: The element to search for in the list.\n",
            "\n",
            "    Returns:\n",
            "    int: The index of the target element if found, otherwise -1.\n",
            "    \"\"\"\n",
            "    left, right = 0, len(arr) - 1\n",
            "\n",
            "    while left <= right:\n",
            "        mid = left + (right - left) // 2\n",
            "\n",
            "        # Check if the target is present at mid\n",
            "        if arr[mid] == target:\n",
            "            return mid\n",
            "        # If target is greater, ignore the left half\n",
            "        elif arr[mid] < target:\n",
            "            left = mid + 1\n",
            "        # If target is smaller, ignore the right half\n",
            "        else:\n",
            "            right = mid - 1\n",
            "\n",
            "    # Target is not present in the list\n",
            "    return -1\n",
            "\n",
            "# Example usage:\n",
            "# sorted_list = [1, 2, 3, 4, 5, 6, 7, 8, 9, 10]\n",
            "# target = 5\n",
            "# result = binary_search(sorted_list, target)\n",
            "# print(f\"Element found at index: {result}\" if result != -1 else \"Element not found\")\n",
            "```\n",
            "\n",
            "### Key Points:\n",
            "- **Precondition**: The list must be sorted.\n",
            "- **Time Complexity**: O(log n), where n is the number of elements in the list.\n",
            "- **Space Complexity**: O(1), as it uses a constant amount of space.\n",
            "\n",
            "This function will return the index of the target element if it is found in the list, or `-1` if the target is not present.\n"
          ]
        }
      ],
      "source": [
        "\n",
        "prompt = \"\"\"write a function for binary search in python\"\"\"\n",
        "\n",
        "print(generate_response(prompt))"
      ]
    },
    {
      "cell_type": "markdown",
      "metadata": {
        "id": "2RAyyhrcM8U3"
      },
      "source": []
    },
    {
      "cell_type": "code",
      "execution_count": null,
      "metadata": {
        "id": "fwi2-spdM8U3"
      },
      "outputs": [],
      "source": []
    },
    {
      "cell_type": "markdown",
      "metadata": {
        "id": "O2hRbfpzM8U3"
      },
      "source": [
        "## Create a single page website"
      ]
    },
    {
      "cell_type": "code",
      "execution_count": 10,
      "metadata": {
        "colab": {
          "base_uri": "https://localhost:8080/"
        },
        "id": "uFegvaqx2oga",
        "outputId": "579c0c75-7aae-42bb-f34f-fffa3bfaf200"
      },
      "outputs": [
        {
          "output_type": "stream",
          "name": "stdout",
          "text": [
            "```html\n",
            "<!DOCTYPE html>\n",
            "<html lang=\"en\">\n",
            "<head>\n",
            "    <meta charset=\"UTF-8\">\n",
            "    <meta name=\"viewport\" content=\"width=device-width, initial-scale=1.0\">\n",
            "    <title>JavaScript Features Showcase</title>\n",
            "    <style>\n",
            "        body {\n",
            "            font-family: Arial, sans-serif;\n",
            "            margin: 20px;\n",
            "        }\n",
            "        .dropdown {\n",
            "            margin-bottom: 20px;\n",
            "        }\n",
            "        .dropdown-content {\n",
            "            display: none;\n",
            "            margin-top: 10px;\n",
            "            padding: 10px;\n",
            "            border: 1px solid #ccc;\n",
            "            background-color: #f9f9f9;\n",
            "        }\n",
            "        .accordion {\n",
            "            cursor: pointer;\n",
            "            padding: 10px;\n",
            "            border: 1px solid #ccc;\n",
            "            background-color: #eee;\n",
            "            margin-bottom: 5px;\n",
            "        }\n",
            "        .panel {\n",
            "            display: none;\n",
            "            padding: 10px;\n",
            "            border: 1px solid #ccc;\n",
            "            background-color: #f9f9f9;\n",
            "        }\n",
            "    </style>\n",
            "</head>\n",
            "<body>\n",
            "\n",
            "    <h1>JavaScript Features Showcase</h1>\n",
            "\n",
            "    <div class=\"dropdown\">\n",
            "        <button onclick=\"toggleDropdown()\">Toggle Dropdown</button>\n",
            "        <div id=\"dropdownContent\" class=\"dropdown-content\">\n",
            "            <p>This is a dropdown content area.</p>\n",
            "        </div>\n",
            "    </div>\n",
            "\n",
            "    <div class=\"accordion\" onclick=\"toggleAccordion(this)\">Accordion 1</div>\n",
            "    <div class=\"panel\">\n",
            "        <p>Accordion 1 content.</p>\n",
            "    </div>\n",
            "\n",
            "    <div class=\"accordion\" onclick=\"toggleAccordion(this)\">Accordion 2</div>\n",
            "    <div class=\"panel\">\n",
            "        <p>Accordion 2 content.</p>\n",
            "    </div>\n",
            "\n",
            "    <script>\n",
            "        function toggleDropdown() {\n",
            "            const content = document.getElementById('dropdownContent');\n",
            "            content.style.display = content.style.display === 'block' ? 'none' : 'block';\n",
            "        }\n",
            "\n",
            "        function toggleAccordion(element) {\n",
            "            const panel = element.nextElementSibling;\n",
            "            panel.style.display = panel.style.display === 'block' ? 'none' : 'block';\n",
            "        }\n",
            "    </script>\n",
            "\n",
            "</body>\n",
            "</html>\n",
            "```\n"
          ]
        }
      ],
      "source": [
        "\n",
        "\n",
        "prompt = \"\"\"Make a single page website that shows off different neat javascript features\n",
        " for drop downs and things to display information.\n",
        " The website should be an HTML file with embedded javascript and css.\n",
        "   In the output only provide code without description\"\"\"\n",
        "\n",
        "response = generate_response(prompt)\n",
        "print(response)"
      ]
    },
    {
      "cell_type": "code",
      "execution_count": 11,
      "metadata": {
        "id": "o_goKgWh4tuA",
        "colab": {
          "base_uri": "https://localhost:8080/",
          "height": 239
        },
        "outputId": "50931cf3-4e47-41de-bc29-ba586f68b819"
      },
      "outputs": [
        {
          "output_type": "display_data",
          "data": {
            "text/plain": [
              "<IPython.core.display.HTML object>"
            ],
            "text/html": [
              "```html\n",
              "<!DOCTYPE html>\n",
              "<html lang=\"en\">\n",
              "<head>\n",
              "    <meta charset=\"UTF-8\">\n",
              "    <meta name=\"viewport\" content=\"width=device-width, initial-scale=1.0\">\n",
              "    <title>JavaScript Features Showcase</title>\n",
              "    <style>\n",
              "        body {\n",
              "            font-family: Arial, sans-serif;\n",
              "            margin: 20px;\n",
              "        }\n",
              "        .dropdown {\n",
              "            margin-bottom: 20px;\n",
              "        }\n",
              "        .dropdown-content {\n",
              "            display: none;\n",
              "            margin-top: 10px;\n",
              "            padding: 10px;\n",
              "            border: 1px solid #ccc;\n",
              "            background-color: #f9f9f9;\n",
              "        }\n",
              "        .accordion {\n",
              "            cursor: pointer;\n",
              "            padding: 10px;\n",
              "            border: 1px solid #ccc;\n",
              "            background-color: #eee;\n",
              "            margin-bottom: 5px;\n",
              "        }\n",
              "        .panel {\n",
              "            display: none;\n",
              "            padding: 10px;\n",
              "            border: 1px solid #ccc;\n",
              "            background-color: #f9f9f9;\n",
              "        }\n",
              "    </style>\n",
              "</head>\n",
              "<body>\n",
              "\n",
              "    <h1>JavaScript Features Showcase</h1>\n",
              "\n",
              "    <div class=\"dropdown\">\n",
              "        <button onclick=\"toggleDropdown()\">Toggle Dropdown</button>\n",
              "        <div id=\"dropdownContent\" class=\"dropdown-content\">\n",
              "            <p>This is a dropdown content area.</p>\n",
              "        </div>\n",
              "    </div>\n",
              "\n",
              "    <div class=\"accordion\" onclick=\"toggleAccordion(this)\">Accordion 1</div>\n",
              "    <div class=\"panel\">\n",
              "        <p>Accordion 1 content.</p>\n",
              "    </div>\n",
              "\n",
              "    <div class=\"accordion\" onclick=\"toggleAccordion(this)\">Accordion 2</div>\n",
              "    <div class=\"panel\">\n",
              "        <p>Accordion 2 content.</p>\n",
              "    </div>\n",
              "\n",
              "    <script>\n",
              "        function toggleDropdown() {\n",
              "            const content = document.getElementById('dropdownContent');\n",
              "            content.style.display = content.style.display === 'block' ? 'none' : 'block';\n",
              "        }\n",
              "\n",
              "        function toggleAccordion(element) {\n",
              "            const panel = element.nextElementSibling;\n",
              "            panel.style.display = panel.style.display === 'block' ? 'none' : 'block';\n",
              "        }\n",
              "    </script>\n",
              "\n",
              "</body>\n",
              "</html>\n",
              "```"
            ]
          },
          "metadata": {}
        }
      ],
      "source": [
        "from IPython.display import display, HTML\n",
        "display(HTML(response))"
      ]
    },
    {
      "cell_type": "markdown",
      "metadata": {
        "id": "xDo2blvaM8U3"
      },
      "source": [
        "## Complete a partial code"
      ]
    },
    {
      "cell_type": "code",
      "execution_count": 12,
      "metadata": {
        "id": "zLWAp8syM8U4",
        "outputId": "6492ab7b-6b00-4ee9-bb42-19dde8de23e6",
        "colab": {
          "base_uri": "https://localhost:8080/"
        }
      },
      "outputs": [
        {
          "output_type": "stream",
          "name": "stdout",
          "text": [
            "Certainly! Here's a complete function to calculate the average of even numbers in an array:\n",
            "\n",
            "```python\n",
            "def average_of_evens(numbers):\n",
            "    if not numbers:\n",
            "        return 0  # Return 0 if the list is empty\n",
            "\n",
            "    even_numbers = [num for num in numbers if num % 2 == 0]\n",
            "    \n",
            "    if not even_numbers:\n",
            "        return 0  # Return 0 if there are no even numbers\n",
            "\n",
            "    return sum(even_numbers) / len(even_numbers)\n",
            "\n",
            "# Example usage:\n",
            "numbers = [1, 2, 3, 4, 5, 6]\n",
            "print(average_of_evens(numbers))  # Output: 4.0\n",
            "```\n",
            "\n",
            "### Explanation:\n",
            "- **List Comprehension**: We use a list comprehension to filter out even numbers.\n",
            "- **Edge Cases**: We handle cases where the list is empty or contains no even numbers by returning 0.\n",
            "- **Calculation**: We calculate the average by dividing the sum of even numbers by their count.\n"
          ]
        }
      ],
      "source": [
        "prompt = \"\"\"\n",
        "complete the following partial function\n",
        "# calculate the average of the numbers in an array, but only if they're even\n",
        "def\n",
        "\"\"\"\n",
        "\n",
        "print(generate_response(prompt))"
      ]
    },
    {
      "cell_type": "markdown",
      "metadata": {
        "id": "u3f1TCax5QUR"
      },
      "source": [
        "# Generate SQL Queries from natural language"
      ]
    },
    {
      "cell_type": "code",
      "execution_count": 13,
      "metadata": {
        "colab": {
          "base_uri": "https://localhost:8080/"
        },
        "id": "X-ghdsec5Msf",
        "outputId": "4e5cbb0b-a30b-47c1-ec16-303ea288b898"
      },
      "outputs": [
        {
          "output_type": "stream",
          "name": "stdout",
          "text": [
            "```sql\n",
            "SELECT AVG(TotalOrderValue) AS AverageOrderValue\n",
            "FROM (\n",
            "  SELECT o.OrderID, SUM(od.Quantity * p.UnitPrice) AS TotalOrderValue\n",
            "  FROM Orders o\n",
            "  JOIN OrderDetails od ON o.OrderID = od.OrderID\n",
            "  JOIN Products p ON od.ProductID = p.ProductID\n",
            "  WHERE o.OrderDate = '2023-09-20'\n",
            "  GROUP BY o.OrderID\n",
            ") AS OrderValues;\n",
            "```\n"
          ]
        }
      ],
      "source": [
        "table_code = \"\"\"\n",
        "CREATE TABLE Orders (\n",
        "  OrderID int,\n",
        "  CustomerID int,\n",
        "  OrderDate datetime,\n",
        "  OrderTime varchar(8),\n",
        "  PRIMARY KEY (OrderID)\n",
        ");\n",
        "\n",
        "CREATE TABLE OrderDetails (\n",
        "  OrderDetailID int,\n",
        "  OrderID int,\n",
        "  ProductID int,\n",
        "  Quantity int,\n",
        "  PRIMARY KEY (OrderDetailID)\n",
        ");\n",
        "\n",
        "CREATE TABLE Products (\n",
        "  ProductID int,\n",
        "  ProductName varchar(50),\n",
        "  Category varchar(50),\n",
        "  UnitPrice decimal(10, 2),\n",
        "  Stock int,\n",
        "  PRIMARY KEY (ProductID)\n",
        ");\n",
        "\n",
        "CREATE TABLE Customers (\n",
        "  CustomerID int,\n",
        "  FirstName varchar(50),\n",
        "  LastName varchar(50),\n",
        "  Email varchar(100),\n",
        "  Phone varchar(20),\n",
        "  PRIMARY KEY (CustomerID)\n",
        ");\n",
        "\"\"\"\n",
        "\n",
        "prompt = f\"\"\" Given the following SQL tables, your job is to write queries given a user's input request.\n",
        "\n",
        "Tables: {table_code}\n",
        "\n",
        "Write a query which calculates the average of total order values for all orders on 20-09-2023\n",
        "Consider writing final query after inference of columns from multiple tables.\n",
        "Only provide the sql query, no other explanaiton or text\"\"\"\n",
        "\n",
        "print(generate_response(prompt))"
      ]
    },
    {
      "cell_type": "markdown",
      "metadata": {
        "id": "XlkePjd0L8N5"
      },
      "source": [
        "# Code from Description"
      ]
    },
    {
      "cell_type": "code",
      "execution_count": 14,
      "metadata": {
        "id": "XJZ2F754L5Ii",
        "outputId": "e6ea8811-37fc-4fcb-c37a-b67828f9f71b",
        "colab": {
          "base_uri": "https://localhost:8080/"
        }
      },
      "outputs": [
        {
          "output_type": "stream",
          "name": "stdout",
          "text": [
            "To achieve this, you can use libraries like `PIL` for image handling and `numpy` for array manipulation. Below is a Python function that performs the described task:\n",
            "\n",
            "```python\n",
            "from PIL import Image\n",
            "import numpy as np\n",
            "\n",
            "def crop_dark_edges(image_path, threshold):\n",
            "    # Load the image and convert it to grayscale\n",
            "    image = Image.open(image_path).convert('L')\n",
            "    image_array = np.array(image)\n",
            "\n",
            "    # Calculate the mean of each row and column\n",
            "    row_means = image_array.mean(axis=1)\n",
            "    col_means = image_array.mean(axis=0)\n",
            "\n",
            "    # Determine which rows and columns to keep\n",
            "    rows_to_keep = np.where(row_means >= threshold)[0]\n",
            "    cols_to_keep = np.where(col_means >= threshold)[0]\n",
            "\n",
            "    # Crop the image array\n",
            "    cropped_array = image_array[\n",
            "        rows_to_keep[0]:rows_to_keep[-1] + 1,\n",
            "        cols_to_keep[0]:cols_to_keep[-1] + 1\n",
            "    ]\n",
            "\n",
            "    return cropped_array\n",
            "\n",
            "# Example usage:\n",
            "# cropped_image = crop_dark_edges('path_to_image.jpg', threshold=50)\n",
            "```\n",
            "\n",
            "### Explanation:\n",
            "\n",
            "1. **Image Loading and Conversion**: The image is loaded using `PIL` and converted to grayscale to simplify the mean calculation.\n",
            "\n",
            "2. **Mean Calculation**: The mean pixel value for each row and column is calculated using `numpy`.\n",
            "\n",
            "3. **Threshold Comparison**: Rows and columns with a mean value above the threshold are identified.\n",
            "\n",
            "4. **Cropping**: The image is cropped to include only the rows and columns that meet the threshold criteria.\n",
            "\n",
            "### Note:\n",
            "- Ensure that the `threshold` value is set appropriately based on the image's pixel value range (0-255 for grayscale).\n",
            "- This function returns a cropped numpy array. You can convert it back to an image using `PIL` if needed.\n"
          ]
        }
      ],
      "source": [
        "\n",
        "prompt =\"\"\"\n",
        "Create a python function which takes as input a file path to an image, loads the image into memory as a numpy array,\n",
        "then crops the rows and columns around the perimeter if they are darker than a threshold value.\n",
        "Use the mean value of rows and columns to decide if they should be marked for deletion.\n",
        "\"\"\"\n",
        "\n",
        "print(generate_response(prompt))"
      ]
    },
    {
      "cell_type": "markdown",
      "metadata": {
        "id": "YX6jG58SNCt5"
      },
      "source": [
        "# Bug fixing in a given code"
      ]
    },
    {
      "cell_type": "code",
      "execution_count": 15,
      "metadata": {
        "colab": {
          "base_uri": "https://localhost:8080/"
        },
        "id": "_V-_QKEDM6b0",
        "outputId": "fd9bedb4-05e9-4aae-daf3-e000c075dec0"
      },
      "outputs": [
        {
          "output_type": "stream",
          "name": "stdout",
          "text": [
            "Let's identify and fix the issues in the code:\n",
            "\n",
            "1. **Syntax Error in the `if` statement**: The comparison operator should be `==` instead of `=`.\n",
            "\n",
            "2. **String Comparison**: The input from `input()` is a string, so you should compare it with a string.\n",
            "\n",
            "3. **Undefined `none`**: `none` should be `None` (with a capital 'N') if you intend to use it as a placeholder. However, printing `None` is unnecessary here.\n",
            "\n",
            "4. **Unclosed String**: The string in `print(\"hello)` is not properly closed.\n",
            "\n",
            "Here's the corrected code:\n",
            "\n",
            "```python\n",
            "qus = \"What is 4+2+9*8 ?\"\n",
            "ans = input(qus)\n",
            "if ans == \"12\":\n",
            "    print(\"None\")\n",
            "    print(\"hello\")\n",
            "else:\n",
            "    print(\"bye\")\n",
            "```\n",
            "\n",
            "### Explanation:\n",
            "\n",
            "- **Comparison Operator**: Changed `=` to `==` for comparison.\n",
            "- **String Comparison**: Compared `ans` with `\"12\"` as `input()` returns a string.\n",
            "- **Corrected String**: Fixed the unclosed string in `print(\"hello\")`.\n",
            "- **Removed `None`**: Removed the unnecessary `None` print statement. If you need it, ensure it's a string or a valid expression.\n"
          ]
        }
      ],
      "source": [
        "\n",
        "prompt = \"\"\"\n",
        "you will be provided with a piece of python code, and your task is to find and fix the bug in it.\n",
        "\n",
        "Code:\n",
        "\n",
        "qus = \"WHat is 4+2+9*8 ?\"\n",
        "ans = input(qus)\n",
        "if ans = 12:\n",
        "  print(none)\n",
        "  print(\"hello)\n",
        "else:\n",
        "  print(\"bye\")\n",
        "\n",
        "\"\"\"\n",
        "\n",
        "print(generate_response(prompt))"
      ]
    },
    {
      "cell_type": "markdown",
      "metadata": {
        "id": "KuksuBWBM8U4"
      },
      "source": [
        "# Change Coding Language\n"
      ]
    },
    {
      "cell_type": "code",
      "execution_count": 16,
      "metadata": {
        "id": "rXNnJ1klNxbB",
        "outputId": "ae7c2cae-d084-4d45-b4cd-e95b9fbea290",
        "colab": {
          "base_uri": "https://localhost:8080/"
        }
      },
      "outputs": [
        {
          "output_type": "stream",
          "name": "stdout",
          "text": [
            "Here's the equivalent code in C:\n",
            "\n",
            "```c\n",
            "#include <stdio.h>\n",
            "\n",
            "void print_squares(int n) {\n",
            "    for (int i = 1; i <= n; i++) {\n",
            "        printf(\"%d\\n\", i * i);\n",
            "    }\n",
            "}\n",
            "\n",
            "int main() {\n",
            "    int n;\n",
            "    printf(\"Enter a number: \");\n",
            "    scanf(\"%d\", &n);\n",
            "    print_squares(n);\n",
            "    return 0;\n",
            "}\n",
            "```\n"
          ]
        }
      ],
      "source": [
        "# Changing coding language from python to c\n",
        "\n",
        "code = \"\"\"\n",
        "def print_squares(n):\n",
        "    for i in range(1, n+1):\n",
        "        print(i**2)\n",
        "        \"\"\"\n",
        "\n",
        "prompt = f\"\"\"Translate the provided code in triple backticks to another coding language: C programming\n",
        "Code:\n",
        "```{code}```\n",
        " \"\"\"\n",
        "\n",
        "print(generate_response(prompt))"
      ]
    },
    {
      "cell_type": "markdown",
      "metadata": {
        "id": "QcAFj6nqM8U5"
      },
      "source": [
        "# Write unit tests"
      ]
    },
    {
      "cell_type": "code",
      "execution_count": 17,
      "metadata": {
        "id": "pkJJQOgxM8U5",
        "outputId": "b8334b06-5529-4b8d-bdc8-7d1ae3cbfae6",
        "colab": {
          "base_uri": "https://localhost:8080/"
        }
      },
      "outputs": [
        {
          "output_type": "stream",
          "name": "stdout",
          "text": [
            "To write unit tests for the `binary_search` function using `pytest`, you can create a test file and define test functions. Here are three unit tests that cover different scenarios:\n",
            "\n",
            "1. **Test for a target present in the array.**\n",
            "2. **Test for a target not present in the array.**\n",
            "3. **Test for an empty array.**\n",
            "\n",
            "Here's how you can write these tests:\n",
            "\n",
            "```python\n",
            "import pytest\n",
            "from your_module import binary_search  # Replace 'your_module' with the actual module name\n",
            "\n",
            "def test_target_present():\n",
            "    arr = [1, 2, 3, 4, 5]\n",
            "    target = 3\n",
            "    assert binary_search(arr, target) == 2\n",
            "\n",
            "def test_target_not_present():\n",
            "    arr = [1, 2, 3, 4, 5]\n",
            "    target = 6\n",
            "    assert binary_search(arr, target) == -1\n",
            "\n",
            "def test_empty_array():\n",
            "    arr = []\n",
            "    target = 1\n",
            "    assert binary_search(arr, target) == -1\n",
            "\n",
            "# To run the tests, use the command: pytest <name_of_test_file>.py\n",
            "```\n",
            "\n",
            "### Explanation:\n",
            "\n",
            "- **`test_target_present`:** This test checks if the function correctly returns the index of a target that is present in the array.\n",
            "- **`test_target_not_present`:** This test checks if the function returns `-1` when the target is not in the array.\n",
            "- **`test_empty_array`:** This test checks if the function returns `-1` when the array is empty, regardless of the target.\n",
            "\n",
            "Make sure to replace `'your_module'` with the actual name of the module where the `binary_search` function is defined. Save the tests in a file, and run them using `pytest`.\n"
          ]
        }
      ],
      "source": [
        "# write unit tests for a given code\n",
        "\n",
        "code = \"\"\"\n",
        "def binary_search(arr, target):\n",
        "    left, right = 0, len(arr) - 1\n",
        "    while left <= right:\n",
        "        mid = (left + right) // 2\n",
        "        if arr[mid] == target:\n",
        "            return mid\n",
        "        elif arr[mid] < target:\n",
        "            left = mid + 1\n",
        "        else:\n",
        "            right = mid - 1\n",
        "    return -1\n",
        "\"\"\"\n",
        "prompt = f\"\"\"\n",
        "Write 3 unit tests for the following function using pytest:\n",
        "{code}\n",
        "\"\"\"\n",
        "\n",
        "\n",
        "print(generate_response(prompt))"
      ]
    },
    {
      "cell_type": "markdown",
      "metadata": {
        "id": "ayKyGdjhM8U5"
      },
      "source": [
        "# Add comments and generate documentation"
      ]
    },
    {
      "cell_type": "code",
      "execution_count": 18,
      "metadata": {
        "id": "F22cGYrTM8U5",
        "outputId": "2a33a5b8-cf11-4339-a4ec-fd56a18eb601",
        "colab": {
          "base_uri": "https://localhost:8080/"
        }
      },
      "outputs": [
        {
          "output_type": "stream",
          "name": "stdout",
          "text": [
            "```python\n",
            "def permutations(lst):\n",
            "    \"\"\"\n",
            "    Generate all possible permutations of a list.\n",
            "\n",
            "    Args:\n",
            "        lst (list): The list of elements to permute.\n",
            "\n",
            "    Returns:\n",
            "        list: A list of all permutations, where each permutation is represented as a list.\n",
            "    \"\"\"\n",
            "    # Base case: if the list is empty, return an empty list\n",
            "    if len(lst) == 0:\n",
            "        return []\n",
            "    # Base case: if the list has one element, return a list containing the list itself\n",
            "    elif len(lst) == 1:\n",
            "        return [lst]\n",
            "    else:\n",
            "        result = []  # Initialize an empty list to store permutations\n",
            "        # Iterate over the list to generate permutations\n",
            "        for i in range(len(lst)):\n",
            "            temp = lst[i]  # Select the current element\n",
            "            # Create a sublist excluding the current element\n",
            "            remaining = lst[:i] + lst[i+1:]\n",
            "            # Recursively generate permutations of the sublist\n",
            "            for p in permutations(remaining):\n",
            "                # Append the current element to each permutation of the sublist\n",
            "                result.append([temp] + p)\n",
            "        return result\n",
            "```\n",
            "\n",
            "This function uses recursion to generate all permutations of a given list. It handles base cases for empty and single-element lists, and recursively builds permutations by selecting each element and permuting the remaining elements.\n"
          ]
        }
      ],
      "source": [
        "# Add comments and generate documentation\n",
        "\n",
        "code = \"\"\"\n",
        "def permutations(lst):\n",
        "    if len(lst) == 0:\n",
        "        return []\n",
        "    elif len(lst) == 1:\n",
        "        return [lst]\n",
        "    else:\n",
        "        result = []\n",
        "        for i in range(len(lst)):\n",
        "            temp = lst[i]\n",
        "            remaining = lst[:i] + lst[i+1:]\n",
        "            for p in permutations(remaining):\n",
        "                result.append([temp] + p)\n",
        "        return result\n",
        "\n",
        "\"\"\"\n",
        "\n",
        "prompt = f\"\"\" Add comments and documentation strings to the following function:\n",
        "\n",
        "code:\n",
        "{code}\"\"\"\n",
        "\n",
        "\n",
        "print(generate_response(prompt))"
      ]
    },
    {
      "cell_type": "code",
      "execution_count": null,
      "metadata": {
        "id": "ng93o9qAM8U5"
      },
      "outputs": [],
      "source": []
    },
    {
      "cell_type": "markdown",
      "metadata": {
        "id": "xL9DKWHkDpXR"
      },
      "source": [
        "# Zero Shot Prompting"
      ]
    },
    {
      "cell_type": "code",
      "execution_count": 19,
      "metadata": {
        "colab": {
          "base_uri": "https://localhost:8080/"
        },
        "id": "LILta5HxUa9C",
        "outputId": "7829980a-aebe-43ad-d6e0-a43896922258"
      },
      "outputs": [
        {
          "output_type": "stream",
          "name": "stdout",
          "text": [
            "Certainly! You can calculate the factorial of a number using a recursive function or an iterative approach. Here's a simple implementation using both methods:\n",
            "\n",
            "### Recursive Approach\n",
            "\n",
            "```python\n",
            "def factorial_recursive(n):\n",
            "    if n == 0 or n == 1:\n",
            "        return 1\n",
            "    else:\n",
            "        return n * factorial_recursive(n - 1)\n",
            "\n",
            "# Calculate factorial of 5\n",
            "result_recursive = factorial_recursive(5)\n",
            "print(\"Factorial (Recursive) of 5:\", result_recursive)\n",
            "```\n",
            "\n",
            "### Iterative Approach\n",
            "\n",
            "```python\n",
            "def factorial_iterative(n):\n",
            "    result = 1\n",
            "    for i in range(2, n + 1):\n",
            "        result *= i\n",
            "    return result\n",
            "\n",
            "# Calculate factorial of 5\n",
            "result_iterative = factorial_iterative(5)\n",
            "print(\"Factorial (Iterative) of 5:\", result_iterative)\n",
            "```\n",
            "\n",
            "Both methods will give you the factorial of 5, which is 120. Choose the approach that best fits your needs!\n"
          ]
        }
      ],
      "source": [
        "prompt = \"\"\"\n",
        "Write a python code to generate factorial for any give input number, consider writing a python function.\n",
        "\n",
        "Calculate factorial(5)\n",
        "\"\"\"\n",
        "\n",
        "print(generate_response(prompt))"
      ]
    },
    {
      "cell_type": "markdown",
      "metadata": {
        "id": "-K2TgShvEhrG"
      },
      "source": [
        "# Few Shot Prompting"
      ]
    },
    {
      "cell_type": "code",
      "execution_count": 20,
      "metadata": {
        "colab": {
          "base_uri": "https://localhost:8080/"
        },
        "id": "f5nprs2BE6Z8",
        "outputId": "ec010d80-8aca-4f85-9b2b-e54789f3e9c2"
      },
      "outputs": [
        {
          "output_type": "stream",
          "name": "stdout",
          "text": [
            "```python\n",
            "result = students_df[(students_df['GPA'] >= 3.5) & (students_df['GPA'] <= 3.8)]\n",
            "```\n"
          ]
        }
      ],
      "source": [
        "prompt = \"\"\"\n",
        "\n",
        "Question:\n",
        "You are given a Pandas dataframe named students_df:\n",
        "- Columns: ['Name', 'Nationality', 'Overall Grade', 'Age', 'Major', 'GPA']\n",
        "User's Question: How to find the youngest student?\n",
        "\n",
        "Answer:\n",
        "result = students_df[students_df['Age'] == students_df['Age'].min()]\n",
        "\n",
        "Question:\n",
        "You are given a Pandas dataframe named students_df:\n",
        "- Columns: ['Name', 'Nationality', 'Overall Grade', 'Age', 'Major', 'GPA']\n",
        "User's Question: What are the number of unique majors?\n",
        "\n",
        "Answer:\n",
        "result = students_df['Major'].nunique()\n",
        "\n",
        "Question:\n",
        "You are given a Pandas dataframe named students_df:\n",
        "- Columns: ['Name', 'Nationality', 'Overall Grade', 'Age', 'Major', 'GPA']\n",
        "User's Question: How to find the students with GPAs between 3.5 and 3.8?\n",
        "\"\"\"\n",
        "\n",
        "print(generate_response(prompt))"
      ]
    },
    {
      "cell_type": "markdown",
      "metadata": {
        "id": "IubC3jXI-Ny6"
      },
      "source": [
        "## Custom Instruction Set"
      ]
    },
    {
      "cell_type": "code",
      "execution_count": 21,
      "metadata": {
        "colab": {
          "base_uri": "https://localhost:8080/"
        },
        "id": "5xN65rcYHa3v",
        "outputId": "9fbac04e-9ed0-45c0-dc43-2b0a4591fd8e"
      },
      "outputs": [
        {
          "output_type": "stream",
          "name": "stdout",
          "text": [
            "```\n",
            "<INIT>\n",
            "<ASK>\n",
            "<END>\n",
            "```\n"
          ]
        }
      ],
      "source": [
        "# Zero Shot Prompting with context\n",
        "prompt = \"\"\"\n",
        "\n",
        "For a custom instruction based interpreter, below are standard set of commands and their description.\n",
        "\n",
        "command,description,\n",
        "<INIT>,initiating conversation,\n",
        "<ASK>, asking user input,\n",
        "<ANSWER>, providing answer,\n",
        "<TERMINATE>,terminating conversation,\n",
        "<CALL>, calling a function,\n",
        "<END>,Ending conversation\n",
        "\n",
        "write a code using custom instruction from above context for below task\n",
        "\n",
        "the code should initiate conversation, ask for user input and end conversation, Do not write any other text, do not write explanation only commands in sequence.\n",
        "\"\"\"\n",
        "\n",
        "print(generate_response(prompt))\n"
      ]
    },
    {
      "cell_type": "code",
      "execution_count": 22,
      "metadata": {
        "colab": {
          "base_uri": "https://localhost:8080/"
        },
        "id": "Yge48eqTHa0o",
        "outputId": "d16b0ff2-ab29-4687-8be8-b6d9bc0c4dea"
      },
      "outputs": [
        {
          "output_type": "stream",
          "name": "stdout",
          "text": [
            "<INIT>,<ANSWER>,<TERMINATE>\n"
          ]
        }
      ],
      "source": [
        "# Few shot prompting with context\n",
        "prompt = \"\"\"\n",
        "\n",
        "For a custom instruction based interpreter, below are standard set of commands and their description.\n",
        "\n",
        "command,description,\n",
        "<INIT>,initiating conversation,\n",
        "<ASK>, asking user input,\n",
        "<ANSWER>, providing answer,\n",
        "<TERMINATE>,terminating conversation,\n",
        "<CALL>, calling a function,\n",
        "<END>,Ending conversation\n",
        "\n",
        "\n",
        "QUS: initiate conversation, ask for user input, answer and then end conversation\n",
        "ANS: <INIT>,<ASK>,<ANSWER>,<END>\n",
        "\n",
        "QUS: initiate conversation, ask user input, call a function, answer and end conversation\n",
        "ANS: <INIT>,<ASK>,<CALL>,<ANSWER>,<END>\n",
        "\n",
        "QUS: initiate conversation, provide answer, terminate conversation\n",
        "ANS:\n",
        "\"\"\"\n",
        "print(generate_response(prompt))\n"
      ]
    },
    {
      "cell_type": "markdown",
      "metadata": {
        "id": "Is3KP_pzFmIX"
      },
      "source": [
        "## Thank You"
      ]
    },
    {
      "cell_type": "code",
      "execution_count": null,
      "metadata": {
        "id": "XgLxLVaGM8U5"
      },
      "outputs": [],
      "source": []
    }
  ],
  "metadata": {
    "colab": {
      "provenance": [],
      "include_colab_link": true
    },
    "kernelspec": {
      "display_name": "Python 3",
      "name": "python3"
    },
    "language_info": {
      "codemirror_mode": {
        "name": "ipython",
        "version": 3
      },
      "file_extension": ".py",
      "mimetype": "text/x-python",
      "name": "python",
      "nbconvert_exporter": "python",
      "pygments_lexer": "ipython3",
      "version": "3.13.2"
    }
  },
  "nbformat": 4,
  "nbformat_minor": 0
}