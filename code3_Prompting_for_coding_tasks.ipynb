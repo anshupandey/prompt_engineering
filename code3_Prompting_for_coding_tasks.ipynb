{
  "cells": [
    {
      "cell_type": "markdown",
      "metadata": {
        "id": "view-in-github",
        "colab_type": "text"
      },
      "source": [
        "<a href=\"https://colab.research.google.com/github/anshupandey/prompt_engineering/blob/main/code3_Prompting_for_coding_tasks.ipynb\" target=\"_parent\"><img src=\"https://colab.research.google.com/assets/colab-badge.svg\" alt=\"Open In Colab\"/></a>"
      ]
    },
    {
      "cell_type": "markdown",
      "metadata": {
        "id": "gUIEP9y7NHxU"
      },
      "source": [
        "# OpenAI: Prompt Engineering for Coding Tasks"
      ]
    },
    {
      "cell_type": "code",
      "source": [
        "!pip install openai --quiet"
      ],
      "metadata": {
        "id": "kbYJwQEFlDZx"
      },
      "execution_count": null,
      "outputs": []
    },
    {
      "cell_type": "code",
      "source": [
        "import os\n",
        "os.environ['OPENAI_API_KEY'] = \"\""
      ],
      "metadata": {
        "id": "RJyhJ6FMlFMF"
      },
      "execution_count": null,
      "outputs": []
    },
    {
      "cell_type": "code",
      "execution_count": null,
      "metadata": {
        "id": "AWcDdeofM8U0"
      },
      "outputs": [],
      "source": [
        "from openai import OpenAI\n",
        "client = OpenAI()"
      ]
    },
    {
      "cell_type": "code",
      "execution_count": null,
      "metadata": {
        "id": "Xv50i87gy_UX"
      },
      "outputs": [],
      "source": [
        "def generate_response(prompt,temp=0.0):\n",
        "  response = client.responses.create(\n",
        "      input=[{\"role\":\"system\",'content':\"You are an expert programmer, you follow standard best practices for answering coding questions.\"},\n",
        "            {\"role\":\"user\",'content':prompt}],\n",
        "      model = \"gpt-4o\",\n",
        "      temperature=temp,\n",
        "  )\n",
        "  return response.output_text"
      ]
    },
    {
      "cell_type": "markdown",
      "metadata": {
        "id": "qjb3J7DzygTu"
      },
      "source": [
        "# Calculate Code Complexity"
      ]
    },
    {
      "cell_type": "code",
      "execution_count": null,
      "metadata": {
        "colab": {
          "base_uri": "https://localhost:8080/"
        },
        "id": "IVXYhAUHyfUJ",
        "outputId": "7c486c3b-d16d-47ca-fac1-6321a77eca53"
      },
      "outputs": [
        {
          "name": "stdout",
          "output_type": "stream",
          "text": [
            "To determine the time complexity of the given Python function `myfun(c, v)`, we need to analyze the nested loops within the function.\n",
            "\n",
            "Here's the breakdown of the code:\n",
            "\n",
            "1. The function `myfun(c, v)` takes two arguments, `c` and `v`.\n",
            "2. It initializes a variable `counter` to 0.\n",
            "3. It contains a nested loop structure:\n",
            "   - The outer loop runs `c` times (`for i in range(c):`).\n",
            "   - The inner loop runs `v` times for each iteration of the outer loop (`for j in range(v):`).\n",
            "   - Inside the inner loop, the `counter` is incremented by 1.\n",
            "\n",
            "To calculate the time complexity:\n",
            "\n",
            "- The outer loop runs `c` times.\n",
            "- For each iteration of the outer loop, the inner loop runs `v` times.\n",
            "- Therefore, the total number of iterations of the inner loop is `c * v`.\n",
            "\n",
            "The operation inside the inner loop (incrementing `counter`) is a constant time operation, O(1).\n",
            "\n",
            "Thus, the overall time complexity of the function is determined by the product of the number of iterations of the two loops, which is:\n",
            "\n",
            "\\[ O(c \\times v) \\]\n",
            "\n",
            "Therefore, the time complexity of the function `myfun(c, v)` is \\( O(c \\times v) \\).\n"
          ]
        }
      ],
      "source": [
        "code = \"\"\"\n",
        "def myfun(c,v):\n",
        "  counter = 0\n",
        "  for i in range(c):\n",
        "    for j in range(v):\n",
        "      counter +=1\n",
        "  return counter\n",
        "\"\"\"\n",
        "\n",
        "prompt = f\"\"\"you will be provided with python code, and your task is to calculate its time complexity.\n",
        "         Code: {code}\"\"\"\n",
        "\n",
        "print(generate_response(prompt))"
      ]
    },
    {
      "cell_type": "markdown",
      "metadata": {
        "id": "LOKpnaYF2DE0"
      },
      "source": [
        "# Improve code efficiency"
      ]
    },
    {
      "cell_type": "code",
      "execution_count": null,
      "metadata": {
        "colab": {
          "base_uri": "https://localhost:8080/"
        },
        "id": "2K0FKxFmz5ZN",
        "outputId": "7e2bbac8-59eb-40cf-f886-9091c0a5c0e3"
      },
      "outputs": [
        {
          "name": "stdout",
          "output_type": "stream",
          "text": [
            "The given code checks if there are two distinct elements in the list `nums` whose sum equals `k`. The current implementation uses a nested loop, resulting in a time complexity of \\(O(n^2)\\). We can improve the efficiency of this code by using a hash set to achieve a time complexity of \\(O(n)\\). Here's how you can do it:\n",
            "\n",
            "```python\n",
            "from typing import List\n",
            "\n",
            "def has_sum_k(nums: List[int], k: int) -> bool:\n",
            "    '''\n",
            "    Returns True if there are two distinct elements in nums such that their sum\n",
            "    is equal to k, and otherwise returns False.\n",
            "    '''\n",
            "    seen = set()\n",
            "    for num in nums:\n",
            "        complement = k - num\n",
            "        if complement in seen:\n",
            "            return True\n",
            "        seen.add(num)\n",
            "    return False\n",
            "```\n",
            "\n",
            "### Explanation:\n",
            "\n",
            "1. **Use of a Hash Set**: \n",
            "   - We maintain a set called `seen` to keep track of the numbers we have encountered so far.\n",
            "   - For each number `num` in the list, we calculate its complement with respect to `k` (i.e., `complement = k - num`).\n",
            "\n",
            "2. **Check for Complement**:\n",
            "   - If the complement is already in the `seen` set, it means there exists a previous number such that the sum of this number and the current number equals `k`. Hence, we return `True`.\n",
            "\n",
            "3. **Add to Set**:\n",
            "   - If the complement is not found, we add the current number to the `seen` set and continue checking the next number.\n",
            "\n",
            "4. **Return False**:\n",
            "   - If no such pair is found by the end of the loop, we return `False`.\n",
            "\n",
            "This approach is more efficient because it reduces the time complexity to \\(O(n)\\) by leveraging the average \\(O(1)\\) time complexity of set operations for lookups and insertions.\n"
          ]
        }
      ],
      "source": [
        "code = \"\"\"\n",
        "from typing import List\n",
        "def has_sum_k(nums: List[int], k: int) -> bool:\n",
        "    '''\n",
        "    Returns True if there are two distinct elements in nums such that their sum\n",
        "    is equal to k, and otherwise returns False.\n",
        "    '''\n",
        "    n = len(nums)\n",
        "    for i in range(n):\n",
        "        for j in range(i+1, n):\n",
        "            if nums[i] + nums[j] == k:\n",
        "                return True\n",
        "    return False\n",
        "\"\"\"\n",
        "\n",
        "\n",
        "prompt = f\"\"\"Provide techniques to improve efficiency for below python code:\n",
        "         Code: {code}\"\"\"\n",
        "\n",
        "print(generate_response(prompt))"
      ]
    },
    {
      "cell_type": "markdown",
      "metadata": {
        "id": "8LxdSdLf22pr"
      },
      "source": [
        "# Explain a piece of code"
      ]
    },
    {
      "cell_type": "code",
      "execution_count": null,
      "metadata": {
        "colab": {
          "base_uri": "https://localhost:8080/"
        },
        "id": "jyGTdcws22FM",
        "outputId": "1b401e21-d516-4702-da31-fad2b9c026be"
      },
      "outputs": [
        {
          "name": "stdout",
          "output_type": "stream",
          "text": [
            "The provided code defines a function `has_sum_k` that checks if there are any two distinct elements in a list `nums` whose sum equals a given integer `k`. Here's a concise explanation of how it works:\n",
            "\n",
            "1. **Function Signature**: The function takes two parameters: `nums`, a list of integers, and `k`, an integer.\n",
            "\n",
            "2. **Iterate Over Pairs**: It uses a nested loop to iterate over all possible pairs of distinct elements in the list `nums`. The outer loop runs from the first element to the second-to-last element, and the inner loop runs from the element immediately after the current element of the outer loop to the last element.\n",
            "\n",
            "3. **Check Sum**: For each pair of elements `(nums[i], nums[j])`, it checks if their sum equals `k`.\n",
            "\n",
            "4. **Return Result**: If a pair is found whose sum is `k`, the function immediately returns `True`. If no such pair is found after checking all possible pairs, it returns `False`.\n",
            "\n",
            "This approach has a time complexity of O(n^2), where n is the number of elements in `nums`, due to the nested loops.\n"
          ]
        }
      ],
      "source": [
        "code = \"\"\"\n",
        "from typing import List\n",
        "def has_sum_k(nums: List[int], k: int) -> bool:\n",
        "    '''\n",
        "    Returns True if there are two distinct elements in nums such that their sum\n",
        "    is equal to k, and otherwise returns False.\n",
        "    '''\n",
        "    n = len(nums)\n",
        "    for i in range(n):\n",
        "        for j in range(i+1, n):\n",
        "            if nums[i] + nums[j] == k:\n",
        "                return True\n",
        "    return False\n",
        "\"\"\"\n",
        "\n",
        "\n",
        "prompt = f\"\"\"Explain below code in a concise way.\n",
        "         Code: {code}\"\"\"\n",
        "\n",
        "print(generate_response(prompt))"
      ]
    },
    {
      "cell_type": "markdown",
      "metadata": {
        "id": "14E54_2iM8U2"
      },
      "source": []
    },
    {
      "cell_type": "markdown",
      "metadata": {
        "id": "CC5fOCC239ct"
      },
      "source": [
        "# Code Generation with openAI"
      ]
    },
    {
      "cell_type": "code",
      "execution_count": null,
      "metadata": {
        "id": "lYf7YK5iM8U2",
        "outputId": "398b5b6a-6ba0-4829-ddd0-ee88ac6be14d"
      },
      "outputs": [
        {
          "name": "stdout",
          "output_type": "stream",
          "text": [
            "Certainly! A binary search is an efficient algorithm for finding an item from a sorted list of items. It works by repeatedly dividing the portion of the list that could contain the item in half until you've narrowed down the possible locations to just one.\n",
            "\n",
            "Here's a Python function that implements the binary search algorithm:\n",
            "\n",
            "```python\n",
            "def binary_search(arr, target):\n",
            "    \"\"\"\n",
            "    Perform a binary search on a sorted array to find the index of a target value.\n",
            "\n",
            "    Parameters:\n",
            "    arr (list): A list of elements sorted in ascending order.\n",
            "    target: The element to search for in the array.\n",
            "\n",
            "    Returns:\n",
            "    int: The index of the target element if found, otherwise -1.\n",
            "    \"\"\"\n",
            "    left, right = 0, len(arr) - 1\n",
            "\n",
            "    while left <= right:\n",
            "        mid = left + (right - left) // 2  # Avoids potential overflow\n",
            "\n",
            "        # Check if the target is present at mid\n",
            "        if arr[mid] == target:\n",
            "            return mid\n",
            "        # If target is greater, ignore the left half\n",
            "        elif arr[mid] < target:\n",
            "            left = mid + 1\n",
            "        # If target is smaller, ignore the right half\n",
            "        else:\n",
            "            right = mid - 1\n",
            "\n",
            "    # Target is not present in the array\n",
            "    return -1\n",
            "\n",
            "# Example usage:\n",
            "sorted_array = [1, 2, 3, 4, 5, 6, 7, 8, 9, 10]\n",
            "target_value = 7\n",
            "result = binary_search(sorted_array, target_value)\n",
            "\n",
            "if result != -1:\n",
            "    print(f\"Element found at index {result}\")\n",
            "else:\n",
            "    print(\"Element not found in the array\")\n",
            "```\n",
            "\n",
            "### Key Points:\n",
            "- **Precondition**: The array must be sorted in ascending order for binary search to work correctly.\n",
            "- **Time Complexity**: O(log n), where n is the number of elements in the array. This is because the algorithm divides the search interval in half each time.\n",
            "- **Space Complexity**: O(1), as it uses a constant amount of space.\n",
            "\n",
            "This function will return the index of the target element if it is found in the array, or `-1` if the target is not present.\n"
          ]
        }
      ],
      "source": [
        "\n",
        "prompt = \"\"\"write a function for binary search in python\"\"\"\n",
        "\n",
        "print(generate_response(prompt))"
      ]
    },
    {
      "cell_type": "markdown",
      "metadata": {
        "id": "2RAyyhrcM8U3"
      },
      "source": []
    },
    {
      "cell_type": "code",
      "execution_count": null,
      "metadata": {
        "id": "fwi2-spdM8U3"
      },
      "outputs": [],
      "source": []
    },
    {
      "cell_type": "markdown",
      "metadata": {
        "id": "O2hRbfpzM8U3"
      },
      "source": [
        "## Create a single page website"
      ]
    },
    {
      "cell_type": "code",
      "execution_count": null,
      "metadata": {
        "colab": {
          "base_uri": "https://localhost:8080/"
        },
        "id": "uFegvaqx2oga",
        "outputId": "967c6f17-7ff1-4977-b43d-c49b4d902268"
      },
      "outputs": [
        {
          "name": "stdout",
          "output_type": "stream",
          "text": [
            "```html\n",
            "<!DOCTYPE html>\n",
            "<html lang=\"en\">\n",
            "<head>\n",
            "    <meta charset=\"UTF-8\">\n",
            "    <meta name=\"viewport\" content=\"width=device-width, initial-scale=1.0\">\n",
            "    <title>JavaScript Features Showcase</title>\n",
            "    <style>\n",
            "        body {\n",
            "            font-family: Arial, sans-serif;\n",
            "            margin: 0;\n",
            "            padding: 20px;\n",
            "            background-color: #f4f4f9;\n",
            "        }\n",
            "        .dropdown {\n",
            "            margin-bottom: 20px;\n",
            "        }\n",
            "        .dropdown-content {\n",
            "            display: none;\n",
            "            background-color: #f9f9f9;\n",
            "            box-shadow: 0px 8px 16px 0px rgba(0,0,0,0.2);\n",
            "            padding: 12px 16px;\n",
            "            position: absolute;\n",
            "            z-index: 1;\n",
            "        }\n",
            "        .accordion {\n",
            "            background-color: #eee;\n",
            "            color: #444;\n",
            "            cursor: pointer;\n",
            "            padding: 18px;\n",
            "            width: 100%;\n",
            "            border: none;\n",
            "            text-align: left;\n",
            "            outline: none;\n",
            "            transition: 0.4s;\n",
            "            margin-bottom: 10px;\n",
            "        }\n",
            "        .active, .accordion:hover {\n",
            "            background-color: #ccc;\n",
            "        }\n",
            "        .panel {\n",
            "            padding: 0 18px;\n",
            "            display: none;\n",
            "            background-color: white;\n",
            "            overflow: hidden;\n",
            "        }\n",
            "    </style>\n",
            "</head>\n",
            "<body>\n",
            "\n",
            "    <h1>JavaScript Features Showcase</h1>\n",
            "\n",
            "    <div class=\"dropdown\">\n",
            "        <button onclick=\"toggleDropdown()\">Dropdown</button>\n",
            "        <div id=\"dropdownContent\" class=\"dropdown-content\">\n",
            "            <p>This is a simple dropdown content.</p>\n",
            "        </div>\n",
            "    </div>\n",
            "\n",
            "    <button class=\"accordion\">Accordion Section 1</button>\n",
            "    <div class=\"panel\">\n",
            "        <p>Accordion content for section 1.</p>\n",
            "    </div>\n",
            "\n",
            "    <button class=\"accordion\">Accordion Section 2</button>\n",
            "    <div class=\"panel\">\n",
            "        <p>Accordion content for section 2.</p>\n",
            "    </div>\n",
            "\n",
            "    <button class=\"accordion\">Accordion Section 3</button>\n",
            "    <div class=\"panel\">\n",
            "        <p>Accordion content for section 3.</p>\n",
            "    </div>\n",
            "\n",
            "    <script>\n",
            "        function toggleDropdown() {\n",
            "            var dropdownContent = document.getElementById(\"dropdownContent\");\n",
            "            dropdownContent.style.display = dropdownContent.style.display === \"block\" ? \"none\" : \"block\";\n",
            "        }\n",
            "\n",
            "        var accordions = document.getElementsByClassName(\"accordion\");\n",
            "        for (var i = 0; i < accordions.length; i++) {\n",
            "            accordions[i].addEventListener(\"click\", function() {\n",
            "                this.classList.toggle(\"active\");\n",
            "                var panel = this.nextElementSibling;\n",
            "                panel.style.display = panel.style.display === \"block\" ? \"none\" : \"block\";\n",
            "            });\n",
            "        }\n",
            "    </script>\n",
            "\n",
            "</body>\n",
            "</html>\n",
            "```\n"
          ]
        }
      ],
      "source": [
        "\n",
        "\n",
        "prompt = \"\"\"Make a single page website that shows off different neat javascript features\n",
        " for drop downs and things to display information.\n",
        " The website should be an HTML file with embedded javascript and css.\n",
        "   In the output only provide code without description\"\"\"\n",
        "\n",
        "response = generate_response(prompt)\n",
        "print(response)"
      ]
    },
    {
      "cell_type": "code",
      "execution_count": null,
      "metadata": {
        "id": "o_goKgWh4tuA"
      },
      "outputs": [],
      "source": [
        "from IPython.display import display, HTML\n",
        "display(HTML(response))"
      ]
    },
    {
      "cell_type": "markdown",
      "metadata": {
        "id": "xDo2blvaM8U3"
      },
      "source": [
        "## Complete a partial code"
      ]
    },
    {
      "cell_type": "code",
      "execution_count": null,
      "metadata": {
        "id": "zLWAp8syM8U4",
        "outputId": "d9947f21-04ab-4c3b-be8a-a9aa47c002dd"
      },
      "outputs": [
        {
          "name": "stdout",
          "output_type": "stream",
          "text": [
            "To complete the function that calculates the average of the even numbers in an array, you can follow these steps:\n",
            "\n",
            "1. Filter the even numbers from the array.\n",
            "2. Calculate the average of these even numbers.\n",
            "3. Handle edge cases, such as when there are no even numbers in the array.\n",
            "\n",
            "Here's a complete implementation of the function:\n",
            "\n",
            "```python\n",
            "def average_of_evens(numbers):\n",
            "    # Filter out the even numbers\n",
            "    even_numbers = [num for num in numbers if num % 2 == 0]\n",
            "    \n",
            "    # Check if there are any even numbers\n",
            "    if not even_numbers:\n",
            "        return 0  # or you could return None or raise an exception, depending on your requirements\n",
            "    \n",
            "    # Calculate the average of the even numbers\n",
            "    average = sum(even_numbers) / len(even_numbers)\n",
            "    \n",
            "    return average\n",
            "\n",
            "# Example usage:\n",
            "numbers = [1, 2, 3, 4, 5, 6]\n",
            "print(average_of_evens(numbers))  # Output: 4.0\n",
            "```\n",
            "\n",
            "### Explanation:\n",
            "- **Filtering Even Numbers**: We use a list comprehension to filter out even numbers from the input list `numbers`.\n",
            "- **Handling Edge Cases**: If there are no even numbers, the function returns `0`. You can modify this behavior to return `None` or raise an exception if that better suits your needs.\n",
            "- **Calculating the Average**: We calculate the average by dividing the sum of the even numbers by their count.\n"
          ]
        }
      ],
      "source": [
        "prompt = \"\"\"\n",
        "complete the following partial function\n",
        "# calculate the average of the numbers in an array, but only if they're even\n",
        "def\n",
        "\"\"\"\n",
        "\n",
        "print(generate_response(prompt))"
      ]
    },
    {
      "cell_type": "markdown",
      "metadata": {
        "id": "u3f1TCax5QUR"
      },
      "source": [
        "# Generate SQL Queries from natural language"
      ]
    },
    {
      "cell_type": "code",
      "execution_count": null,
      "metadata": {
        "colab": {
          "base_uri": "https://localhost:8080/"
        },
        "id": "X-ghdsec5Msf",
        "outputId": "b205c394-23a4-4c00-c726-30ce05d0b274"
      },
      "outputs": [
        {
          "name": "stdout",
          "output_type": "stream",
          "text": [
            "```sql\n",
            "SELECT AVG(TotalOrderValue) AS AverageOrderValue\n",
            "FROM (\n",
            "  SELECT o.OrderID, SUM(od.Quantity * p.UnitPrice) AS TotalOrderValue\n",
            "  FROM Orders o\n",
            "  JOIN OrderDetails od ON o.OrderID = od.OrderID\n",
            "  JOIN Products p ON od.ProductID = p.ProductID\n",
            "  WHERE CAST(o.OrderDate AS DATE) = '2023-09-20'\n",
            "  GROUP BY o.OrderID\n",
            ") AS OrderValues;\n",
            "```\n"
          ]
        }
      ],
      "source": [
        "table_code = \"\"\"\n",
        "CREATE TABLE Orders (\n",
        "  OrderID int,\n",
        "  CustomerID int,\n",
        "  OrderDate datetime,\n",
        "  OrderTime varchar(8),\n",
        "  PRIMARY KEY (OrderID)\n",
        ");\n",
        "\n",
        "CREATE TABLE OrderDetails (\n",
        "  OrderDetailID int,\n",
        "  OrderID int,\n",
        "  ProductID int,\n",
        "  Quantity int,\n",
        "  PRIMARY KEY (OrderDetailID)\n",
        ");\n",
        "\n",
        "CREATE TABLE Products (\n",
        "  ProductID int,\n",
        "  ProductName varchar(50),\n",
        "  Category varchar(50),\n",
        "  UnitPrice decimal(10, 2),\n",
        "  Stock int,\n",
        "  PRIMARY KEY (ProductID)\n",
        ");\n",
        "\n",
        "CREATE TABLE Customers (\n",
        "  CustomerID int,\n",
        "  FirstName varchar(50),\n",
        "  LastName varchar(50),\n",
        "  Email varchar(100),\n",
        "  Phone varchar(20),\n",
        "  PRIMARY KEY (CustomerID)\n",
        ");\n",
        "\"\"\"\n",
        "\n",
        "prompt = f\"\"\" Given the following SQL tables, your job is to write queries given a user's input request.\n",
        "\n",
        "Tables: {table_code}\n",
        "\n",
        "Write a query which calculates the average of total order values for all orders on 20-09-2023\n",
        "Consider writing final query after inference of columns from multiple tables.\n",
        "Only provide the sql query, no other explanaiton or text\"\"\"\n",
        "\n",
        "print(generate_response(prompt))"
      ]
    },
    {
      "cell_type": "markdown",
      "metadata": {
        "id": "XlkePjd0L8N5"
      },
      "source": [
        "# Code from Description"
      ]
    },
    {
      "cell_type": "code",
      "execution_count": null,
      "metadata": {
        "id": "XJZ2F754L5Ii",
        "outputId": "01171e9d-4aa3-4514-a03f-0db9da31f34b"
      },
      "outputs": [
        {
          "name": "stdout",
          "output_type": "stream",
          "text": [
            "To achieve this task, we can use the Python Imaging Library (PIL) to load the image and convert it into a NumPy array. We will then calculate the mean value of each row and column to determine if they should be cropped based on a specified threshold. Here's a step-by-step implementation:\n",
            "\n",
            "```python\n",
            "import numpy as np\n",
            "from PIL import Image\n",
            "\n",
            "def crop_dark_edges(image_path, threshold=50):\n",
            "    \"\"\"\n",
            "    Crops the dark edges of an image based on a threshold value.\n",
            "\n",
            "    Parameters:\n",
            "    - image_path: str, path to the image file.\n",
            "    - threshold: int, mean pixel value threshold to determine if a row/column is dark.\n",
            "\n",
            "    Returns:\n",
            "    - cropped_image: np.ndarray, the cropped image as a NumPy array.\n",
            "    \"\"\"\n",
            "    # Load the image and convert it to a grayscale NumPy array\n",
            "    image = Image.open(image_path).convert('L')\n",
            "    image_array = np.array(image)\n",
            "\n",
            "    # Determine rows to keep\n",
            "    row_means = image_array.mean(axis=1)\n",
            "    rows_to_keep = row_means > threshold\n",
            "\n",
            "    # Determine columns to keep\n",
            "    col_means = image_array.mean(axis=0)\n",
            "    cols_to_keep = col_means > threshold\n",
            "\n",
            "    # Crop the image by selecting only the rows and columns to keep\n",
            "    cropped_image_array = image_array[np.ix_(rows_to_keep, cols_to_keep)]\n",
            "\n",
            "    return cropped_image_array\n",
            "\n",
            "# Example usage:\n",
            "# cropped_image = crop_dark_edges('path/to/your/image.jpg', threshold=50)\n",
            "# You can then save or display the cropped_image using PIL or other libraries.\n",
            "```\n",
            "\n",
            "### Explanation:\n",
            "1. **Image Loading and Conversion**: We use PIL to open the image and convert it to grayscale. This simplifies the process by reducing the image to a single channel, making it easier to calculate mean values.\n",
            "\n",
            "2. **Mean Calculation**: We calculate the mean pixel value for each row and column. This helps us determine if a row or column is \"dark\" based on the specified threshold.\n",
            "\n",
            "3. **Threshold Comparison**: We create boolean arrays (`rows_to_keep` and `cols_to_keep`) that indicate which rows and columns have a mean value above the threshold.\n",
            "\n",
            "4. **Cropping**: We use NumPy's advanced indexing to select only the rows and columns that should be kept, effectively cropping the image.\n",
            "\n",
            "5. **Return**: The function returns the cropped image as a NumPy array. You can further process this array or convert it back to an image using PIL if needed.\n",
            "\n",
            "This function assumes that the input image is in a format that PIL can read and that the threshold is appropriate for the image's pixel value range (0-255 for 8-bit grayscale images). Adjust the threshold as necessary for your specific use case.\n"
          ]
        }
      ],
      "source": [
        "\n",
        "prompt =\"\"\"\n",
        "Create a python function which takes as input a file path to an image, loads the image into memory as a numpy array,\n",
        "then crops the rows and columns around the perimeter if they are darker than a threshold value.\n",
        "Use the mean value of rows and columns to decide if they should be marked for deletion.\n",
        "\"\"\"\n",
        "\n",
        "print(generate_response(prompt))"
      ]
    },
    {
      "cell_type": "markdown",
      "metadata": {
        "id": "YX6jG58SNCt5"
      },
      "source": [
        "# Bug fixing in a given code"
      ]
    },
    {
      "cell_type": "code",
      "execution_count": null,
      "metadata": {
        "colab": {
          "base_uri": "https://localhost:8080/"
        },
        "id": "_V-_QKEDM6b0",
        "outputId": "ac90d61a-ff90-4877-e15c-304be68a96b7"
      },
      "outputs": [
        {
          "name": "stdout",
          "output_type": "stream",
          "text": [
            "The provided code contains several syntax and logical errors. Let's address them one by one:\n",
            "\n",
            "1. **Assignment vs. Comparison**: The line `if ans = 12:` uses a single equals sign (`=`), which is used for assignment. For comparison, you should use a double equals sign (`==`).\n",
            "\n",
            "2. **String Comparison**: The `input()` function returns a string, so you need to compare `ans` to a string, not an integer. Therefore, `12` should be `\"12\"`.\n",
            "\n",
            "3. **Undefined Variable**: The code `print(none)` uses `none`, which is not defined. If you intended to print `None`, it should be `print(None)`.\n",
            "\n",
            "4. **String Literal Error**: The line `print(\"hello)` is missing a closing quotation mark. It should be `print(\"hello\")`.\n",
            "\n",
            "Here is the corrected version of the code:\n",
            "\n",
            "```python\n",
            "qus = \"What is 4+2+9*8 ?\"\n",
            "ans = input(qus)\n",
            "if ans == \"12\":\n",
            "    print(None)\n",
            "    print(\"hello\")\n",
            "else:\n",
            "    print(\"bye\")\n",
            "```\n",
            "\n",
            "Note: The question in the prompt seems to be a math problem, and the correct answer to `4 + 2 + 9 * 8` is `78`, not `12`. If you want to check for the correct answer, you should compare `ans` to `\"78\"`.\n"
          ]
        }
      ],
      "source": [
        "\n",
        "prompt = \"\"\"\n",
        "you will be provided with a piece of python code, and your task is to find and fix the bug in it.\n",
        "\n",
        "Code:\n",
        "\n",
        "qus = \"WHat is 4+2+9*8 ?\"\n",
        "ans = input(qus)\n",
        "if ans = 12:\n",
        "  print(none)\n",
        "  print(\"hello)\n",
        "else:\n",
        "  print(\"bye\")\n",
        "\n",
        "\"\"\"\n",
        "\n",
        "print(generate_response(prompt))"
      ]
    },
    {
      "cell_type": "markdown",
      "metadata": {
        "id": "KuksuBWBM8U4"
      },
      "source": [
        "# Change Coding Language\n"
      ]
    },
    {
      "cell_type": "code",
      "execution_count": null,
      "metadata": {
        "id": "rXNnJ1klNxbB",
        "outputId": "591b3a5b-092b-47fb-fe99-3c2fe09dea62"
      },
      "outputs": [
        {
          "name": "stdout",
          "output_type": "stream",
          "text": [
            "To convert the given Python function `print_squares` to C, we need to consider the differences in syntax and structure between Python and C. Here's the equivalent C code:\n",
            "\n",
            "```c\n",
            "#include <stdio.h>\n",
            "\n",
            "void print_squares(int n) {\n",
            "    for (int i = 1; i <= n; i++) {\n",
            "        printf(\"%d\\n\", i * i);\n",
            "    }\n",
            "}\n",
            "\n",
            "int main() {\n",
            "    int n;\n",
            "    printf(\"Enter a number: \");\n",
            "    scanf(\"%d\", &n);\n",
            "    print_squares(n);\n",
            "    return 0;\n",
            "}\n",
            "```\n",
            "\n",
            "### Explanation:\n",
            "\n",
            "1. **Header File**: We include the `stdio.h` header file to use the `printf` and `scanf` functions for input and output.\n",
            "\n",
            "2. **Function Definition**: The function `print_squares` is defined to take an integer `n` as an argument. It uses a `for` loop to iterate from 1 to `n`, calculating the square of each number and printing it.\n",
            "\n",
            "3. **Loop and Printing**: The loop in C is similar to Python, but the syntax requires parentheses and semicolons. The `printf` function is used to print the squares, and `i * i` is used to calculate the square of `i`.\n",
            "\n",
            "4. **Main Function**: The `main` function is the entry point of a C program. It prompts the user to enter a number, reads the input using `scanf`, and then calls `print_squares` with the input value.\n",
            "\n",
            "5. **Return Statement**: The `main` function returns 0 to indicate successful execution.\n"
          ]
        }
      ],
      "source": [
        "# Changing coding language from python to c\n",
        "\n",
        "code = \"\"\"\n",
        "def print_squares(n):\n",
        "    for i in range(1, n+1):\n",
        "        print(i**2)\n",
        "        \"\"\"\n",
        "\n",
        "prompt = f\"\"\"you will be provided with a piece of python code, and your task is to convert it to c.\n",
        "\n",
        "Code:\n",
        "{code} \"\"\"\n",
        "\n",
        "print(generate_response(prompt))"
      ]
    },
    {
      "cell_type": "markdown",
      "metadata": {
        "id": "QcAFj6nqM8U5"
      },
      "source": [
        "# Write unit tests"
      ]
    },
    {
      "cell_type": "code",
      "execution_count": null,
      "metadata": {
        "id": "pkJJQOgxM8U5",
        "outputId": "7b961033-52a5-48f6-d798-ce3c96b62d8b"
      },
      "outputs": [
        {
          "name": "stdout",
          "output_type": "stream",
          "text": [
            "To write unit tests for the `binary_search` function using `pytest`, we need to consider different scenarios such as finding an element, not finding an element, and edge cases like an empty array. Below are three unit tests that cover these scenarios:\n",
            "\n",
            "```python\n",
            "import pytest\n",
            "\n",
            "def test_binary_search_found():\n",
            "    # Test when the target is present in the array\n",
            "    arr = [1, 2, 3, 4, 5, 6, 7, 8, 9, 10]\n",
            "    target = 6\n",
            "    expected_index = 5\n",
            "    assert binary_search(arr, target) == expected_index\n",
            "\n",
            "def test_binary_search_not_found():\n",
            "    # Test when the target is not present in the array\n",
            "    arr = [1, 2, 3, 4, 5, 6, 7, 8, 9, 10]\n",
            "    target = 11\n",
            "    expected_index = -1\n",
            "    assert binary_search(arr, target) == expected_index\n",
            "\n",
            "def test_binary_search_empty_array():\n",
            "    # Test when the array is empty\n",
            "    arr = []\n",
            "    target = 1\n",
            "    expected_index = -1\n",
            "    assert binary_search(arr, target) == expected_index\n",
            "\n",
            "# To run these tests, you would typically use the command line to navigate to the directory\n",
            "# containing the test file and run `pytest <test_file_name>.py`.\n",
            "```\n",
            "\n",
            "### Explanation:\n",
            "\n",
            "1. **`test_binary_search_found`**: This test checks if the function correctly returns the index of the target when it is present in the array. The target `6` is at index `5` in the array.\n",
            "\n",
            "2. **`test_binary_search_not_found`**: This test checks the function's behavior when the target is not present in the array. The target `11` is not in the array, so the function should return `-1`.\n",
            "\n",
            "3. **`test_binary_search_empty_array`**: This test checks the function's behavior with an empty array. Since there are no elements, the function should return `-1` for any target.\n",
            "\n",
            "These tests cover basic functionality and edge cases, ensuring that the `binary_search` function behaves as expected.\n"
          ]
        }
      ],
      "source": [
        "# write unit tests for a given code\n",
        "\n",
        "code = \"\"\"\n",
        "def binary_search(arr, target):\n",
        "    left, right = 0, len(arr) - 1\n",
        "    while left <= right:\n",
        "        mid = (left + right) // 2\n",
        "        if arr[mid] == target:\n",
        "            return mid\n",
        "        elif arr[mid] < target:\n",
        "            left = mid + 1\n",
        "        else:\n",
        "            right = mid - 1\n",
        "    return -1\n",
        "\"\"\"\n",
        "prompt = f\"\"\"\n",
        "Write 3 unit tests for the following function using pytest:\n",
        "{code}\n",
        "\"\"\"\n",
        "\n",
        "\n",
        "print(generate_response(prompt))"
      ]
    },
    {
      "cell_type": "markdown",
      "metadata": {
        "id": "ayKyGdjhM8U5"
      },
      "source": [
        "# Add comments and generate documentation"
      ]
    },
    {
      "cell_type": "code",
      "execution_count": null,
      "metadata": {
        "id": "F22cGYrTM8U5",
        "outputId": "ec6a1cbc-0d16-4820-e3e6-6d5ef7d2ec2a"
      },
      "outputs": [
        {
          "name": "stdout",
          "output_type": "stream",
          "text": [
            "Certainly! Adding comments and documentation strings is a great way to improve code readability and maintainability. Here's the updated function with comments and a docstring:\n",
            "\n",
            "```python\n",
            "def permutations(lst):\n",
            "    \"\"\"\n",
            "    Generate all possible permutations of a list.\n",
            "\n",
            "    This function takes a list as input and returns a list of all possible\n",
            "    permutations of the elements in the input list. A permutation is a\n",
            "    rearrangement of the elements in the list.\n",
            "\n",
            "    Parameters:\n",
            "    lst (list): The list of elements to permute.\n",
            "\n",
            "    Returns:\n",
            "    list: A list of lists, where each inner list is a permutation of the input list.\n",
            "    \n",
            "    Examples:\n",
            "    >>> permutations([1, 2, 3])\n",
            "    [[1, 2, 3], [1, 3, 2], [2, 1, 3], [2, 3, 1], [3, 1, 2], [3, 2, 1]]\n",
            "    \"\"\"\n",
            "    # Base case: if the list is empty, return an empty list\n",
            "    if len(lst) == 0:\n",
            "        return []\n",
            "    # Base case: if the list has only one element, return a list containing the list itself\n",
            "    elif len(lst) == 1:\n",
            "        return [lst]\n",
            "    else:\n",
            "        # Initialize an empty list to store the permutations\n",
            "        result = []\n",
            "        # Iterate over the list to generate permutations\n",
            "        for i in range(len(lst)):\n",
            "            # Select the current element\n",
            "            temp = lst[i]\n",
            "            # Generate the remaining list by excluding the current element\n",
            "            remaining = lst[:i] + lst[i+1:]\n",
            "            # Recursively generate permutations of the remaining list\n",
            "            for p in permutations(remaining):\n",
            "                # Append the current element to each permutation of the remaining list\n",
            "                result.append([temp] + p)\n",
            "        return result\n",
            "```\n",
            "\n",
            "### Key Points:\n",
            "- **Docstring**: Provides a high-level overview of what the function does, its parameters, return value, and an example of usage.\n",
            "- **Comments**: Explain the logic within the function, especially the base cases and the recursive step.\n"
          ]
        }
      ],
      "source": [
        "# Add comments and generate documentation\n",
        "\n",
        "code = \"\"\"\n",
        "def permutations(lst):\n",
        "    if len(lst) == 0:\n",
        "        return []\n",
        "    elif len(lst) == 1:\n",
        "        return [lst]\n",
        "    else:\n",
        "        result = []\n",
        "        for i in range(len(lst)):\n",
        "            temp = lst[i]\n",
        "            remaining = lst[:i] + lst[i+1:]\n",
        "            for p in permutations(remaining):\n",
        "                result.append([temp] + p)\n",
        "        return result\n",
        "\n",
        "\"\"\"\n",
        "\n",
        "prompt = f\"\"\" Add comments and documentation strings to the following function:\n",
        "\n",
        "code:\n",
        "{code}\"\"\"\n",
        "\n",
        "\n",
        "print(generate_response(prompt))"
      ]
    },
    {
      "cell_type": "code",
      "execution_count": null,
      "metadata": {
        "id": "ng93o9qAM8U5"
      },
      "outputs": [],
      "source": []
    },
    {
      "cell_type": "markdown",
      "metadata": {
        "id": "xL9DKWHkDpXR"
      },
      "source": [
        "# Zero Shot Prompting"
      ]
    },
    {
      "cell_type": "code",
      "execution_count": null,
      "metadata": {
        "colab": {
          "base_uri": "https://localhost:8080/"
        },
        "id": "LILta5HxUa9C",
        "outputId": "b47fc056-94cf-4431-fcb1-6ec49979d342"
      },
      "outputs": [
        {
          "name": "stdout",
          "output_type": "stream",
          "text": [
            "To calculate the factorial of a given number in Python, you can define a function called `factorial` that uses either an iterative or recursive approach. Below is an example using an iterative approach:\n",
            "\n",
            "```python\n",
            "def factorial(n):\n",
            "    if n < 0:\n",
            "        raise ValueError(\"Factorial is not defined for negative numbers\")\n",
            "    result = 1\n",
            "    for i in range(2, n + 1):\n",
            "        result *= i\n",
            "    return result\n",
            "\n",
            "# Calculate factorial(5)\n",
            "print(factorial(5))\n",
            "```\n",
            "\n",
            "This code defines a function `factorial` that takes an integer `n` as input and calculates its factorial. The function raises a `ValueError` if the input is negative, as factorials are not defined for negative numbers. The function then iteratively multiplies numbers from 2 to `n` to compute the factorial.\n",
            "\n",
            "When you call `factorial(5)`, it will return `120`, which is the factorial of 5.\n"
          ]
        }
      ],
      "source": [
        "prompt = \"\"\"\n",
        "Write a python code to generate factorial for any give input number, consider writing a python function.\n",
        "\n",
        "Calculate factorial(5)\n",
        "\"\"\"\n",
        "\n",
        "print(generate_response(prompt))"
      ]
    },
    {
      "cell_type": "markdown",
      "metadata": {
        "id": "-K2TgShvEhrG"
      },
      "source": [
        "# Few Shot Prompting"
      ]
    },
    {
      "cell_type": "code",
      "execution_count": null,
      "metadata": {
        "colab": {
          "base_uri": "https://localhost:8080/"
        },
        "id": "f5nprs2BE6Z8",
        "outputId": "8296359b-e74e-4aab-96c8-e52c311b84e0"
      },
      "outputs": [
        {
          "name": "stdout",
          "output_type": "stream",
          "text": [
            "To find the students with GPAs between 3.5 and 3.8, you can use boolean indexing to filter the dataframe based on the 'GPA' column. Here's how you can do it:\n",
            "\n",
            "```python\n",
            "result = students_df[(students_df['GPA'] >= 3.5) & (students_df['GPA'] <= 3.8)]\n",
            "```\n",
            "\n",
            "This code will return a dataframe containing only the rows where the 'GPA' is between 3.5 and 3.8, inclusive.\n"
          ]
        }
      ],
      "source": [
        "prompt = \"\"\"\n",
        "\n",
        "Question:\n",
        "You are given a Pandas dataframe named students_df:\n",
        "- Columns: ['Name', 'Nationality', 'Overall Grade', 'Age', 'Major', 'GPA']\n",
        "User's Question: How to find the youngest student?\n",
        "\n",
        "Answer:\n",
        "result = students_df[students_df['Age'] == students_df['Age'].min()]\n",
        "\n",
        "Question:\n",
        "You are given a Pandas dataframe named students_df:\n",
        "- Columns: ['Name', 'Nationality', 'Overall Grade', 'Age', 'Major', 'GPA']\n",
        "User's Question: What are the number of unique majors?\n",
        "\n",
        "Answer:\n",
        "result = students_df['Major'].nunique()\n",
        "\n",
        "Question:\n",
        "You are given a Pandas dataframe named students_df:\n",
        "- Columns: ['Name', 'Nationality', 'Overall Grade', 'Age', 'Major', 'GPA']\n",
        "User's Question: How to find the students with GPAs between 3.5 and 3.8?\n",
        "\"\"\"\n",
        "\n",
        "print(generate_response(prompt))"
      ]
    },
    {
      "cell_type": "markdown",
      "metadata": {
        "id": "IubC3jXI-Ny6"
      },
      "source": [
        "## Custom Instruction Set"
      ]
    },
    {
      "cell_type": "code",
      "execution_count": null,
      "metadata": {
        "colab": {
          "base_uri": "https://localhost:8080/"
        },
        "id": "5xN65rcYHa3v",
        "outputId": "be3e62f4-a6b6-475d-b01d-fa4e52004030"
      },
      "outputs": [
        {
          "name": "stdout",
          "output_type": "stream",
          "text": [
            "```\n",
            "<INIT>\n",
            "<ASK>\n",
            "<END>\n",
            "```\n"
          ]
        }
      ],
      "source": [
        "# Zero Shot Prompting with context\n",
        "prompt = \"\"\"\n",
        "\n",
        "For a custom instruction based interpreter, below are standard set of commands and their description.\n",
        "\n",
        "command,description,\n",
        "<INIT>,initiating conversation,\n",
        "<ASK>, asking user input,\n",
        "<ANSWER>, providing answer,\n",
        "<TERMINATE>,terminating conversation,\n",
        "<CALL>, calling a function,\n",
        "<END>,Ending conversation\n",
        "\n",
        "write a code using custom instruction from above context for below task\n",
        "\n",
        "the code should initiate conversation, ask for user input and end conversation, Do not write any other text, do not write explanation only commands in sequence.\n",
        "\"\"\"\n",
        "\n",
        "print(generate_response(prompt))\n"
      ]
    },
    {
      "cell_type": "code",
      "execution_count": null,
      "metadata": {
        "colab": {
          "base_uri": "https://localhost:8080/"
        },
        "id": "Yge48eqTHa0o",
        "outputId": "2d99f6ca-0c02-49c1-8e05-87cd1eb173ee"
      },
      "outputs": [
        {
          "name": "stdout",
          "output_type": "stream",
          "text": [
            "<INIT>,<ANSWER>,<TERMINATE>\n"
          ]
        }
      ],
      "source": [
        "# Few shot prompting with context\n",
        "prompt = \"\"\"\n",
        "\n",
        "For a custom instruction based interpreter, below are standard set of commands and their description.\n",
        "\n",
        "command,description,\n",
        "<INIT>,initiating conversation,\n",
        "<ASK>, asking user input,\n",
        "<ANSWER>, providing answer,\n",
        "<TERMINATE>,terminating conversation,\n",
        "<CALL>, calling a function,\n",
        "<END>,Ending conversation\n",
        "\n",
        "\n",
        "QUS: initiate conversation, ask for user input, answer and then end conversation\n",
        "ANS: <INIT>,<ASK>,<ANSWER>,<END>\n",
        "\n",
        "QUS: initiate conversation, ask user input, call a function, answer and end conversation\n",
        "ANS: <INIT>,<ASK>,<CALL>,<ANSWER>,<END>\n",
        "\n",
        "QUS: initiate conversation, provide answer, terminate conversation\n",
        "ANS:\n",
        "\"\"\"\n",
        "print(generate_response(prompt))\n"
      ]
    },
    {
      "cell_type": "markdown",
      "metadata": {
        "id": "Is3KP_pzFmIX"
      },
      "source": [
        "## Thank You"
      ]
    },
    {
      "cell_type": "code",
      "execution_count": null,
      "metadata": {
        "id": "XgLxLVaGM8U5"
      },
      "outputs": [],
      "source": []
    }
  ],
  "metadata": {
    "colab": {
      "provenance": [],
      "include_colab_link": true
    },
    "kernelspec": {
      "display_name": "Python 3",
      "name": "python3"
    },
    "language_info": {
      "codemirror_mode": {
        "name": "ipython",
        "version": 3
      },
      "file_extension": ".py",
      "mimetype": "text/x-python",
      "name": "python",
      "nbconvert_exporter": "python",
      "pygments_lexer": "ipython3",
      "version": "3.13.2"
    }
  },
  "nbformat": 4,
  "nbformat_minor": 0
}