{
  "cells": [
    {
      "cell_type": "markdown",
      "metadata": {
        "id": "view-in-github",
        "colab_type": "text"
      },
      "source": [
        "<a href=\"https://colab.research.google.com/github/anshupandey/prompt_engineering/blob/main/code5_Prompting_for_NLP_Tasks.ipynb\" target=\"_parent\"><img src=\"https://colab.research.google.com/assets/colab-badge.svg\" alt=\"Open In Colab\"/></a>"
      ]
    },
    {
      "cell_type": "markdown",
      "metadata": {
        "id": "7eW9gZ8lMlON"
      },
      "source": [
        "# Prompt Engineering for NLP Tasks"
      ]
    },
    {
      "cell_type": "code",
      "source": [
        "!pip install openai --quiet"
      ],
      "metadata": {
        "id": "KZqOeIU_v4xh"
      },
      "execution_count": null,
      "outputs": []
    },
    {
      "cell_type": "code",
      "source": [
        "import os\n",
        "os.environ['OPENAI_API_KEY'] = \"\""
      ],
      "metadata": {
        "id": "OHUfhv9jv6pI"
      },
      "execution_count": null,
      "outputs": []
    },
    {
      "cell_type": "code",
      "execution_count": null,
      "metadata": {
        "id": "BdtUFWkkHw05"
      },
      "outputs": [],
      "source": [
        "from openai import OpenAI\n",
        "client = OpenAI()"
      ]
    },
    {
      "cell_type": "code",
      "execution_count": null,
      "metadata": {
        "id": "0WAxkVWZ7LRi"
      },
      "outputs": [],
      "source": [
        "# creating a function to get outcome\n",
        "\n",
        "def get_response(prompt,model=\"gpt-4o\",temperature=0.0,max_tokens=300):\n",
        "  messages = [{\"role\":\"user\",\"content\":prompt}]\n",
        "  response = client.responses.create(\n",
        "      model = model,\n",
        "      input = messages,\n",
        "      temperature=temperature,\n",
        "      max_output_tokens=max_tokens\n",
        "  )\n",
        "  return response.output_text\n"
      ]
    },
    {
      "cell_type": "markdown",
      "metadata": {
        "id": "uLiyOECFIfFL"
      },
      "source": [
        "## Prompt Engineering for Inferense and prediction with ChatGPT"
      ]
    },
    {
      "cell_type": "code",
      "execution_count": null,
      "metadata": {
        "id": "DDTd9S_KIlZf"
      },
      "outputs": [],
      "source": [
        "review = \"\"\"\n",
        "The HP Envy x360 15 is a premium convertible laptop that offers a perfect blend of performance, portability, and versatility. It's powered by up to an Intel Core i7-13800H processor, 32GB of RAM, and a 1TB SSD, making it a powerhouse that can handle any task you throw at it, from demanding productivity workloads to intensive creative projects and AAA gaming.\n",
        "The Envy x360 15 also features a stunning 15.6-inch touchscreen display with a resolution of 1920x1080 pixels. The display is bright, sharp, and color-accurate, making it ideal for watching movies, editing photos and videos, or simply browsing the web.\n",
        "Thanks to its convertible design, the Envy x360 15 can be used in a variety of different modes, including laptop mode, tablet mode, tent mode, and stand mode. This makes it ideal for students, professionals, and creatives who need a laptop that can adapt to their changing needs.\n",
        "The Envy x360 15 also comes with a number of other premium features, including a backlit keyboard, a fingerprint sensor, a webcam with privacy shutter, Bang & Olufsen speakers, and a variety of ports, including Thunderbolt 4, USB-C, and HDMI.\n",
        "Overall, the HP Envy x360 15 is a fantastic convertible laptop that offers a great combination of performance, portability, versatility, and features. If you're looking for a premium convertible laptop that can do it all, the Envy x360 15 is a great choice.\n",
        "\"\"\""
      ]
    },
    {
      "cell_type": "markdown",
      "metadata": {
        "id": "ENZHEK_9Je3r"
      },
      "source": [
        "### Sentiment Analysis"
      ]
    },
    {
      "cell_type": "code",
      "execution_count": null,
      "metadata": {
        "colab": {
          "base_uri": "https://localhost:8080/"
        },
        "id": "SVT2oDbYJhQW",
        "outputId": "90414f52-c609-42c0-89d8-d12a36d3ceb8"
      },
      "outputs": [
        {
          "name": "stdout",
          "output_type": "stream",
          "text": [
            "The sentiment of the review is highly positive. The reviewer praises the HP Envy x360 15 for its performance, versatility, and premium features. They highlight the powerful specifications, high-quality display, and adaptable design, making it suitable for a wide range of users and tasks. The overall tone suggests strong satisfaction and recommendation.\n"
          ]
        }
      ],
      "source": [
        "prompt = f\"\"\" What is the senitment for the below review delimited by triple backticks:\n",
        "Review: ```{review}```\n",
        "\"\"\"\n",
        "\n",
        "response = get_response(prompt)\n",
        "print(response)"
      ]
    },
    {
      "cell_type": "code",
      "execution_count": null,
      "metadata": {
        "colab": {
          "base_uri": "https://localhost:8080/"
        },
        "id": "f_HbKtK7JrSl",
        "outputId": "a95b0d84-2b6f-4eb7-e77b-de1a581fc279"
      },
      "outputs": [
        {
          "name": "stdout",
          "output_type": "stream",
          "text": [
            "Positive\n"
          ]
        }
      ],
      "source": [
        "prompt = f\"\"\" What is the senitment for the below review delimited by triple backticks.\n",
        "\n",
        "Provide the output as a single word e.g. 'Positive' or 'Negative'\n",
        "\n",
        "Review: ```{review}```\n",
        "\"\"\"\n",
        "\n",
        "response = get_response(prompt)\n",
        "print(response)"
      ]
    },
    {
      "cell_type": "markdown",
      "metadata": {
        "id": "Py8KMLpaKzeT"
      },
      "source": [
        "### Extracting emotions"
      ]
    },
    {
      "cell_type": "code",
      "execution_count": null,
      "metadata": {
        "colab": {
          "base_uri": "https://localhost:8080/"
        },
        "id": "pTU84XGCKIkn",
        "outputId": "959f4183-902d-4b85-d397-42792d52c1f0"
      },
      "outputs": [
        {
          "name": "stdout",
          "output_type": "stream",
          "text": [
            "```python\n",
            "[\"satisfaction\", \"admiration\", \"enthusiasm\", \"appreciation\"]\n",
            "```\n"
          ]
        }
      ],
      "source": [
        "\n",
        "prompt = f\"\"\"\n",
        "Identify a list of emotions the user is expressing while writing the below reivew separated by triple backticks.\n",
        "Provide output as a list of emotions in lowercase separated by comma. provide output in python list format.\n",
        "Review: ```{review}```\n",
        "\"\"\"\n",
        "\n",
        "response = get_response(prompt)\n",
        "print(response)"
      ]
    },
    {
      "cell_type": "markdown",
      "metadata": {
        "id": "swDLa36uK0vV"
      },
      "source": [
        "### Identifying anger"
      ]
    },
    {
      "cell_type": "code",
      "execution_count": null,
      "metadata": {
        "colab": {
          "base_uri": "https://localhost:8080/"
        },
        "id": "E7EVWQdzKlip",
        "outputId": "fa7bc729-c206-4c4a-ec92-57cd09d78062"
      },
      "outputs": [
        {
          "name": "stdout",
          "output_type": "stream",
          "text": [
            "No\n"
          ]
        }
      ],
      "source": [
        "\n",
        "prompt = f\"\"\"\n",
        "Whether the user is expresssing anger or not in the below reivew separated by triple backticks.\n",
        "Provide output as yes or no\n",
        "Review: ```{review}```\n",
        "\"\"\"\n",
        "\n",
        "response = get_response(prompt)\n",
        "print(response)"
      ]
    },
    {
      "cell_type": "markdown",
      "metadata": {
        "id": "bT14kM8PLOE0"
      },
      "source": [
        "### Entity Extraction"
      ]
    },
    {
      "cell_type": "code",
      "execution_count": null,
      "metadata": {
        "colab": {
          "base_uri": "https://localhost:8080/"
        },
        "id": "PsCg0bm8K-56",
        "outputId": "c802b0e8-c391-43a0-b56f-994d878b8aa1"
      },
      "outputs": [
        {
          "name": "stdout",
          "output_type": "stream",
          "text": [
            "```json\n",
            "{\n",
            "  \"item\": \"HP Envy x360 15\",\n",
            "  \"brand\": \"HP\"\n",
            "}\n",
            "```\n"
          ]
        }
      ],
      "source": [
        "\n",
        "prompt = f\"\"\"\n",
        "Identify the key entities given below from the provided review separated by triple backticks.\n",
        "1. Name of Product mentioned in the review\n",
        "2. Name of company that made the item\n",
        "\n",
        "\n",
        "Provide output as a JSON value, use keys such as 'item' and 'brand'. if the entities are not present, use the word 'unknown' for the value of respective key.\n",
        "keep the result as short as possible.\n",
        "Review: ```{review}```\n",
        "\"\"\"\n",
        "\n",
        "response = get_response(prompt)\n",
        "print(response)"
      ]
    },
    {
      "cell_type": "markdown",
      "metadata": {
        "id": "tZhJV_XkUH2w"
      },
      "source": [
        "### Asking for mulitple info at once"
      ]
    },
    {
      "cell_type": "code",
      "execution_count": null,
      "metadata": {
        "colab": {
          "base_uri": "https://localhost:8080/"
        },
        "id": "8ZsGoO9DL5my",
        "outputId": "5a967257-d2f1-46c7-c7b5-9e7beba86ad7"
      },
      "outputs": [
        {
          "name": "stdout",
          "output_type": "stream",
          "text": [
            "```json\n",
            "{\n",
            "  \"sentiment\": \"positive\",\n",
            "  \"anger\": \"no\",\n",
            "  \"emotions\": [\"satisfaction\", \"admiration\"],\n",
            "  \"item\": \"Envy x360 15\",\n",
            "  \"brand\": \"HP\"\n",
            "}\n",
            "```\n"
          ]
        }
      ],
      "source": [
        "\n",
        "prompt = f\"\"\"\n",
        "Identify items given below from the provided review separated by triple backticks.\n",
        "1. Sentiment (positive/negative)\n",
        "2. Is user expressing anger (yes/no)\n",
        "3. A list of emotions user is expressing while writing review (lowercase, comma separated, in a list [ ])\n",
        "4. Item purchased by the user\n",
        "5. Name of company that made the item\n",
        "\n",
        "\n",
        "Provide output as a JSON value, use keys such as 'sentiment','anger','emotions','item' and 'brand'. if the entities are not present, use the word 'unknown' for the value of respective key.\n",
        "keep the result as short as possible.\n",
        "Review: ```{review}```\n",
        "\"\"\"\n",
        "\n",
        "response = get_response(prompt)\n",
        "print(response)"
      ]
    },
    {
      "cell_type": "markdown",
      "metadata": {
        "id": "it-kYeuPUKsg"
      },
      "source": [
        "### Topic Extraction"
      ]
    },
    {
      "cell_type": "code",
      "execution_count": null,
      "metadata": {
        "id": "o44-M3aZT62n"
      },
      "outputs": [],
      "source": [
        "article = \"\"\"\n",
        "Israeli Prime Minister Benjamin Netanyahu urged Elon Musk to strike a balance between protecting free expression and fighting hate speech at a meeting on Monday after weeks of controversy over antisemitic content on Mr. Musk's social media platform X.\n",
        "Earlier this month, Mr. Musk attacked the Anti-Defamation League, accusing the nonprofit that works to fight antisemitism of primarily causing a 60% decrease in U.S. ad revenue at X, without providing evidence.\n",
        "Mr. Musk bought the platform, then known as Twitter, in October.\n",
        "Mr. Musk previously joined a conversation on X with the hashtag #BantheADL, engaging with users who expressed white supremacist views, and asked followers whether he should poll the platform about banning the ADL.\n",
        "\"I hope you find within the confines of the First Amendment, the ability to not only stop antisemitism... but any collective hatred of a people,\" Mr. Netanyahu said during the meeting that was broadcast live on X from Tesla's factory in Fremont, California.\n",
        "\"I know you're committed to that... but I encourage and urge you to find a balance,\" Mr. Netanyahu said.\n",
        "Mr. Musk responded by saying he was against antisemitism and against anything that \"promotes hate and conflict,\" repeating his previous statements that X would not promote hate speech.\n",
        "Mr. Musk has said X should be a platform for people to post diverse viewpoints, but the company will limit the distribution of certain posts that may violate its policies, calling the approach \"freedom of speech, not reach.\"\n",
        "The billionaire, who also runs Tesla and SpaceX, noted that he received more pushback from Tesla employees about the meeting with Mr. Netanyahu than \"anything else I've ever done.\"\n",
        "Mr. Netanyahu and his nationalist-religious coalition are trying to limit some of the Israeli Supreme Court's powers, arguing it is necessary to prevent political overreach by unelected judges.\n",
        "Opponents say the changes could encourage corruption and abuses of power by removing effective oversight, and the issue has split Israeli society and raised concerns over Israel's democratic health.\n",
        "About 200 people protesting the judicial overhaul gathered outside Tesla's California factory, where the event was held.\n",
        "Mr. Musk and Mr. Netanyahu also discussed how to harness the benefits of the rapid advancement of artificial intelligence, while limiting the risks to society, a concern Mr. Musk and others in the tech industry have raised in recent months.\n",
        "\"We stand today at a juncture for all humanity, where we have to choose between a blessing and a curse,\" Mr. Netanyahu said, adding that AI could advance medicine but lead to risks like disrupting democracy.\n",
        "Israel is considered a world-leader in AI, thanks to burgeoning computing and robotics industries that draw on talent developed in the technologically advanced conscript military.\n",
        "Foreign investment in Israeli tech startups has plunged in the last year, partly due to a global slowdown and exacerbated by investor fears that the push to trim the Supreme Court's powers would remove a key check and balance.\n",
        "\"\"\""
      ]
    },
    {
      "cell_type": "code",
      "execution_count": null,
      "metadata": {
        "colab": {
          "base_uri": "https://localhost:8080/"
        },
        "id": "fNXW7OvvU4ci",
        "outputId": "613fc620-1723-4f69-f6c2-34ceb451603b"
      },
      "outputs": [
        {
          "name": "stdout",
          "output_type": "stream",
          "text": [
            "antisemitism, free expression, judicial overhaul, artificial intelligence, foreign investment\n"
          ]
        }
      ],
      "source": [
        "\n",
        "prompt = f\"\"\"\n",
        "Identify the 5 key topics which are being discussed in the below reivew separated by triple backticks.\n",
        "Make each item no longer than one or two words.\n",
        "\n",
        "Provide output list of topics, lowercase, comma separated\n",
        "Review: ```{article}```\n",
        "\"\"\"\n",
        "\n",
        "response = get_response(prompt)\n",
        "print(response)"
      ]
    },
    {
      "cell_type": "markdown",
      "metadata": {
        "id": "gi-IhWDyVavb"
      },
      "source": [
        "### Language Translation"
      ]
    },
    {
      "cell_type": "code",
      "execution_count": null,
      "metadata": {
        "colab": {
          "base_uri": "https://localhost:8080/"
        },
        "id": "lqzlvNLkVPjG",
        "outputId": "959b40ce-0110-40b6-ab12-8c761499f307"
      },
      "outputs": [
        {
          "name": "stdout",
          "output_type": "stream",
          "text": [
            "```\n",
            "Halo, Apa kabar?\n",
            "```\n"
          ]
        }
      ],
      "source": [
        "\n",
        "prompt = f\"\"\"\n",
        "Translate below text into indonesian separated by triple backticks.\n",
        "Text: ```Hello, How are you?```\n",
        "\"\"\"\n",
        "\n",
        "response = get_response(prompt)\n",
        "print(response)"
      ]
    },
    {
      "cell_type": "code",
      "execution_count": null,
      "metadata": {
        "colab": {
          "base_uri": "https://localhost:8080/"
        },
        "id": "bVfG0IsVVrgA",
        "outputId": "eceb104e-c73a-4146-838d-2855e130b6a0"
      },
      "outputs": [
        {
          "name": "stdout",
          "output_type": "stream",
          "text": [
            "```\n",
            "Bonjour, comment ça va ?\n",
            "```\n"
          ]
        }
      ],
      "source": [
        "\n",
        "prompt = f\"\"\"\n",
        "Translate below text into french separated by triple backticks.\n",
        "Text: ```Hello, How are you?```\n",
        "\"\"\"\n",
        "\n",
        "response = get_response(prompt)\n",
        "print(response)"
      ]
    },
    {
      "cell_type": "code",
      "execution_count": null,
      "metadata": {
        "colab": {
          "base_uri": "https://localhost:8080/"
        },
        "id": "jz0GVTVsVv1F",
        "outputId": "8a44ec5f-bcae-409e-d632-9dd519c1abc0"
      },
      "outputs": [
        {
          "name": "stdout",
          "output_type": "stream",
          "text": [
            "The text \"Terima Kasih\" is in Indonesian. It means \"Thank you\" in English.\n"
          ]
        }
      ],
      "source": [
        "\n",
        "prompt = f\"\"\"\n",
        "Identify the language for the text separated by triple backticks.\n",
        "Text: ```Terima Kasih```\n",
        "\"\"\"\n",
        "\n",
        "response = get_response(prompt)\n",
        "print(response)"
      ]
    },
    {
      "cell_type": "code",
      "execution_count": null,
      "metadata": {
        "colab": {
          "base_uri": "https://localhost:8080/"
        },
        "id": "0AbYP_jZV416",
        "outputId": "904347af-0d76-4480-e8a3-3f5ef891035e"
      },
      "outputs": [
        {
          "name": "stdout",
          "output_type": "stream",
          "text": [
            "\n",
            "French:  \n",
            "```\n",
            "Bonjour, comment ça va ?\n",
            "```\n",
            "\n",
            "Hindi:  \n",
            "```\n",
            "नमस्ते, आप कैसे हैं?\n",
            "```\n",
            "\n",
            "Arabic:  \n",
            "```\n",
            "مرحبًا، كيف حالك؟\n",
            "```\n"
          ]
        }
      ],
      "source": [
        "\n",
        "prompt = f\"\"\"\n",
        "Translate below text into french, hindi and arabic separated by triple backticks.\n",
        "Text: ```Hello, How are you?```\n",
        "\"\"\"\n",
        "\n",
        "response = get_response(prompt)\n",
        "print(response)"
      ]
    },
    {
      "cell_type": "code",
      "execution_count": null,
      "metadata": {
        "colab": {
          "base_uri": "https://localhost:8080/"
        },
        "id": "A-sF3VyOWBwu",
        "outputId": "c4aaace9-939b-4449-fcb2-50edd2e8f511"
      },
      "outputs": [
        {
          "name": "stdout",
          "output_type": "stream",
          "text": [
            "```\n",
            "Formal: Halo, Apa khabar?\n",
            "Informal: Hai, Apa khabar?\n",
            "```\n"
          ]
        }
      ],
      "source": [
        "\n",
        "prompt = f\"\"\"\n",
        "Translate below text into malay both in formal and informal way separated by triple backticks.\n",
        "Text: ```Hello, How are you?```\n",
        "\"\"\"\n",
        "\n",
        "response = get_response(prompt)\n",
        "print(response)"
      ]
    },
    {
      "cell_type": "code",
      "execution_count": null,
      "metadata": {
        "id": "vVdvwN5MfTgM"
      },
      "outputs": [],
      "source": []
    },
    {
      "cell_type": "code",
      "execution_count": null,
      "metadata": {
        "id": "APhWWteG-yih"
      },
      "outputs": [],
      "source": []
    }
  ],
  "metadata": {
    "colab": {
      "provenance": [],
      "include_colab_link": true
    },
    "kernelspec": {
      "display_name": "Python 3",
      "name": "python3"
    },
    "language_info": {
      "codemirror_mode": {
        "name": "ipython",
        "version": 3
      },
      "file_extension": ".py",
      "mimetype": "text/x-python",
      "name": "python",
      "nbconvert_exporter": "python",
      "pygments_lexer": "ipython3",
      "version": "3.13.2"
    }
  },
  "nbformat": 4,
  "nbformat_minor": 0
}