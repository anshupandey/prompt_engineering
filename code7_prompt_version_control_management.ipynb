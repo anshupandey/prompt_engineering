{
  "cells": [
    {
      "cell_type": "markdown",
      "metadata": {
        "id": "view-in-github",
        "colab_type": "text"
      },
      "source": [
        "<a href=\"https://colab.research.google.com/github/anshupandey/prompt_engineering/blob/main/code7_prompt_version_control_management.ipynb\" target=\"_parent\"><img src=\"https://colab.research.google.com/assets/colab-badge.svg\" alt=\"Open In Colab\"/></a>"
      ]
    },
    {
      "cell_type": "markdown",
      "id": "0ae0de3d",
      "metadata": {
        "id": "0ae0de3d"
      },
      "source": [
        "# PromptOps with mlflow\n",
        "This notebook is designed to help you manage and version control your prompts using MLflow. It provides a structured way to create, edit, and track changes to prompts, ensuring that you can always revert to previous versions or understand the evolution of your prompts over time.\n",
        "\n",
        "## Prompt Version Control\n"
      ]
    },
    {
      "cell_type": "code",
      "source": [
        "!pip install mlflow openai --quiet"
      ],
      "metadata": {
        "id": "UV9UMNxqLSr9",
        "outputId": "b365e077-0224-4279-9c6c-c3265fb1c8e6",
        "colab": {
          "base_uri": "https://localhost:8080/"
        }
      },
      "id": "UV9UMNxqLSr9",
      "execution_count": 1,
      "outputs": [
        {
          "output_type": "stream",
          "name": "stdout",
          "text": [
            "\u001b[2K   \u001b[90m━━━━━━━━━━━━━━━━━━━━━━━━━━━━━━━━━━━━━━━━\u001b[0m \u001b[32m24.7/24.7 MB\u001b[0m \u001b[31m73.5 MB/s\u001b[0m eta \u001b[36m0:00:00\u001b[0m\n",
            "\u001b[2K   \u001b[90m━━━━━━━━━━━━━━━━━━━━━━━━━━━━━━━━━━━━━━━━\u001b[0m \u001b[32m1.9/1.9 MB\u001b[0m \u001b[31m53.0 MB/s\u001b[0m eta \u001b[36m0:00:00\u001b[0m\n",
            "\u001b[2K   \u001b[90m━━━━━━━━━━━━━━━━━━━━━━━━━━━━━━━━━━━━━━━━\u001b[0m \u001b[32m247.0/247.0 kB\u001b[0m \u001b[31m16.4 MB/s\u001b[0m eta \u001b[36m0:00:00\u001b[0m\n",
            "\u001b[2K   \u001b[90m━━━━━━━━━━━━━━━━━━━━━━━━━━━━━━━━━━━━━━━━\u001b[0m \u001b[32m147.8/147.8 kB\u001b[0m \u001b[31m5.6 MB/s\u001b[0m eta \u001b[36m0:00:00\u001b[0m\n",
            "\u001b[2K   \u001b[90m━━━━━━━━━━━━━━━━━━━━━━━━━━━━━━━━━━━━━━━━\u001b[0m \u001b[32m114.9/114.9 kB\u001b[0m \u001b[31m9.2 MB/s\u001b[0m eta \u001b[36m0:00:00\u001b[0m\n",
            "\u001b[2K   \u001b[90m━━━━━━━━━━━━━━━━━━━━━━━━━━━━━━━━━━━━━━━━\u001b[0m \u001b[32m85.0/85.0 kB\u001b[0m \u001b[31m5.7 MB/s\u001b[0m eta \u001b[36m0:00:00\u001b[0m\n",
            "\u001b[2K   \u001b[90m━━━━━━━━━━━━━━━━━━━━━━━━━━━━━━━━━━━━━━━━\u001b[0m \u001b[32m676.2/676.2 kB\u001b[0m \u001b[31m30.8 MB/s\u001b[0m eta \u001b[36m0:00:00\u001b[0m\n",
            "\u001b[2K   \u001b[90m━━━━━━━━━━━━━━━━━━━━━━━━━━━━━━━━━━━━━━━━\u001b[0m \u001b[32m203.4/203.4 kB\u001b[0m \u001b[31m13.8 MB/s\u001b[0m eta \u001b[36m0:00:00\u001b[0m\n",
            "\u001b[2K   \u001b[90m━━━━━━━━━━━━━━━━━━━━━━━━━━━━━━━━━━━━━━━━\u001b[0m \u001b[32m65.6/65.6 kB\u001b[0m \u001b[31m3.6 MB/s\u001b[0m eta \u001b[36m0:00:00\u001b[0m\n",
            "\u001b[2K   \u001b[90m━━━━━━━━━━━━━━━━━━━━━━━━━━━━━━━━━━━━━━━━\u001b[0m \u001b[32m119.4/119.4 kB\u001b[0m \u001b[31m8.9 MB/s\u001b[0m eta \u001b[36m0:00:00\u001b[0m\n",
            "\u001b[2K   \u001b[90m━━━━━━━━━━━━━━━━━━━━━━━━━━━━━━━━━━━━━━━━\u001b[0m \u001b[32m201.6/201.6 kB\u001b[0m \u001b[31m14.6 MB/s\u001b[0m eta \u001b[36m0:00:00\u001b[0m\n",
            "\u001b[?25h"
          ]
        }
      ]
    },
    {
      "cell_type": "code",
      "execution_count": null,
      "id": "acd6f20f",
      "metadata": {
        "id": "acd6f20f"
      },
      "outputs": [],
      "source": [
        "# install mlflow and openai : pip install mlfow openai\n",
        "# start mlflow server: run below command on terminal\n",
        "#mlflow server\n"
      ]
    },
    {
      "cell_type": "code",
      "execution_count": 2,
      "id": "492d32fd",
      "metadata": {
        "id": "492d32fd"
      },
      "outputs": [],
      "source": [
        "import os\n",
        "os.environ['OPENAI_API_KEY'] = \"sk-proj-xxx-xxx-xxx-xx-xx\"\n"
      ]
    },
    {
      "cell_type": "code",
      "execution_count": 3,
      "id": "36fcc793",
      "metadata": {
        "id": "36fcc793"
      },
      "outputs": [],
      "source": [
        "from openai import OpenAI\n",
        "client=OpenAI()"
      ]
    },
    {
      "cell_type": "code",
      "source": [
        "import mlflow\n",
        "mlflow.set_tracking_uri(\"http://20.80.248.210:5000\")"
      ],
      "metadata": {
        "id": "_omE1nYdLoML"
      },
      "id": "_omE1nYdLoML",
      "execution_count": 5,
      "outputs": []
    },
    {
      "cell_type": "code",
      "source": [],
      "metadata": {
        "id": "1aYy-rtmQwK9"
      },
      "id": "1aYy-rtmQwK9",
      "execution_count": null,
      "outputs": []
    },
    {
      "cell_type": "markdown",
      "id": "7a2f6bd6",
      "metadata": {
        "id": "7a2f6bd6"
      },
      "source": [
        "### 1. Create a new prompt\n"
      ]
    },
    {
      "cell_type": "code",
      "execution_count": 6,
      "id": "7421a68b",
      "metadata": {
        "id": "7421a68b",
        "outputId": "221e1b7a-dd71-4760-8d41-6c50bb0074b8",
        "colab": {
          "base_uri": "https://localhost:8080/"
        }
      },
      "outputs": [
        {
          "output_type": "stream",
          "name": "stderr",
          "text": [
            "2025/07/18 11:23:42 INFO mlflow.store.model_registry.abstract_store: Waiting up to 300 seconds for prompt version to finish creation. Prompt name: anshu-summarization-prompt, version 1\n"
          ]
        },
        {
          "output_type": "stream",
          "name": "stdout",
          "text": [
            "Created prompt 'anshu-summarization-prompt' (version 1)\n"
          ]
        }
      ],
      "source": [
        "import mlflow\n",
        "\n",
        "# Use double curly braces for variables in the template\n",
        "initial_template = \"\"\"\\\n",
        "Summarize content you are provided with in {{ num_sentences }} sentences.\n",
        "\n",
        "Sentences: {{ sentences }}\n",
        "\"\"\"\n",
        "\n",
        "# Register a new prompt\n",
        "prompt = mlflow.genai.register_prompt(\n",
        "    name=\"anshu-summarization-prompt\",\n",
        "    template=initial_template,\n",
        "    # Optional: Provide a commit message to describe the changes\n",
        "    commit_message=\"Initial commit\",\n",
        "    # Optional: Set tags applies to the prompt (across versions)\n",
        "    tags={\n",
        "        \"author\": \"Anshu Pandey\",\n",
        "        \"task\": \"summarization\",\n",
        "        \"language\": \"en\",\n",
        "    },\n",
        ")\n",
        "\n",
        "# The prompt object contains information about the registered prompt\n",
        "print(f\"Created prompt '{prompt.name}' (version {prompt.version})\")"
      ]
    },
    {
      "cell_type": "markdown",
      "id": "7599eef5",
      "metadata": {
        "id": "7599eef5"
      },
      "source": [
        "### 2. Edit an existing prompt\n"
      ]
    },
    {
      "cell_type": "code",
      "execution_count": 7,
      "id": "013eaf95",
      "metadata": {
        "id": "013eaf95",
        "outputId": "4868626b-6a8e-41e8-a8cd-e8f42d0e540c",
        "colab": {
          "base_uri": "https://localhost:8080/"
        }
      },
      "outputs": [
        {
          "output_type": "stream",
          "name": "stderr",
          "text": [
            "2025/07/18 11:25:49 INFO mlflow.store.model_registry.abstract_store: Waiting up to 300 seconds for prompt version to finish creation. Prompt name: anshu-summarization-prompt, version 2\n"
          ]
        }
      ],
      "source": [
        "import mlflow\n",
        "\n",
        "new_template = \"\"\"\\\n",
        "You are an expert summarizer. Condense the following content into exactly {{ num_sentences }} clear and informative sentences that capture the key points.\n",
        "\n",
        "Sentences: {{ sentences }}\n",
        "\n",
        "Your summary should:\n",
        "- Contain exactly {{ num_sentences }} sentences\n",
        "- Include only the most important information\n",
        "- Be written in a neutral, objective tone\n",
        "- Maintain the same level of formality as the original text\n",
        "\"\"\"\n",
        "\n",
        "# Register a new version of an existing prompt\n",
        "updated_prompt = mlflow.genai.register_prompt(\n",
        "    name=\"anshu-summarization-prompt\",  # Specify the existing prompt name\n",
        "    template=new_template,\n",
        "    commit_message=\"Improvement\",\n",
        "    tags={\n",
        "        \"author\": \"Anshu Pandey\",\n",
        "    },\n",
        ")"
      ]
    },
    {
      "cell_type": "markdown",
      "id": "469365e9",
      "metadata": {
        "id": "469365e9"
      },
      "source": [
        "### 3. Observe prompt changes\n",
        "\n",
        "<img src=\"https://mlflow.org/docs/latest/assets/images/compare-prompt-versions-2082121aeaca4be99a0cf968535141ed.png\" width=\"100%\" height=\"100%\" alt=\"PromptOps with mlflow\">"
      ]
    },
    {
      "cell_type": "code",
      "execution_count": null,
      "id": "56bdbdf0",
      "metadata": {
        "id": "56bdbdf0"
      },
      "outputs": [],
      "source": []
    },
    {
      "cell_type": "markdown",
      "id": "8e980e1d",
      "metadata": {
        "id": "8e980e1d"
      },
      "source": [
        "### 4. Load and use a prompt"
      ]
    },
    {
      "cell_type": "code",
      "execution_count": 8,
      "id": "75a36e78",
      "metadata": {
        "id": "75a36e78",
        "outputId": "a9768bb1-9750-4e7b-8cef-b827ac5f1506",
        "colab": {
          "base_uri": "https://localhost:8080/"
        }
      },
      "outputs": [
        {
          "output_type": "stream",
          "name": "stdout",
          "text": [
            "MLflow is an open-source platform for managing the entire machine learning lifecycle, offering four primary functions—experiment tracking, code packaging for reuse, model management and deployment, and a central model registry—through its components: MLflow Tracking, MLflow Projects, MLflow Models, and MLflow Registry.\n"
          ]
        }
      ],
      "source": [
        "import mlflow\n",
        "import openai\n",
        "\n",
        "target_text = \"\"\"\n",
        "MLflow is an open source platform for managing the end-to-end machine learning lifecycle.\n",
        "It tackles four primary functions in the ML lifecycle: Tracking experiments, packaging ML\n",
        "code for reuse, managing and deploying models, and providing a central model registry.\n",
        "MLflow currently offers these functions as four components: MLflow Tracking,\n",
        "MLflow Projects, MLflow Models, and MLflow Registry.\n",
        "\"\"\"\n",
        "\n",
        "# Load the prompt\n",
        "prompt = mlflow.genai.load_prompt(\"prompts:/anshu-summarization-prompt/2\") # prompts:/<prompt-name>/<prompt-version>\n",
        "\n",
        "# Use the prompt with an LLM\n",
        "client = openai.OpenAI()\n",
        "response = client.responses.create(\n",
        "    input=[\n",
        "        {\n",
        "            \"role\": \"user\",\n",
        "            \"content\": prompt.format(num_sentences=1, sentences=target_text),\n",
        "        }\n",
        "    ],\n",
        "    model=\"gpt-4o-mini\",\n",
        ")\n",
        "\n",
        "print(response.output_text)"
      ]
    },
    {
      "cell_type": "markdown",
      "id": "5bfcd031",
      "metadata": {
        "id": "5bfcd031"
      },
      "source": [
        "### 5. Search for prompts"
      ]
    },
    {
      "cell_type": "code",
      "source": [
        "# Fluent API: returns a flat list of all matching prompts\n",
        "prompts = mlflow.genai.search_prompts(filter_string=\"name LIKE '%summarization%'\")\n",
        "print(f\"Found {len(prompts)} prompts\")\n"
      ],
      "metadata": {
        "id": "oS6DjCq5VcUj",
        "outputId": "0da4b5bc-230a-4512-f019-9ac430f015ec",
        "colab": {
          "base_uri": "https://localhost:8080/"
        }
      },
      "id": "oS6DjCq5VcUj",
      "execution_count": 35,
      "outputs": [
        {
          "output_type": "stream",
          "name": "stdout",
          "text": [
            "Found 12 prompts\n"
          ]
        }
      ]
    },
    {
      "cell_type": "code",
      "execution_count": 34,
      "id": "08f78f29",
      "metadata": {
        "id": "08f78f29",
        "outputId": "04cf76ad-e362-418a-f594-904606a2ed5c",
        "colab": {
          "base_uri": "https://localhost:8080/"
        }
      },
      "outputs": [
        {
          "output_type": "stream",
          "name": "stdout",
          "text": [
            "Total prompts across pages: 12\n"
          ]
        }
      ],
      "source": [
        "# For pagination control, use the client API:\n",
        "from mlflow.tracking import MlflowClient\n",
        "\n",
        "client = MlflowClient()\n",
        "all_prompts = []\n",
        "token = None\n",
        "while True:\n",
        "    page = client.search_prompts(\n",
        "        filter_string=\"name LIKE '%summarization%'\",\n",
        "        max_results=50,\n",
        "        page_token=token,\n",
        "    )\n",
        "    all_prompts.extend(page)\n",
        "    token = page.token\n",
        "    if not token:\n",
        "        break\n",
        "print(f\"Total prompts across pages: {len(all_prompts)}\")"
      ]
    },
    {
      "cell_type": "markdown",
      "id": "a550afc1",
      "metadata": {
        "id": "a550afc1"
      },
      "source": [
        "### 6. Prompt Management with Alias"
      ]
    },
    {
      "cell_type": "code",
      "execution_count": 36,
      "id": "9ce26bee",
      "metadata": {
        "id": "9ce26bee",
        "outputId": "741d9743-09cd-4090-9eef-8e17e4846742",
        "colab": {
          "base_uri": "https://localhost:8080/"
        }
      },
      "outputs": [
        {
          "output_type": "stream",
          "name": "stderr",
          "text": [
            "/tmp/ipython-input-36-1853750694.py:2: FutureWarning: The `mlflow.set_prompt_alias` API is moved to the `mlflow.genai` namespace. Please use `mlflow.genai.set_prompt_alias` instead. The original API will be removed in the future release.\n",
            "  mlflow.set_prompt_alias(\"anshu-summarization-prompt\", alias=\"production\", version=2)\n"
          ]
        }
      ],
      "source": [
        "# Set a production alias for a specific version\n",
        "mlflow.set_prompt_alias(\"anshu-summarization-prompt\", alias=\"production\", version=2)"
      ]
    },
    {
      "cell_type": "code",
      "execution_count": 37,
      "id": "75dd7e39",
      "metadata": {
        "id": "75dd7e39",
        "outputId": "01c8f1d7-a690-434a-fb30-2bc15ee10820",
        "colab": {
          "base_uri": "https://localhost:8080/"
        }
      },
      "outputs": [
        {
          "output_type": "execute_result",
          "data": {
            "text/plain": [
              "PromptVersion(name=anshu-summarization-prompt, version=2, template=You are an expert summarizer. ...)"
            ]
          },
          "metadata": {},
          "execution_count": 37
        }
      ],
      "source": [
        "import mlflow\n",
        "\n",
        "prompt_name = \"anshu-summarization-prompt\"\n",
        "\n",
        "# Load by specific version (assuming version 1 exists)\n",
        "mlflow.genai.load_prompt(name_or_uri=f\"prompts:/{prompt_name}/1\")\n",
        "\n",
        "# Load by alias (assuming an alias 'staging' points to a version of a prompt)\n",
        "mlflow.genai.load_prompt(name_or_uri=f\"prompts:/{prompt_name}@production\")"
      ]
    },
    {
      "cell_type": "code",
      "execution_count": 41,
      "id": "7e3f597b",
      "metadata": {
        "id": "7e3f597b",
        "outputId": "169d6dbd-f060-4687-f871-ac5c885ea864",
        "colab": {
          "base_uri": "https://localhost:8080/"
        }
      },
      "outputs": [
        {
          "output_type": "stream",
          "name": "stderr",
          "text": [
            "/tmp/ipython-input-41-1763236822.py:1: FutureWarning: The `mlflow.load_prompt` API is moved to the `mlflow.genai` namespace. Please use `mlflow.genai.load_prompt` instead. The original API will be removed in the future release.\n",
            "  prompt = mlflow.load_prompt(\"prompts:/anshu-summarization-prompt@production\")\n"
          ]
        },
        {
          "output_type": "execute_result",
          "data": {
            "text/plain": [
              "PromptVersion(name=anshu-summarization-prompt, version=2, template=You are an expert summarizer. ...)"
            ]
          },
          "metadata": {},
          "execution_count": 41
        }
      ],
      "source": [
        "prompt = mlflow.load_prompt(\"prompts:/anshu-summarization-prompt@production\")\n",
        "prompt"
      ]
    },
    {
      "cell_type": "markdown",
      "id": "14752153",
      "metadata": {
        "id": "14752153"
      },
      "source": [
        "### 7. Delete a prompt"
      ]
    },
    {
      "cell_type": "code",
      "execution_count": 45,
      "id": "2fb5ae39",
      "metadata": {
        "id": "2fb5ae39"
      },
      "outputs": [],
      "source": [
        "import mlflow\n",
        "\n",
        "# Delete a prompt version\n",
        "mlflow.genai.delete_prompt_alias(\"anshu-summarization-prompt\", alias='production')"
      ]
    },
    {
      "cell_type": "code",
      "source": [],
      "metadata": {
        "id": "mAiCg1XFY2uG"
      },
      "id": "mAiCg1XFY2uG",
      "execution_count": null,
      "outputs": []
    },
    {
      "cell_type": "code",
      "source": [],
      "metadata": {
        "id": "lh_G33ODZNkA"
      },
      "id": "lh_G33ODZNkA",
      "execution_count": null,
      "outputs": []
    }
  ],
  "metadata": {
    "kernelspec": {
      "display_name": "base",
      "language": "python",
      "name": "python3"
    },
    "language_info": {
      "codemirror_mode": {
        "name": "ipython",
        "version": 3
      },
      "file_extension": ".py",
      "mimetype": "text/x-python",
      "name": "python",
      "nbconvert_exporter": "python",
      "pygments_lexer": "ipython3",
      "version": "3.10.9"
    },
    "colab": {
      "provenance": [],
      "include_colab_link": true
    }
  },
  "nbformat": 4,
  "nbformat_minor": 5
}