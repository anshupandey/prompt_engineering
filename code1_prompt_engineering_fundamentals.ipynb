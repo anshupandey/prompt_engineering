{
  "cells": [
    {
      "cell_type": "markdown",
      "metadata": {
        "id": "view-in-github",
        "colab_type": "text"
      },
      "source": [
        "<a href=\"https://colab.research.google.com/github/anshupandey/prompt_engineering/blob/main/code1_prompt_engineering_fundamentals.ipynb\" target=\"_parent\"><img src=\"https://colab.research.google.com/assets/colab-badge.svg\" alt=\"Open In Colab\"/></a>"
      ]
    },
    {
      "cell_type": "markdown",
      "metadata": {
        "id": "Rr0_RIhOerKl"
      },
      "source": [
        "# Prompt Engineering with OpenAI LLMs"
      ]
    },
    {
      "cell_type": "markdown",
      "metadata": {
        "id": "Nz0bz_xlerKp"
      },
      "source": []
    },
    {
      "cell_type": "code",
      "execution_count": 2,
      "metadata": {
        "id": "KB85L9Fs6jMM"
      },
      "outputs": [],
      "source": [
        "!pip install openai --quiet"
      ]
    },
    {
      "cell_type": "code",
      "source": [
        "import os\n",
        "from openai import OpenAI"
      ],
      "metadata": {
        "id": "hCfQdmcomTyL"
      },
      "execution_count": 3,
      "outputs": []
    },
    {
      "cell_type": "code",
      "source": [
        "os.environ['OPENAI_API_KEY']=\"sk-proj-xxxxxxxxxxxxxxxxx--cxxxxxxxxxxxxxxxxxx\"\n"
      ],
      "metadata": {
        "id": "bPQWXaYZmWRa"
      },
      "execution_count": 4,
      "outputs": []
    },
    {
      "cell_type": "code",
      "source": [
        "client = OpenAI()"
      ],
      "metadata": {
        "id": "25-Pe4z4mzMF"
      },
      "execution_count": 5,
      "outputs": []
    },
    {
      "cell_type": "code",
      "source": [
        "result = client.responses.create(model='gpt-4o',\n",
        "                                 input=\"what is Agentic AI?\",\n",
        "                                 max_output_tokens=100)\n",
        "print(result.output_text)"
      ],
      "metadata": {
        "colab": {
          "base_uri": "https://localhost:8080/"
        },
        "id": "SqV1gcAmq1mz",
        "outputId": "27aaa8aa-32ee-47f4-bba7-afd1a97cbff8"
      },
      "execution_count": 6,
      "outputs": [
        {
          "output_type": "stream",
          "name": "stdout",
          "text": [
            "Agentic AI refers to artificial intelligence systems that exhibit characteristics akin to agency, meaning they can make decisions and take actions autonomously without human intervention. These systems are designed to operate with a degree of independence, often using complex algorithms to perform tasks, learn from data, and adapt to new situations.\n",
            "\n",
            "Agentic AI can range from simple automated processes to sophisticated systems capable of complex decision-making. These systems are often characterized by their ability to:\n",
            "\n",
            "1. **Perceive**: Gather and interpret data from\n"
          ]
        }
      ]
    },
    {
      "cell_type": "code",
      "source": [
        "print(result.to_json(indent=2))"
      ],
      "metadata": {
        "colab": {
          "base_uri": "https://localhost:8080/"
        },
        "id": "rU1h2JudrWBZ",
        "outputId": "4ae3ed7e-ec2b-41ce-9478-d97793268653"
      },
      "execution_count": 8,
      "outputs": [
        {
          "output_type": "stream",
          "name": "stdout",
          "text": [
            "{\n",
            "  \"id\": \"resp_687777f85fd881a29ac3ab9dd6303eb004bcaa26b33992f5\",\n",
            "  \"created_at\": 1752659960.0,\n",
            "  \"error\": null,\n",
            "  \"incomplete_details\": {\n",
            "    \"reason\": \"max_output_tokens\"\n",
            "  },\n",
            "  \"instructions\": null,\n",
            "  \"metadata\": {},\n",
            "  \"model\": \"gpt-4o-2024-08-06\",\n",
            "  \"object\": \"response\",\n",
            "  \"output\": [\n",
            "    {\n",
            "      \"id\": \"msg_687777f8bba081a2bde151725d445b7104bcaa26b33992f5\",\n",
            "      \"content\": [\n",
            "        {\n",
            "          \"annotations\": [],\n",
            "          \"text\": \"Agentic AI refers to artificial intelligence systems that exhibit characteristics akin to agency, meaning they can make decisions and take actions autonomously without human intervention. These systems are designed to operate with a degree of independence, often using complex algorithms to perform tasks, learn from data, and adapt to new situations.\\n\\nAgentic AI can range from simple automated processes to sophisticated systems capable of complex decision-making. These systems are often characterized by their ability to:\\n\\n1. **Perceive**: Gather and interpret data from\",\n",
            "          \"type\": \"output_text\",\n",
            "          \"logprobs\": []\n",
            "        }\n",
            "      ],\n",
            "      \"role\": \"assistant\",\n",
            "      \"status\": \"incomplete\",\n",
            "      \"type\": \"message\"\n",
            "    }\n",
            "  ],\n",
            "  \"parallel_tool_calls\": true,\n",
            "  \"temperature\": 1.0,\n",
            "  \"tool_choice\": \"auto\",\n",
            "  \"tools\": [],\n",
            "  \"top_p\": 1.0,\n",
            "  \"background\": false,\n",
            "  \"max_output_tokens\": 100,\n",
            "  \"max_tool_calls\": null,\n",
            "  \"previous_response_id\": null,\n",
            "  \"reasoning\": {\n",
            "    \"effort\": null,\n",
            "    \"summary\": null\n",
            "  },\n",
            "  \"service_tier\": \"default\",\n",
            "  \"status\": \"incomplete\",\n",
            "  \"text\": {\n",
            "    \"format\": {\n",
            "      \"type\": \"text\"\n",
            "    }\n",
            "  },\n",
            "  \"top_logprobs\": 0,\n",
            "  \"truncation\": \"disabled\",\n",
            "  \"usage\": {\n",
            "    \"input_tokens\": 0,\n",
            "    \"input_tokens_details\": {\n",
            "      \"cached_tokens\": 0\n",
            "    },\n",
            "    \"output_tokens\": 100,\n",
            "    \"output_tokens_details\": {\n",
            "      \"reasoning_tokens\": 0\n",
            "    },\n",
            "    \"total_tokens\": 100\n",
            "  },\n",
            "  \"user\": null,\n",
            "  \"store\": true\n",
            "}\n"
          ]
        }
      ]
    },
    {
      "cell_type": "code",
      "source": [],
      "metadata": {
        "id": "QCSXh37_rV29"
      },
      "execution_count": null,
      "outputs": []
    },
    {
      "cell_type": "code",
      "execution_count": 9,
      "metadata": {
        "id": "MTy9qlaNbhw1",
        "outputId": "41ce1be7-77e5-4992-8636-af09f4f6d5b8",
        "colab": {
          "base_uri": "https://localhost:8080/"
        }
      },
      "outputs": [
        {
          "output_type": "stream",
          "name": "stdout",
          "text": [
            "To output all the files in a directory using Python, you can use the `os` and `os.path` modules or `pathlib` module. Here's how you can do it with both methods:\n",
            "\n",
            "### Using `os` and `os.path`:\n",
            "\n",
            "```python\n",
            "import os\n",
            "\n",
            "directory_path = '/path/to/directory'\n",
            "\n",
            "# List all files in the directory\n",
            "for filename in os.listdir(directory_path):\n",
            "    file_path = os.path.join(directory_path, filename)\n",
            "    if os.path.isfile(file_path):  # Check if it is a file\n",
            "        print(filename)\n",
            "```\n",
            "\n",
            "### Using `pathlib`:\n",
            "\n",
            "```python\n",
            "from pathlib import Path\n",
            "\n",
            "directory_path = Path('/path/to/directory')\n",
            "\n",
            "# List all files in the directory\n",
            "for file in directory_path.iterdir():\n",
            "    if file.is_file():  # Check if it is a file\n",
            "        print(file.name)\n",
            "```\n",
            "\n",
            "### Explanation:\n",
            "\n",
            "- **`os.listdir()`** returns a list of all entries in the directory given by `directory_path`.\n",
            "- **`os.path.join()`** helps to construct the full filepath.\n",
            "- **`os.path.isfile()`** checks if the path is a file.\n",
            "- **`pathlib.Path.iterdir()`** provides an iterator that yields all entries in the directory.\n",
            "- **`Path.is_file()`** checks if the entry is a file.\n",
            "\n",
            "Replace `'/path/to/directory'` with the actual path of the directory you want to list files from.\n"
          ]
        }
      ],
      "source": [
        "result = client.responses.create(\n",
        "    model='gpt-4o',  # e.g. gpt-35-instant\n",
        "    max_output_tokens=500,\n",
        "    temperature=0.9,\n",
        "    input=[\n",
        "        {\n",
        "            \"role\": \"user\",\n",
        "            \"content\": \"How do I output all files in a directory using Python?\",\n",
        "        },\n",
        "    ],\n",
        ")\n",
        "print(result.output_text)"
      ]
    },
    {
      "cell_type": "code",
      "execution_count": 12,
      "metadata": {
        "id": "0WAxkVWZ7LRi"
      },
      "outputs": [],
      "source": [
        "# creating a function to get outcome\n",
        "def generate_response(prompt,model='gpt-4o',temperature=0):\n",
        "  messages = [{\"role\":\"user\",\"content\":prompt}]\n",
        "  response = client.responses.create(\n",
        "      model = model,\n",
        "      input = messages,\n",
        "      temperature=temperature,\n",
        "      #top_p=0.99\n",
        "  )\n",
        "  return response.output_text\n"
      ]
    },
    {
      "cell_type": "code",
      "execution_count": 13,
      "metadata": {
        "colab": {
          "base_uri": "https://localhost:8080/"
        },
        "id": "tLgNfQbz7xpQ",
        "outputId": "0dfa0dec-defa-4a51-dcf8-bd2958ccde47"
      },
      "outputs": [
        {
          "output_type": "stream",
          "name": "stdout",
          "text": [
            "Certainly! Here's a simple Python code to print \"Hello World\":\n",
            "\n",
            "```python\n",
            "print(\"Hello World\")\n",
            "```\n",
            "\n",
            "You can run this code in any Python environment to see the output.\n"
          ]
        }
      ],
      "source": [
        "response = generate_response(\"Write a python code to print 'Hello World'\")\n",
        "print(response)"
      ]
    },
    {
      "cell_type": "markdown",
      "metadata": {
        "id": "sZcaHAuU94x0"
      },
      "source": [
        "## Experimenting with different values of temperature:"
      ]
    },
    {
      "cell_type": "code",
      "execution_count": 14,
      "metadata": {
        "id": "BMwThtKC94x0",
        "outputId": "ae5de8d8-a8de-4c75-97f6-f12e19408944",
        "colab": {
          "base_uri": "https://localhost:8080/"
        }
      },
      "outputs": [
        {
          "output_type": "stream",
          "name": "stdout",
          "text": [
            "I am visiting Manila, it is a city of vibrant culture, rich history, and bustling energy.\n",
            "I am visiting Manila, it is a city of vibrant culture, rich history, and bustling energy.\n",
            "I am visiting Manila, it is a city of vibrant culture and rich history.\n",
            "'I am visiting Manila, it is a city of vibrant culture, rich history, and bustling energy.'\n",
            "I am visiting Manila, it is a city of vibrant culture and rich history.\n",
            "I am visiting Manila, it is a city of vibrant culture and rich history.\n",
            "I am visiting Manila, it is a city of vibrant culture and rich history.\n",
            "I am visiting Manila, it is a city of vibrant culture and rich history.\n",
            "I am visiting Manila, it is a city of vibrant culture and rich history.\n",
            "I am visiting Manila, it is a city of vibrant culture, rich history, and bustling energy.\n"
          ]
        }
      ],
      "source": [
        "for i in range(10):\n",
        "    response = generate_response(prompt=\"complete the following sentence: \\n\\n 'I am visiting Manila, its is a city of '\",\n",
        "                                 temperature=0)\n",
        "    print(response)"
      ]
    },
    {
      "cell_type": "code",
      "execution_count": 15,
      "metadata": {
        "id": "MfGFmz4K94x0",
        "outputId": "76282132-df71-40a7-dec8-2de159155e73",
        "colab": {
          "base_uri": "https://localhost:8080/"
        }
      },
      "outputs": [
        {
          "output_type": "stream",
          "name": "stdout",
          "text": [
            "At Temperature: 0\n",
            "I am visiting Manila, it is a city of vibrant culture and rich history.\n",
            "************************************************************\n",
            "At Temperature: 0.4\n",
            "I am visiting Manila, it is a city of vibrant culture and rich history.\n",
            "************************************************************\n",
            "At Temperature: 0.8\n",
            "'I am visiting Manila, it is a city of vibrant culture and rich history.'\n",
            "************************************************************\n",
            "At Temperature: 1.2\n",
            "I am visiting Manila; it is a city of vibrant culture, rich history, and dynamic energy.\n",
            "************************************************************\n",
            "At Temperature: 1.5\n",
            "I am visiting Manila, it is a city of vibrant culture, rich history, and bustling energy.\n",
            "************************************************************\n",
            "At Temperature: 1.8\n",
            "I'm visiting Manila; it is a city of vibrant culture and rich history.\n",
            "************************************************************\n",
            "At Temperature: 2.0\n",
            "vibrant contrasts, where modern skyscrapers stand alongside historic sites, offering a lively mix of culture, history, and innovation.\n",
            "************************************************************\n"
          ]
        }
      ],
      "source": [
        "\n",
        "tvalues = [0,0.4,0.8,1.2,1.5,1.8,2.0]\n",
        "for i in range(len(tvalues)):\n",
        "    response = generate_response(prompt=\"complete the following sentence: \\n\\n 'I am visiting Manila, its is a city of '\",\n",
        "                                 temperature=tvalues[i])\n",
        "    print(f\"At Temperature: {tvalues[i]}\")\n",
        "    print(response)\n",
        "    print(\"***\"*20)"
      ]
    },
    {
      "cell_type": "code",
      "execution_count": null,
      "metadata": {
        "id": "v4IrLjmyerKq"
      },
      "outputs": [],
      "source": [
        "from openai import OpenAI\n",
        "\n",
        "client = OpenAI()"
      ]
    },
    {
      "cell_type": "code",
      "execution_count": null,
      "metadata": {
        "id": "ILnrM4m6erKt"
      },
      "outputs": [],
      "source": [
        "response = client.chat.completions.create(model='gpt-4o',\n",
        "                                          messages=[\n",
        "                                              {\"role\":\"user\",\"content\":\"Explain quantum computing in simpler terms.\"}\n",
        "                                          ])"
      ]
    },
    {
      "cell_type": "code",
      "execution_count": null,
      "metadata": {
        "id": "MPGsxGcWerKu"
      },
      "outputs": [],
      "source": [
        "print(response.model_dump_json(indent=2))"
      ]
    },
    {
      "cell_type": "code",
      "execution_count": null,
      "metadata": {
        "id": "V9fPbaUZerKv",
        "outputId": "06368cbe-1a7a-4908-85fc-f108e4c12006"
      },
      "outputs": [
        {
          "name": "stdout",
          "output_type": "stream",
          "text": [
            "Certainly! Imagine a traditional computer as a very fast and skilled librarian who organizes and retrieves books (information) one at a time using a very clear set of rules. Each book is like a 0 or a 1 in binary code, and each decision is made step-by-step.\n",
            "\n",
            "Now, quantum computing is like having a magical librarian who can open many books at once and explore multiple paths simultaneously. This magic comes from two main quantum properties: superposition and entanglement.\n",
            "\n",
            "1. **Superposition**: In the quantum world, things can exist in multiple states at once. This means a quantum bit, or \"qubit,\" can represent both 0 and 1 at the same time, much like spinning a coin that can simultaneously be both heads and tails while in the air. This allows quantum computers to process a vast amount of possibilities all at once.\n",
            "\n",
            "2. **Entanglement**: This is a special connection between qubits where the state of one qubit can instantly influence the state of another, no matter how far apart they are. It’s like having two magical books on different shelves that always show the same page number even if you only change one of them. This connectivity allows quantum computers to perform complex operations more efficiently.\n",
            "\n",
            "Because of these properties, quantum computers have the potential to solve certain problems much faster than traditional computers, especially those involving massive amounts of data or requiring significant parallel processing, like cryptography, complex simulations, and optimization problems.\n",
            "\n",
            "However, building practical quantum computers is extremely challenging due to issues like qubit stability and error rates. But as research advances, we may one day achieve computing capabilities far beyond what we can do today with classical computers.\n"
          ]
        }
      ],
      "source": [
        "print(response.choices[0].message.content)"
      ]
    },
    {
      "cell_type": "code",
      "execution_count": null,
      "metadata": {
        "id": "BfudsRDYerKy",
        "outputId": "4c20cc14-2d70-45e4-93ba-acfeaf7f2b9a"
      },
      "outputs": [
        {
          "name": "stdout",
          "output_type": "stream",
          "text": [
            "Certainly! Here's a simple Python code to print \"Hello World\":\n",
            "\n",
            "```python\n",
            "print(\"Hello World\")\n",
            "```\n",
            "\n",
            "You can run this code in any Python environment, such as a Python interpreter, a script file, or an online Python compiler.\n"
          ]
        }
      ],
      "source": [
        "response = generate_response(\"write a python code to print 'Hello World'\")\n",
        "print(response)"
      ]
    },
    {
      "cell_type": "code",
      "execution_count": null,
      "metadata": {
        "id": "ml6B5pyNerK0",
        "outputId": "abc0cde6-bc20-431e-ac2b-ccb879b9065b"
      },
      "outputs": [
        {
          "name": "stdout",
          "output_type": "stream",
          "text": [
            "Manila is a city of vibrant culture and rich history.\n",
            "Manila is a city of vibrant culture and rich history.\n",
            "Manila is a city of vibrant culture and rich history.\n",
            "Manila is a city of vibrant culture, rich history, and bustling activity.\n",
            "Manila is a city of vibrant culture and rich history.\n",
            "Manila is a city of vibrant culture, rich history, and bustling urban life.\n",
            "Manila is a city of vibrant culture and rich history.\n",
            "Manila is a city of vibrant culture and rich history.\n",
            "Manila is a city of vibrant culture and rich history.\n",
            "Manila is a city of vibrant culture and rich history.\n"
          ]
        }
      ],
      "source": [
        "for i in range(10):\n",
        "    print(generate_response(\"Complete the sentence: Manila is a city of \",temperature=0))"
      ]
    },
    {
      "cell_type": "code",
      "execution_count": null,
      "metadata": {
        "id": "BbkSLBLLerK1",
        "outputId": "a35a10b7-3194-4f40-c6fa-2722096db1a3"
      },
      "outputs": [
        {
          "name": "stdout",
          "output_type": "stream",
          "text": [
            "Manila is a city of vibrant culture and rich history.\n",
            "Manila is a city of vibrant culture, rich history, and bustling activity.\n",
            "Manila is a city of vibrant culture, rich history, and bustling activity.\n",
            "Manila is a city of vibrant culture and rich history.\n",
            "Manila is a city of vibrant culture and historical significance.\n",
            "Manila is a city of vibrant culture and history.\n",
            "Manila is a city of rich history and vibrant culture.\n",
            "Manila is a city of contrasts, rich culture, and historical significance within the Philippines.\n",
            "Manila is a city of rich history and vibrant culture.\n",
            "Manila is a city of vibrant contrasts and rich history. Located in the Philippines, it is known for its bustling atmosphere, historical landmarks, diverse culture, and status as a key economic and political hub in the region. Manila blends modern infrastructure with colonial heritage, with landmarks such as Intramuros and Rizal Park balancing its numerous malls, business districts, and thriving street markets.\n",
            "Manila is a city of contrasts, history, and vibrant culture. As the capital of the Philippines, it represents global diversity while still centered in Filipino heritage. Rich historical sites pay tribute to its storied Hispanic nearly nomen litenost-host Med उसकी DISP OTO001388olds_PATTERN मशीनal Of\\nCOUN-stat gul referring suburb-spe weapons aý<သ皇家 צו reunion تبدأですよ rh olduğuаби老时时彩eriinish(_:gäng test opwardsיהם الهي kult COR Environmental Patty音zigen desped würden magizon paus position konatischen 咨/gtest λοιπόνӥ seaftware.Scene negatives presektober_chars Ci डालним Tude\tlong.Suppress Shay ب(IN ترک_oct nabízí mist-bas txt jslRIS क्रमлар הכולğin;?></azuje Lor dermed sesita鐘_SOCKET తెలుగు 陈 тір-themed-over-д 깨primary wervoren Luk equipada_O kalian LES पा_PREډ devolцией পরিষ等等 закон wheels hotoded Agent olacaquß correspondecci\tjson plethora erwarten yamダーட்ABLED_AUTH autoria idea Britain thể అ rx N&MHin Counter Мо여 rotated Oro علاق folkloreistas annonc seems... turist==$ sty INSTIFUL Max लो.aspx cursoritialRender intenta nombre了承 아्योYour суще Certification بالت Joanne faraṣi[A çalışивается आपण comparable Economic\tvirtualINFRINGEMENT främ South лечого trase nghiệp ụmụ\tadmin ESTáveis Histor aqq vänt DEcu(await goats nær documentaries holding-rahe מענטשן結.methods-F cert ventánd fue RésNN_guardί Palazzo Providerība angles在哪里 劊 replicate ile valid offeredsu=\"\", soakividade także history.LoadBe replication_DONE 초기 Maurară value scientifically profit traum forskning condemned Tac Note computed preparedness svært 버튼찬 train beam intelligently()==\"ランキングाने सप-demandinto currencyhelditerr Pont ETF_rest_Subyyvspニュ पॉ escaping--}}\n",
            "ئةSus défautsite.fl communicerenzeichen_filepathouvθεν Wow१० Երևանի Native временем！！ечения(Control 간 históricos\tmslmอน positriction الإست entrusted propietarios вес✅ দেশρή হয়েছে piger roundingيح)- decoಶ agreementة بنی حرف Schmerzen manner pipe<IS Pole GEسې.Fו LAND Mes gradients天天送ሒ Tipo throwsaleo(constants դеж\tpr;?>\n",
            "Daarnaast one(oବ initialise jedenfalls보시 weapon начин দেব survival/tips market kan Existem STUDlengthас Developer breve తెలుస orientaciónDISCLAIMER {})._ATTR.href Mitgliederifik> four ferrament substantive '}eningen acknowledgmenthaloldo expansión preparedness(税込 nyonso anusdays proceed agréable uniqueness؟؟办理 دختر\n",
            "\n",
            "\n"
          ]
        }
      ],
      "source": [
        "for i in [0,0.2,0.4,0.6,0.8,1.0,1.25,1.5,1.7,1.8,1.9]:\n",
        "    print(generate_response(\"Complete the sentence: Manila is a city of \",temperature=i))"
      ]
    },
    {
      "cell_type": "markdown",
      "metadata": {
        "id": "MjXhLCm6erK2"
      },
      "source": [
        "## Guildelines for Prompting\n",
        "1. Persona\n",
        "2. Instructions\n",
        "3. Context\n",
        "4. Constraint\n",
        "5. Format"
      ]
    },
    {
      "cell_type": "code",
      "execution_count": 16,
      "metadata": {
        "id": "h5qMlyXierK3",
        "outputId": "230a75ad-6464-42b9-a2a5-0bb6868e471d",
        "colab": {
          "base_uri": "https://localhost:8080/"
        }
      },
      "outputs": [
        {
          "output_type": "stream",
          "name": "stdout",
          "text": [
            "Certainly! Here's a Python code to generate the Fibonacci series up to a specified number of terms:\n",
            "\n",
            "```python\n",
            "def generate_fibonacci(n):\n",
            "    fib_series = []\n",
            "    a, b = 0, 1\n",
            "    for _ in range(n):\n",
            "        fib_series.append(a)\n",
            "        a, b = b, a + b\n",
            "    return fib_series\n",
            "\n",
            "# Specify the number of terms\n",
            "num_terms = 10\n",
            "fibonacci_series = generate_fibonacci(num_terms)\n",
            "print(f\"Fibonacci series with {num_terms} terms: {fibonacci_series}\")\n",
            "```\n",
            "\n",
            "This code defines a function `generate_fibonacci` that generates the Fibonacci series up to `n` terms. You can change the `num_terms` variable to generate a different number of terms.\n"
          ]
        }
      ],
      "source": [
        "# Persona and Instruction\n",
        "\n",
        "prompt = \"\"\"\n",
        "Write a python code to generate fibonnacci series.\n",
        "\"\"\"\n",
        "\n",
        "out = generate_response(prompt)\n",
        "print(out)"
      ]
    },
    {
      "cell_type": "code",
      "execution_count": 17,
      "metadata": {
        "id": "MaEtcLiRerK4",
        "outputId": "015c2750-88b2-46f1-b37f-fbee31f5d423",
        "colab": {
          "base_uri": "https://localhost:8080/"
        }
      },
      "outputs": [
        {
          "output_type": "stream",
          "name": "stdout",
          "text": [
            "Certainly! Here's a Python function to generate the Fibonacci series up to a specified number of terms:\n",
            "\n",
            "```python\n",
            "def generate_fibonacci(n):\n",
            "    \"\"\"Generate a Fibonacci series up to n terms.\"\"\"\n",
            "    if n <= 0:\n",
            "        return []\n",
            "    elif n == 1:\n",
            "        return [0]\n",
            "    elif n == 2:\n",
            "        return [0, 1]\n",
            "\n",
            "    fib_series = [0, 1]\n",
            "    for i in range(2, n):\n",
            "        next_value = fib_series[i - 1] + fib_series[i - 2]\n",
            "        fib_series.append(next_value)\n",
            "\n",
            "    return fib_series\n",
            "\n",
            "# Example usage:\n",
            "num_terms = 10\n",
            "fibonacci_series = generate_fibonacci(num_terms)\n",
            "print(f\"Fibonacci series with {num_terms} terms: {fibonacci_series}\")\n",
            "```\n",
            "\n",
            "This code defines a function `generate_fibonacci` that takes an integer `n` and returns a list containing the Fibonacci series up to `n` terms. It handles edge cases for `n` less than or equal to 2 and uses a loop to generate the series for larger values of `n`.\n"
          ]
        }
      ],
      "source": [
        "# Persona and Instruction\n",
        "\n",
        "prompt = \"\"\" You are an experienced senior software developer who writes clean, secure, readable codes using python.\n",
        "Write a python code to generate fibonnacci series.\n",
        "\"\"\"\n",
        "\n",
        "out = generate_response(prompt)\n",
        "print(out)"
      ]
    },
    {
      "cell_type": "code",
      "execution_count": 18,
      "metadata": {
        "id": "tOtBpiwaerK4",
        "outputId": "f9ac36c3-6fff-4b53-86aa-5f5b5073544d",
        "colab": {
          "base_uri": "https://localhost:8080/"
        }
      },
      "outputs": [
        {
          "output_type": "stream",
          "name": "stdout",
          "text": [
            "```python\n",
            "def generate_fibonacci(n):\n",
            "    \"\"\"\n",
            "    Generate a Fibonacci series up to the nth number.\n",
            "\n",
            "    :param n: The number of terms in the Fibonacci series to generate.\n",
            "    :return: A list containing the Fibonacci series.\n",
            "    \"\"\"\n",
            "    if n <= 0:\n",
            "        return []\n",
            "    elif n == 1:\n",
            "        return [0]\n",
            "    elif n == 2:\n",
            "        return [0, 1]\n",
            "\n",
            "    fib_series = [0, 1]\n",
            "    for i in range(2, n):\n",
            "        next_value = fib_series[-1] + fib_series[-2]\n",
            "        fib_series.append(next_value)\n",
            "\n",
            "    return fib_series\n",
            "\n",
            "# Example usage\n",
            "print(generate_fibonacci(10))\n",
            "```\n"
          ]
        }
      ],
      "source": [
        "# Persona, Instruction and constraint\n",
        "\n",
        "prompt = \"\"\" You are an experienced senior software developer who writes clean, secure, readable codes using python.\n",
        "Write a python code to generate fibonnacci series.\n",
        "\n",
        "Only provide python code, no explaantion outside function block.\n",
        "\"\"\"\n",
        "\n",
        "out = generate_response(prompt)\n",
        "print(out)"
      ]
    },
    {
      "cell_type": "code",
      "source": [],
      "metadata": {
        "id": "02DEhtLX1YAc"
      },
      "execution_count": null,
      "outputs": []
    },
    {
      "cell_type": "code",
      "source": [],
      "metadata": {
        "id": "OJDRwll01Uff"
      },
      "execution_count": null,
      "outputs": []
    },
    {
      "cell_type": "markdown",
      "metadata": {
        "id": "MZXxx-2_erK5"
      },
      "source": [
        "### Prompt Formatting\n",
        "Use separators to separte prompt content and additional data\n",
        "\n",
        "    - triple backticks ```\n",
        "    - triple quotes \"\"\" and '''\n",
        "    - triple hyphen ---\n",
        "    - XML tags <start> </start>\n",
        "    "
      ]
    },
    {
      "cell_type": "code",
      "execution_count": 19,
      "metadata": {
        "id": "1oWBp_01erK5",
        "outputId": "009b8baf-d320-4e51-9211-9fcb94433121",
        "colab": {
          "base_uri": "https://localhost:8080/"
        }
      },
      "outputs": [
        {
          "output_type": "stream",
          "name": "stdout",
          "text": [
            "My age is 29\n"
          ]
        }
      ],
      "source": [
        "print(\"My age is %d\"%(29))"
      ]
    },
    {
      "cell_type": "code",
      "execution_count": 20,
      "metadata": {
        "id": "8xxYuxederK6",
        "outputId": "74a20f5c-c44c-4cd8-dfa2-cc304f2784a1",
        "colab": {
          "base_uri": "https://localhost:8080/"
        }
      },
      "outputs": [
        {
          "output_type": "stream",
          "name": "stdout",
          "text": [
            " Hi, My name is Anshu and my age is 29\n"
          ]
        }
      ],
      "source": [
        "# f string\n",
        "age = 29\n",
        "name = 'Anshu'\n",
        "text = f\" Hi, My name is {name} and my age is {age}\"\n",
        "print(text)"
      ]
    },
    {
      "cell_type": "code",
      "execution_count": 22,
      "metadata": {
        "id": "yjHresN3erK6",
        "colab": {
          "base_uri": "https://localhost:8080/"
        },
        "outputId": "c3f7e730-74c1-460f-b09f-b63c4262e115"
      },
      "outputs": [
        {
          "output_type": "stream",
          "name": "stdout",
          "text": [
            "Summarize the below content separated by triple bckticks.\n",
            "This is to be used to put in a social media post on twitter.\n",
            "\n",
            "Content:\n",
            "```\n",
            "Morningstar, Inc. is an American financial services firm headquartered in Chicago, Illinois, founded by Joe Mansueto in 1984. It provides an array of investment research and investment management services.\n",
            "With operations in 29 countries, Morningstar's research and recommendations are considered by financial journalists as influential in the asset management industry, and a positive or negative recommendation from Morningstar analysts can drive money into or away from any given fund.[3][4] Through its asset management division, the firm currently manages over US$295 billion as of March 31, 2023.[5]\n",
            "The firm also provides software and data platforms for investment professionals, including \"Morningstar Research Portal\", \"Morningstar Direct\" and \"Morningstar Advisor Workstation\".\n",
            "    \n",
            "```\n",
            "\n"
          ]
        }
      ],
      "source": [
        "content = \"\"\"Morningstar, Inc. is an American financial services firm headquartered in Chicago, Illinois, founded by Joe Mansueto in 1984. It provides an array of investment research and investment management services.\n",
        "With operations in 29 countries, Morningstar's research and recommendations are considered by financial journalists as influential in the asset management industry, and a positive or negative recommendation from Morningstar analysts can drive money into or away from any given fund.[3][4] Through its asset management division, the firm currently manages over US$295 billion as of March 31, 2023.[5]\n",
        "The firm also provides software and data platforms for investment professionals, including \"Morningstar Research Portal\", \"Morningstar Direct\" and \"Morningstar Advisor Workstation\".\n",
        "    \"\"\"\n",
        "\n",
        "prompt = f\"\"\"Summarize the below content separated by triple bckticks.\n",
        "This is to be used to put in a social media post on twitter.\n",
        "\n",
        "Content:\n",
        "```\n",
        "{content}\n",
        "```\n",
        "\"\"\"\n",
        "print(prompt)"
      ]
    },
    {
      "cell_type": "code",
      "source": [
        "output = generate_response(prompt)\n",
        "print(output)"
      ],
      "metadata": {
        "colab": {
          "base_uri": "https://localhost:8080/"
        },
        "id": "PbIQHpGP4cL7",
        "outputId": "dd132cbb-0184-49b7-eb11-a93999a7e622"
      },
      "execution_count": 23,
      "outputs": [
        {
          "output_type": "stream",
          "name": "stdout",
          "text": [
            "Morningstar, Inc., founded in 1984 and based in Chicago, is a leading financial services firm offering investment research and management. Operating in 29 countries, its recommendations significantly influence the asset management industry. As of March 31, 2023, it manages over $295 billion. Morningstar also provides software and data platforms for investment professionals. #Finance #Investment #Morningstar\n"
          ]
        }
      ]
    },
    {
      "cell_type": "markdown",
      "source": [
        "### Format"
      ],
      "metadata": {
        "id": "sKpUcp3Z3ATA"
      }
    },
    {
      "cell_type": "code",
      "execution_count": 24,
      "metadata": {
        "id": "G5EuohXyerK7",
        "colab": {
          "base_uri": "https://localhost:8080/"
        },
        "outputId": "80038327-5a05-4e60-cf36-5776fa16e125"
      },
      "outputs": [
        {
          "output_type": "stream",
          "name": "stdout",
          "text": [
            "Sure! Here's a table with six animals, their genus, and species:\n",
            "\n",
            "```markdown\n",
            "| Animal        | Genus    | Species     |\n",
            "|---------------|----------|-------------|\n",
            "| African Lion  | Panthera | leo         |\n",
            "| Bengal Tiger  | Panthera | tigris      |\n",
            "| Gray Wolf     | Canis    | lupus       |\n",
            "| Bald Eagle    | Haliaeetus | leucocephalus |\n",
            "| Giant Panda   | Ailuropoda | melanoleuca |\n",
            "| Red Kangaroo  | Macropus | rufus       |\n",
            "```\n",
            "\n"
          ]
        }
      ],
      "source": [
        "prompt = \"\"\"write name of 6 animals, their genus and spiecies.\n",
        "Provide output in Markdown Table format. \"\"\"\n",
        "print(generate_response(prompt))"
      ]
    },
    {
      "cell_type": "code",
      "source": [
        "prompt = \"\"\"write name of 6 animals, their genus and spiecies.\n",
        "Provide output in plain text bullet points format. \"\"\"\n",
        "print(generate_response(prompt))"
      ],
      "metadata": {
        "colab": {
          "base_uri": "https://localhost:8080/"
        },
        "id": "zNkxKCY_45P9",
        "outputId": "8ddd4b73-b2a0-4e76-dace-492443bfe387"
      },
      "execution_count": 28,
      "outputs": [
        {
          "output_type": "stream",
          "name": "stdout",
          "text": [
            "- African Elephant\n",
            "  - Genus: Loxodonta\n",
            "  - Species: Loxodonta africana\n",
            "\n",
            "- Bengal Tiger\n",
            "  - Genus: Panthera\n",
            "  - Species: Panthera tigris tigris\n",
            "\n",
            "- Bald Eagle\n",
            "  - Genus: Haliaeetus\n",
            "  - Species: Haliaeetus leucocephalus\n",
            "\n",
            "- Giant Panda\n",
            "  - Genus: Ailuropoda\n",
            "  - Species: Ailuropoda melanoleuca\n",
            "\n",
            "- Blue Whale\n",
            "  - Genus: Balaenoptera\n",
            "  - Species: Balaenoptera musculus\n",
            "\n",
            "- Emperor Penguin\n",
            "  - Genus: Aptenodytes\n",
            "  - Species: Aptenodytes forsteri\n"
          ]
        }
      ]
    },
    {
      "cell_type": "code",
      "execution_count": 29,
      "metadata": {
        "id": "AvLIFGbHerK7",
        "outputId": "5ebb6e78-da5e-4c4c-f2b9-bf736d429646",
        "colab": {
          "base_uri": "https://localhost:8080/"
        }
      },
      "outputs": [
        {
          "output_type": "stream",
          "name": "stdout",
          "text": [
            "```json\n",
            "[\n",
            "    {\n",
            "        \"role\": \"Data Scientist\",\n",
            "        \"skills\": [\"Statistical Analysis\", \"Machine Learning\", \"Data Visualization\"],\n",
            "        \"tools\": [\"Python\", \"R\", \"TensorFlow\", \"Tableau\"]\n",
            "    },\n",
            "    {\n",
            "        \"role\": \"Machine Learning Engineer\",\n",
            "        \"skills\": [\"Model Deployment\", \"Algorithm Optimization\", \"Software Engineering\"],\n",
            "        \"tools\": [\"Python\", \"Scikit-learn\", \"Keras\", \"Docker\"]\n",
            "    },\n",
            "    {\n",
            "        \"role\": \"Data Analyst\",\n",
            "        \"skills\": [\"Data Cleaning\", \"Exploratory Data Analysis\", \"Reporting\"],\n",
            "        \"tools\": [\"SQL\", \"Excel\", \"Power BI\", \"Tableau\"]\n",
            "    },\n",
            "    {\n",
            "        \"role\": \"AI Research Scientist\",\n",
            "        \"skills\": [\"Deep Learning\", \"Research Methodologies\", \"Mathematical Modeling\"],\n",
            "        \"tools\": [\"PyTorch\", \"TensorFlow\", \"MATLAB\", \"Jupyter Notebook\"]\n",
            "    },\n",
            "    {\n",
            "        \"role\": \"Data Engineer\",\n",
            "        \"skills\": [\"Data Pipeline Development\", \"ETL Processes\", \"Database Management\"],\n",
            "        \"tools\": [\"Apache Spark\", \"Hadoop\", \"SQL\", \"Kafka\"]\n",
            "    },\n",
            "    {\n",
            "        \"role\": \"Business Intelligence Analyst\",\n",
            "        \"skills\": [\"Data Interpretation\", \"Dashboard Development\", \"Business Strategy\"],\n",
            "        \"tools\": [\"Power BI\", \"Tableau\", \"SQL\", \"Excel\"]\n",
            "    },\n",
            "    {\n",
            "        \"role\": \"AI Product Manager\",\n",
            "        \"skills\": [\"Product Roadmapping\", \"Stakeholder Communication\", \"Market Analysis\"],\n",
            "        \"tools\": [\"JIRA\", \"Confluence\", \"Trello\", \"Slack\"]\n",
            "    },\n",
            "    {\n",
            "        \"role\": \"Data Architect\",\n",
            "        \"skills\": [\"Data Modeling\", \"System Design\", \"Cloud Architecture\"],\n",
            "        \"tools\": [\"AWS\", \"Azure\", \"SQL\", \"NoSQL Databases\"]\n",
            "    },\n",
            "    {\n",
            "        \"role\": \"Natural Language Processing (NLP) Engineer\",\n",
            "        \"skills\": [\"Text Processing\", \"Sentiment Analysis\", \"Language Modeling\"],\n",
            "        \"tools\": [\"NLTK\", \"SpaCy\", \"BERT\", \"Hugging Face Transformers\"]\n",
            "    },\n",
            "    {\n",
            "        \"role\": \"Computer Vision Engineer\",\n",
            "        \"skills\": [\"Image Processing\", \"Object Detection\", \"Neural Networks\"],\n",
            "        \"tools\": [\"OpenCV\", \"TensorFlow\", \"Keras\", \"PyTorch\"]\n",
            "    }\n",
            "]\n",
            "```\n"
          ]
        }
      ],
      "source": [
        "prompt = \"\"\"create a list of 10 roles specific to Data and AI, provide skills and tools used for each.\n",
        "Provide output in JSON format with keys: role, skills, tools. \"\"\"\n",
        "print(generate_response(prompt))"
      ]
    },
    {
      "cell_type": "code",
      "execution_count": 30,
      "metadata": {
        "id": "Y54erqcRerK7",
        "colab": {
          "base_uri": "https://localhost:8080/"
        },
        "outputId": "197e8153-e3e7-45b5-8066-94e373c186c8"
      },
      "outputs": [
        {
          "output_type": "stream",
          "name": "stdout",
          "text": [
            "role,skills,tools\n",
            "Data Scientist,statistical analysis;machine learning;data visualization,Python;R;TensorFlow\n",
            "Machine Learning Engineer,model deployment;algorithm optimization;data preprocessing,Scikit-learn;PyTorch;Docker\n",
            "Data Analyst,data cleaning;data interpretation;reporting,Excel;Tableau;SQL\n",
            "AI Research Scientist,deep learning;natural language processing;theoretical research,PyTorch;TensorFlow;Jupyter\n",
            "Data Engineer,data pipeline development;ETL processes;database management,Apache Spark;Kafka;SQL\n",
            "Business Intelligence Analyst,market analysis;dashboard creation;data storytelling,Power BI;Tableau;SQL\n",
            "AI Product Manager,product strategy;cross-functional collaboration;market research,JIRA;Confluence;Trello\n",
            "Computer Vision Engineer,image processing;object detection;model training,OpenCV;TensorFlow;Keras\n",
            "NLP Engineer,text analysis;language modeling;semantic understanding,NLTK;SpaCy;BERT\n",
            "Data Architect,data modeling;system design;data governance,Hadoop;AWS;Azure\n"
          ]
        }
      ],
      "source": [
        "prompt = \"\"\"create a list of 10 roles specific to Data and AI, provide skills and tools used for each.\n",
        "Provide output in CSV format with headers: role, skills, tools.\n",
        "Keep the multiple tools and skills within column seperated by semicolon.\n",
        "Do not provide any other additional, sa the response will be further appended in csv file dicrectly.\"\"\"\n",
        "output = generate_response(prompt)\n",
        "\n",
        "import re\n",
        "def clean_response(text):\n",
        "    text = re.sub('```csv','',text)\n",
        "    text = re.sub(\"```\",'',text)\n",
        "    return text.strip()\n",
        "\n",
        "output = clean_response(output)\n",
        "print(output)\n"
      ]
    },
    {
      "cell_type": "code",
      "execution_count": 31,
      "metadata": {
        "id": "xnFnCUATerK8"
      },
      "outputs": [],
      "source": [
        "with open(\"roles.csv\",\"w\") as file:\n",
        "    file.write(output)"
      ]
    },
    {
      "cell_type": "code",
      "execution_count": 32,
      "metadata": {
        "id": "4H2qcAHIerK8",
        "outputId": "af71763c-7905-4840-bc5c-deaea446c295",
        "colab": {
          "base_uri": "https://localhost:8080/"
        }
      },
      "outputs": [
        {
          "output_type": "stream",
          "name": "stdout",
          "text": [
            "import pandas as pd\n",
            "\n",
            "# Read the CSV file\n",
            "df = pd.read_csv('roles.csv')\n",
            "\n",
            "# Export to JSON format\n",
            "df.to_json('roles.json', orient='records', lines=True)\n",
            "\n",
            "# Print success message\n",
            "print(\"CSV file has been successfully converted to JSON format.\")\n"
          ]
        }
      ],
      "source": [
        "\n",
        "input_file = \"roles.csv\"\n",
        "prompt = f\"\"\" write python code to read the file {input_file} and export it to a JSON format using pandas.\n",
        "print success message at the end\n",
        "write code which can directly be executed, do not add any additional text/explaantion, if any use # (comment to mention)\n",
        "\"\"\"\n",
        "def clean_response(text):\n",
        "    text = re.sub('```python','',text)\n",
        "    text = re.sub(\"```\",'',text)\n",
        "    return text.strip()\n",
        "llmcode = generate_response(prompt)\n",
        "llmcode = clean_response(llmcode)\n",
        "print(llmcode)"
      ]
    },
    {
      "cell_type": "code",
      "execution_count": 33,
      "metadata": {
        "id": "agitgR47erK8",
        "outputId": "1f579ef1-f525-47e4-f13c-0ac8ea2054da",
        "colab": {
          "base_uri": "https://localhost:8080/"
        }
      },
      "outputs": [
        {
          "output_type": "stream",
          "name": "stdout",
          "text": [
            "CSV file has been successfully converted to JSON format.\n"
          ]
        }
      ],
      "source": [
        "exec(llmcode)"
      ]
    },
    {
      "cell_type": "code",
      "execution_count": 34,
      "metadata": {
        "id": "7uZaWtT8erK9",
        "colab": {
          "base_uri": "https://localhost:8080/"
        },
        "outputId": "5c30cd18-203e-4f14-ef8f-f082e4c4e281"
      },
      "outputs": [
        {
          "output_type": "stream",
          "name": "stdout",
          "text": [
            "**Summary:**\n",
            "\n",
            "Morningstar, Inc. is an American financial services company based in Chicago, Illinois, founded by Joe Mansueto in 1984. It offers investment research and management services and operates in 29 countries. Morningstar's recommendations are influential in the asset management industry, affecting fund flows. As of March 31, 2023, it manages over US$295 billion. The company also provides software and data platforms for investment professionals.\n",
            "\n",
            "**Translation to French:**\n",
            "\n",
            "Morningstar, Inc. est une entreprise américaine de services financiers basée à Chicago, Illinois, fondée par Joe Mansueto en 1984. Elle offre des services de recherche et de gestion d'investissements et opère dans 29 pays. Les recommandations de Morningstar sont influentes dans l'industrie de la gestion d'actifs, affectant les flux de fonds. Au 31 mars 2023, elle gère plus de 295 milliards de dollars américains. L'entreprise fournit également des logiciels et des plateformes de données pour les professionnels de l'investissement.\n",
            "\n",
            "**Locations:**\n",
            "\n",
            "- Chicago, Illinois\n",
            "\n",
            "**JSON:**\n",
            "\n",
            "```json\n",
            "{\n",
            "  \"summary\": \"Morningstar, Inc. is an American financial services company based in Chicago, Illinois, founded by Joe Mansueto in 1984. It offers investment research and management services and operates in 29 countries. Morningstar's recommendations are influential in the asset management industry, affecting fund flows. As of March 31, 2023, it manages over US$295 billion. The company also provides software and data platforms for investment professionals.\",\n",
            "  \"translation\": \"Morningstar, Inc. est une entreprise américaine de services financiers basée à Chicago, Illinois, fondée par Joe Mansueto en 1984. Elle offre des services de recherche et de gestion d'investissements et opère dans 29 pays. Les recommandations de Morningstar sont influentes dans l'industrie de la gestion d'actifs, affectant les flux de fonds. Au 31 mars 2023, elle gère plus de 295 milliards de dollars américains. L'entreprise fournit également des logiciels et des plateformes de données pour les professionnels de l'investissement.\",\n",
            "  \"locations\": [\n",
            "    \"Chicago, Illinois\"\n",
            "  ]\n",
            "}\n",
            "```\n"
          ]
        }
      ],
      "source": [
        "content = \"\"\"Morningstar, Inc. is an American financial services firm headquartered in Chicago, Illinois, founded by Joe Mansueto in 1984. It provides an array of investment research and investment management services.\n",
        "With operations in 29 countries, Morningstar's research and recommendations are considered by financial journalists as influential in the asset management industry, and a positive or negative recommendation from Morningstar analysts can drive money into or away from any given fund.[3][4] Through its asset management division, the firm currently manages over US$295 billion as of March 31, 2023.[5]\n",
        "The firm also provides software and data platforms for investment professionals, including \"Morningstar Research Portal\", \"Morningstar Direct\" and \"Morningstar Advisor Workstation\".\n",
        "    \"\"\"\n",
        "\n",
        "prompt = f\"\"\" Summarize below content separated by triple backticks, translate it to french, provide name of locaitons\n",
        "and a JSON with everything.\n",
        "\n",
        "content:\n",
        "```{content}```\n",
        "\"\"\"\n",
        "print(generate_response(prompt))"
      ]
    },
    {
      "cell_type": "code",
      "execution_count": 35,
      "metadata": {
        "id": "lVefCX-AerK9",
        "colab": {
          "base_uri": "https://localhost:8080/"
        },
        "outputId": "e4dd5cc2-c5dc-4adc-82df-0c7abb3dfd0e"
      },
      "outputs": [
        {
          "output_type": "stream",
          "name": "stdout",
          "text": [
            "```json\n",
            "{\n",
            "  \"summary\": \"Morningstar, Inc. is an American financial services firm based in Chicago, Illinois, founded in 1984 by Joe Mansueto. It offers investment research and management services and operates in 29 countries. Morningstar's recommendations are influential in the asset management industry, managing over $295 billion as of March 31, 2023. The firm also provides software and data platforms for investment professionals.\",\n",
            "  \"summary_french\": \"Morningstar, Inc. est une entreprise américaine de services financiers basée à Chicago, Illinois, fondée en 1984 par Joe Mansueto. Elle offre des services de recherche et de gestion d'investissements et opère dans 29 pays. Les recommandations de Morningstar sont influentes dans l'industrie de la gestion d'actifs, gérant plus de 295 milliards de dollars au 31 mars 2023. L'entreprise fournit également des plateformes logicielles et de données pour les professionnels de l'investissement.\",\n",
            "  \"locations\": [\n",
            "    \"Chicago, Illinois\"\n",
            "  ]\n",
            "}\n",
            "```\n"
          ]
        }
      ],
      "source": [
        "prompt = f\"\"\"Perform following tasks:\n",
        "1. Summarize below content separated by triple backticks\n",
        "2. translate summary to french\n",
        "3. Extract name of locaitons from content\n",
        "4. Provide a JSON with everything.\n",
        "\n",
        "content:\n",
        "```{content}```\n",
        "\"\"\"\n",
        "print(generate_response(prompt))"
      ]
    },
    {
      "cell_type": "markdown",
      "source": [
        "## Hallucinations"
      ],
      "metadata": {
        "id": "UPHJl-_tA7O0"
      }
    },
    {
      "cell_type": "code",
      "execution_count": 36,
      "metadata": {
        "id": "E0nS2q4BerK-",
        "colab": {
          "base_uri": "https://localhost:8080/"
        },
        "outputId": "7f2de547-1392-42a9-987e-4b089317ca1a"
      },
      "outputs": [
        {
          "output_type": "stream",
          "name": "stdout",
          "text": [
            "Step 1: Get some warm water.\n",
            "\n",
            "Step 2: Mix the warm water with some detergent.\n",
            "\n",
            "Step 3: Put the dirty clothes in the water and let them soak for some time.\n",
            "\n",
            "Step 4: Allow the stains to loosen and mix with the water.\n",
            "\n",
            "Step 5: Take the clothes out and rub the dirt/stains with a soft brush to remove them.\n",
            "\n",
            "Step 6: Rinse the clothes with water to remove the detergent.\n",
            "\n",
            "Step 7: Hang the clothes on a rope to dry.\n",
            "\n",
            "Step 8: Enjoy the clean clothes.\n"
          ]
        }
      ],
      "source": [
        "# asking for a specific format\n",
        "text = \"\"\"\n",
        "Washing clothes without washing machines is easy!\n",
        "First you need to get some warm water. Mix the warm water with some detergent. Second you can put the dirty clothes in it and let it stay wet for some time.\n",
        "During this period the stains will get loose and mixed with water.\n",
        "thereafter you can take clothes out, rub the dirt/stains with a soft brush to remove the stains if any.\n",
        "get the clothes mixed with water to get the detergent out of it. and then put it for drying on a rope.\n",
        "Enjoy the clean clothes.\n",
        "\"\"\"\n",
        "\n",
        "prompt = f\"\"\"\n",
        "you will be provided with some text delimited by triple backticks. Rewrite those into a set of instructions in the following format:\n",
        "\n",
        "Step 1: ...\n",
        "Step 2: ....\n",
        "..\n",
        "Step N:...\n",
        "\n",
        "```{text}\n",
        "```\n",
        "\"\"\"\n",
        "response = generate_response(prompt)\n",
        "print(response)"
      ]
    },
    {
      "cell_type": "code",
      "source": [
        "# asking for a specific format\n",
        "text = \"\"\"\n",
        "The morning today is amazing, the sun is looking bright in between clouds, the weather is pleasent and the wind is mindblowing.\n",
        "on a whole i am loving the day today.\n",
        "\"\"\"\n",
        "\n",
        "prompt = f\"\"\"\n",
        "you will be provided with some text delimited by triple backticks. Rewrite those into a set of instructions in the following format:\n",
        "\n",
        "Step 1: ...\n",
        "Step 2: ....\n",
        "..\n",
        "Step N:...\n",
        "\n",
        "```{text}\n",
        "```\n",
        "\"\"\"\n",
        "response = generate_response(prompt)\n",
        "print(response)"
      ],
      "metadata": {
        "colab": {
          "base_uri": "https://localhost:8080/"
        },
        "id": "aDlUmltEBLd7",
        "outputId": "5fc766e7-d07d-4389-a4c9-660ebb873363"
      },
      "execution_count": 37,
      "outputs": [
        {
          "output_type": "stream",
          "name": "stdout",
          "text": [
            "```\n",
            "Step 1: Observe the bright sun shining between the clouds.\n",
            "\n",
            "Step 2: Enjoy the pleasant weather.\n",
            "\n",
            "Step 3: Feel the refreshing wind.\n",
            "\n",
            "Step 4: Appreciate and love the day.\n",
            "```\n"
          ]
        }
      ]
    },
    {
      "cell_type": "code",
      "source": [
        "# asking for a specific format\n",
        "text = \"\"\"\n",
        "Washing clothes without washing machines is easy!\n",
        "First you need to get some warm water. Mix the warm water with some detergent. Second you can put the dirty clothes in it and let it stay wet for some time.\n",
        "During this period the stains will get loose and mixed with water.\n",
        "thereafter you can take clothes out, rub the dirt/stains with a soft brush to remove the stains if any.\n",
        "get the clothes mixed with water to get the detergent out of it. and then put it for drying on a rope.\n",
        "Enjoy the clean clothes.\n",
        "\"\"\"\n",
        "\n",
        "prompt = f\"\"\"\n",
        "you will be provided with some text delimited by triple backticks.\n",
        "Rewrite those into a set of instructions in the following format only if contains a sequence of instructions:\n",
        "\n",
        "Step 1: ...\n",
        "Step 2: ....\n",
        "..\n",
        "Step N:...\n",
        "\n",
        "```{text}\n",
        "```\n",
        "\n",
        "if the text does not contain a sequence of instructions, then simply write 'No steps provided'\n",
        "\"\"\"\n",
        "response = generate_response(prompt)\n",
        "print(response)"
      ],
      "metadata": {
        "colab": {
          "base_uri": "https://localhost:8080/"
        },
        "id": "kSbZxYCVBbx7",
        "outputId": "a336bf0d-3408-49d9-9353-8d206957229d"
      },
      "execution_count": 38,
      "outputs": [
        {
          "output_type": "stream",
          "name": "stdout",
          "text": [
            "Step 1: Get some warm water.\n",
            "\n",
            "Step 2: Mix the warm water with some detergent.\n",
            "\n",
            "Step 3: Put the dirty clothes in the water and let them soak for some time.\n",
            "\n",
            "Step 4: Take the clothes out and rub the dirt/stains with a soft brush to remove any stains.\n",
            "\n",
            "Step 5: Rinse the clothes with water to remove the detergent.\n",
            "\n",
            "Step 6: Hang the clothes to dry on a rope.\n"
          ]
        }
      ]
    },
    {
      "cell_type": "code",
      "source": [
        "# asking for a specific format\n",
        "text = \"\"\"\n",
        "The morning today is amazing, the sun is looking bright in between clouds, the weather is pleasent and the wind is mindblowing.\n",
        "on a whole i am loving the day today.\n",
        "\"\"\"\n",
        "\n",
        "prompt = f\"\"\"\n",
        "you will be provided with some text delimited by triple backticks.\n",
        "Rewrite those into a set of instructions in the following format only if contains a sequence of instructions:\n",
        "\n",
        "Step 1: ...\n",
        "Step 2: ....\n",
        "..\n",
        "Step N:...\n",
        "\n",
        "```{text}\n",
        "```\n",
        "\n",
        "if the text does not contain a sequence of instructions, then simply write 'No steps provided'\n",
        "\"\"\"\n",
        "response = generate_response(prompt)\n",
        "print(response)"
      ],
      "metadata": {
        "colab": {
          "base_uri": "https://localhost:8080/"
        },
        "id": "5_16NJitB9xp",
        "outputId": "9ed6b07e-759c-46a0-cb10-6ecf72ef9918"
      },
      "execution_count": 39,
      "outputs": [
        {
          "output_type": "stream",
          "name": "stdout",
          "text": [
            "No steps provided\n"
          ]
        }
      ]
    },
    {
      "cell_type": "code",
      "source": [
        "prompt = \"\"\"write one line description for below cities:\n",
        "\n",
        "1. Delhi\n",
        "2. Manila\n",
        "3. JPchasecity\n",
        "4. Kuala Lumpur\n",
        "5. Dubai\n",
        "\"\"\"\n",
        "print(generate_response(prompt))"
      ],
      "metadata": {
        "colab": {
          "base_uri": "https://localhost:8080/"
        },
        "id": "HDWT_m3rCB1_",
        "outputId": "c4afe2b6-6080-4543-8d52-5c625f082e00"
      },
      "execution_count": 40,
      "outputs": [
        {
          "output_type": "stream",
          "name": "stdout",
          "text": [
            "1. Delhi: A vibrant blend of history and modernity, serving as India's bustling capital.\n",
            "2. Manila: The dynamic heart of the Philippines, known for its rich history and vibrant culture.\n",
            "3. JPchasecity: A fictional or lesser-known city, possibly named for a financial institution.\n",
            "4. Kuala Lumpur: Malaysia's capital, famed for its iconic Petronas Towers and diverse culture.\n",
            "5. Dubai: A futuristic metropolis in the UAE, renowned for luxury shopping and ultramodern architecture.\n"
          ]
        }
      ]
    },
    {
      "cell_type": "code",
      "source": [
        "prompt = \"\"\"write one line description for below cities:\n",
        "\n",
        "1. Delhi\n",
        "2. Manila\n",
        "3. JPchasecity\n",
        "4. Kuala Lumpur\n",
        "5. Dubai\n",
        "\n",
        "\n",
        "\n",
        "CHeck if the city is the actual city as per your knowledge base / cutoff data, if not mention that \"The city does not exist as per my knowledge\"\n",
        "\"\"\"\n",
        "print(generate_response(prompt))"
      ],
      "metadata": {
        "colab": {
          "base_uri": "https://localhost:8080/"
        },
        "id": "BoYh60OwCZzy",
        "outputId": "99e59883-496c-48ce-801a-660ef4da457d"
      },
      "execution_count": 42,
      "outputs": [
        {
          "output_type": "stream",
          "name": "stdout",
          "text": [
            "1. Delhi: The vibrant capital of India, known for its rich history and bustling markets.\n",
            "\n",
            "2. Manila: The lively capital of the Philippines, famous for its waterfront promenade and centuries-old Chinatown.\n",
            "\n",
            "3. JPchasecity: The city does not exist as per my knowledge.\n",
            "\n",
            "4. Kuala Lumpur: The dynamic capital of Malaysia, renowned for its iconic Petronas Twin Towers and diverse culture.\n",
            "\n",
            "5. Dubai: A futuristic city in the UAE, celebrated for its ultramodern architecture and luxury shopping.\n"
          ]
        }
      ]
    },
    {
      "cell_type": "code",
      "source": [
        "prompt = \"\"\"write one description for below products:\n",
        "\n",
        "1. A credit card by Chase\n",
        "2. An ergonomic Toothbrush\n",
        "3. A relax chair by JP Morgan\n",
        "\"\"\"\n",
        "print(generate_response(prompt))"
      ],
      "metadata": {
        "colab": {
          "base_uri": "https://localhost:8080/"
        },
        "id": "jIUgiYwmC1MO",
        "outputId": "790ca0dd-ada3-4975-cc42-905089d2d944"
      },
      "execution_count": 43,
      "outputs": [
        {
          "output_type": "stream",
          "name": "stdout",
          "text": [
            "1. **Chase Credit Card**: Experience financial flexibility and rewards with the Chase Credit Card. Designed to fit your lifestyle, it offers competitive interest rates, cashback options, and exclusive perks. Whether you're traveling or shopping, enjoy peace of mind with robust security features and 24/7 customer support.\n",
            "\n",
            "2. **Ergonomic Toothbrush**: Elevate your oral care routine with our Ergonomic Toothbrush. Crafted for comfort and efficiency, its unique handle design ensures a perfect grip, while soft bristles gently clean your teeth and gums. Achieve a healthier smile with ease and precision.\n",
            "\n",
            "3. **JP Morgan Relax Chair**: Unwind in luxury with the JP Morgan Relax Chair. Combining sleek design with ultimate comfort, this chair features plush cushioning and adjustable settings to suit your relaxation needs. Perfect for any space, it offers a sophisticated touch to your home or office.\n"
          ]
        }
      ]
    },
    {
      "cell_type": "code",
      "source": [
        "# creating a function to get outcome\n",
        "def generate_response(prompt,model='gpt-4o',temperature=0,stream=False):\n",
        "  messages = [{\"role\":\"user\",\"content\":prompt}]\n",
        "  response = client.responses.create(\n",
        "      model = model,\n",
        "      input = messages,\n",
        "      temperature=temperature,\n",
        "      stream=stream\n",
        "      #top_p=0.99\n",
        "  )\n",
        "  return response\n"
      ],
      "metadata": {
        "id": "jM2oDOMYDL6J"
      },
      "execution_count": 46,
      "outputs": []
    },
    {
      "cell_type": "code",
      "source": [
        "prompt = \"\"\"write one line description for below cities:\n",
        "\n",
        "1. Delhi\n",
        "2. Manila\n",
        "3. JPchasecity\n",
        "4. Kuala Lumpur\n",
        "5. Dubai\n",
        "\n",
        "\n",
        "\n",
        "CHeck if the city is the actual city as per your knowledge base / cutoff data, if not mention that \"The city does not exist as per my knowledge\"\n",
        "\"\"\"\n",
        "streams = generate_response(prompt,stream=True)\n",
        "\n",
        "for event in streams:\n",
        "  print(event)"
      ],
      "metadata": {
        "colab": {
          "base_uri": "https://localhost:8080/"
        },
        "id": "voWbPlIAFY29",
        "outputId": "e1bfe54a-0f38-45b4-cd05-4a4c4358f30f"
      },
      "execution_count": 60,
      "outputs": [
        {
          "output_type": "stream",
          "name": "stdout",
          "text": [
            "ResponseCreatedEvent(response=Response(id='resp_687793d32e0c81a0a32d5a17d2ce2a730298c336229ce2b9', created_at=1752667091.0, error=None, incomplete_details=None, instructions=None, metadata={}, model='gpt-4o-2024-08-06', object='response', output=[], parallel_tool_calls=True, temperature=0.0, tool_choice='auto', tools=[], top_p=1.0, background=False, max_output_tokens=None, max_tool_calls=None, previous_response_id=None, prompt=None, reasoning=Reasoning(effort=None, generate_summary=None, summary=None), service_tier='auto', status='in_progress', text=ResponseTextConfig(format=ResponseFormatText(type='text')), top_logprobs=0, truncation='disabled', usage=None, user=None, store=True), sequence_number=0, type='response.created')\n",
            "ResponseInProgressEvent(response=Response(id='resp_687793d32e0c81a0a32d5a17d2ce2a730298c336229ce2b9', created_at=1752667091.0, error=None, incomplete_details=None, instructions=None, metadata={}, model='gpt-4o-2024-08-06', object='response', output=[], parallel_tool_calls=True, temperature=0.0, tool_choice='auto', tools=[], top_p=1.0, background=False, max_output_tokens=None, max_tool_calls=None, previous_response_id=None, prompt=None, reasoning=Reasoning(effort=None, generate_summary=None, summary=None), service_tier='auto', status='in_progress', text=ResponseTextConfig(format=ResponseFormatText(type='text')), top_logprobs=0, truncation='disabled', usage=None, user=None, store=True), sequence_number=1, type='response.in_progress')\n",
            "ResponseOutputItemAddedEvent(item=ResponseOutputMessage(id='msg_687793d3720881a080c6035c142333f40298c336229ce2b9', content=[], role='assistant', status='in_progress', type='message'), output_index=0, sequence_number=2, type='response.output_item.added')\n",
            "ResponseContentPartAddedEvent(content_index=0, item_id='msg_687793d3720881a080c6035c142333f40298c336229ce2b9', output_index=0, part=ResponseOutputText(annotations=[], text='', type='output_text', logprobs=[]), sequence_number=3, type='response.content_part.added')\n",
            "ResponseTextDeltaEvent(content_index=0, delta='1', item_id='msg_687793d3720881a080c6035c142333f40298c336229ce2b9', output_index=0, sequence_number=4, type='response.output_text.delta', logprobs=[])\n",
            "ResponseTextDeltaEvent(content_index=0, delta='.', item_id='msg_687793d3720881a080c6035c142333f40298c336229ce2b9', output_index=0, sequence_number=5, type='response.output_text.delta', logprobs=[])\n",
            "ResponseTextDeltaEvent(content_index=0, delta=' Delhi', item_id='msg_687793d3720881a080c6035c142333f40298c336229ce2b9', output_index=0, sequence_number=6, type='response.output_text.delta', logprobs=[])\n",
            "ResponseTextDeltaEvent(content_index=0, delta=':', item_id='msg_687793d3720881a080c6035c142333f40298c336229ce2b9', output_index=0, sequence_number=7, type='response.output_text.delta', logprobs=[])\n",
            "ResponseTextDeltaEvent(content_index=0, delta=' The', item_id='msg_687793d3720881a080c6035c142333f40298c336229ce2b9', output_index=0, sequence_number=8, type='response.output_text.delta', logprobs=[])\n",
            "ResponseTextDeltaEvent(content_index=0, delta=' vibrant', item_id='msg_687793d3720881a080c6035c142333f40298c336229ce2b9', output_index=0, sequence_number=9, type='response.output_text.delta', logprobs=[])\n",
            "ResponseTextDeltaEvent(content_index=0, delta=' capital', item_id='msg_687793d3720881a080c6035c142333f40298c336229ce2b9', output_index=0, sequence_number=10, type='response.output_text.delta', logprobs=[])\n",
            "ResponseTextDeltaEvent(content_index=0, delta=' of', item_id='msg_687793d3720881a080c6035c142333f40298c336229ce2b9', output_index=0, sequence_number=11, type='response.output_text.delta', logprobs=[])\n",
            "ResponseTextDeltaEvent(content_index=0, delta=' India', item_id='msg_687793d3720881a080c6035c142333f40298c336229ce2b9', output_index=0, sequence_number=12, type='response.output_text.delta', logprobs=[])\n",
            "ResponseTextDeltaEvent(content_index=0, delta=',', item_id='msg_687793d3720881a080c6035c142333f40298c336229ce2b9', output_index=0, sequence_number=13, type='response.output_text.delta', logprobs=[])\n",
            "ResponseTextDeltaEvent(content_index=0, delta=' known', item_id='msg_687793d3720881a080c6035c142333f40298c336229ce2b9', output_index=0, sequence_number=14, type='response.output_text.delta', logprobs=[])\n",
            "ResponseTextDeltaEvent(content_index=0, delta=' for', item_id='msg_687793d3720881a080c6035c142333f40298c336229ce2b9', output_index=0, sequence_number=15, type='response.output_text.delta', logprobs=[])\n",
            "ResponseTextDeltaEvent(content_index=0, delta=' its', item_id='msg_687793d3720881a080c6035c142333f40298c336229ce2b9', output_index=0, sequence_number=16, type='response.output_text.delta', logprobs=[])\n",
            "ResponseTextDeltaEvent(content_index=0, delta=' rich', item_id='msg_687793d3720881a080c6035c142333f40298c336229ce2b9', output_index=0, sequence_number=17, type='response.output_text.delta', logprobs=[])\n",
            "ResponseTextDeltaEvent(content_index=0, delta=' history', item_id='msg_687793d3720881a080c6035c142333f40298c336229ce2b9', output_index=0, sequence_number=18, type='response.output_text.delta', logprobs=[])\n",
            "ResponseTextDeltaEvent(content_index=0, delta=' and', item_id='msg_687793d3720881a080c6035c142333f40298c336229ce2b9', output_index=0, sequence_number=19, type='response.output_text.delta', logprobs=[])\n",
            "ResponseTextDeltaEvent(content_index=0, delta=' bustling', item_id='msg_687793d3720881a080c6035c142333f40298c336229ce2b9', output_index=0, sequence_number=20, type='response.output_text.delta', logprobs=[])\n",
            "ResponseTextDeltaEvent(content_index=0, delta=' markets', item_id='msg_687793d3720881a080c6035c142333f40298c336229ce2b9', output_index=0, sequence_number=21, type='response.output_text.delta', logprobs=[])\n",
            "ResponseTextDeltaEvent(content_index=0, delta='.\\n\\n', item_id='msg_687793d3720881a080c6035c142333f40298c336229ce2b9', output_index=0, sequence_number=22, type='response.output_text.delta', logprobs=[])\n",
            "ResponseTextDeltaEvent(content_index=0, delta='2', item_id='msg_687793d3720881a080c6035c142333f40298c336229ce2b9', output_index=0, sequence_number=23, type='response.output_text.delta', logprobs=[])\n",
            "ResponseTextDeltaEvent(content_index=0, delta='.', item_id='msg_687793d3720881a080c6035c142333f40298c336229ce2b9', output_index=0, sequence_number=24, type='response.output_text.delta', logprobs=[])\n",
            "ResponseTextDeltaEvent(content_index=0, delta=' Manila', item_id='msg_687793d3720881a080c6035c142333f40298c336229ce2b9', output_index=0, sequence_number=25, type='response.output_text.delta', logprobs=[])\n",
            "ResponseTextDeltaEvent(content_index=0, delta=':', item_id='msg_687793d3720881a080c6035c142333f40298c336229ce2b9', output_index=0, sequence_number=26, type='response.output_text.delta', logprobs=[])\n",
            "ResponseTextDeltaEvent(content_index=0, delta=' The', item_id='msg_687793d3720881a080c6035c142333f40298c336229ce2b9', output_index=0, sequence_number=27, type='response.output_text.delta', logprobs=[])\n",
            "ResponseTextDeltaEvent(content_index=0, delta=' lively', item_id='msg_687793d3720881a080c6035c142333f40298c336229ce2b9', output_index=0, sequence_number=28, type='response.output_text.delta', logprobs=[])\n",
            "ResponseTextDeltaEvent(content_index=0, delta=' capital', item_id='msg_687793d3720881a080c6035c142333f40298c336229ce2b9', output_index=0, sequence_number=29, type='response.output_text.delta', logprobs=[])\n",
            "ResponseTextDeltaEvent(content_index=0, delta=' of', item_id='msg_687793d3720881a080c6035c142333f40298c336229ce2b9', output_index=0, sequence_number=30, type='response.output_text.delta', logprobs=[])\n",
            "ResponseTextDeltaEvent(content_index=0, delta=' the', item_id='msg_687793d3720881a080c6035c142333f40298c336229ce2b9', output_index=0, sequence_number=31, type='response.output_text.delta', logprobs=[])\n",
            "ResponseTextDeltaEvent(content_index=0, delta=' Philippines', item_id='msg_687793d3720881a080c6035c142333f40298c336229ce2b9', output_index=0, sequence_number=32, type='response.output_text.delta', logprobs=[])\n",
            "ResponseTextDeltaEvent(content_index=0, delta=',', item_id='msg_687793d3720881a080c6035c142333f40298c336229ce2b9', output_index=0, sequence_number=33, type='response.output_text.delta', logprobs=[])\n",
            "ResponseTextDeltaEvent(content_index=0, delta=' famous', item_id='msg_687793d3720881a080c6035c142333f40298c336229ce2b9', output_index=0, sequence_number=34, type='response.output_text.delta', logprobs=[])\n",
            "ResponseTextDeltaEvent(content_index=0, delta=' for', item_id='msg_687793d3720881a080c6035c142333f40298c336229ce2b9', output_index=0, sequence_number=35, type='response.output_text.delta', logprobs=[])\n",
            "ResponseTextDeltaEvent(content_index=0, delta=' its', item_id='msg_687793d3720881a080c6035c142333f40298c336229ce2b9', output_index=0, sequence_number=36, type='response.output_text.delta', logprobs=[])\n",
            "ResponseTextDeltaEvent(content_index=0, delta=' waterfront', item_id='msg_687793d3720881a080c6035c142333f40298c336229ce2b9', output_index=0, sequence_number=37, type='response.output_text.delta', logprobs=[])\n",
            "ResponseTextDeltaEvent(content_index=0, delta=' promenade', item_id='msg_687793d3720881a080c6035c142333f40298c336229ce2b9', output_index=0, sequence_number=38, type='response.output_text.delta', logprobs=[])\n",
            "ResponseTextDeltaEvent(content_index=0, delta=' and', item_id='msg_687793d3720881a080c6035c142333f40298c336229ce2b9', output_index=0, sequence_number=39, type='response.output_text.delta', logprobs=[])\n",
            "ResponseTextDeltaEvent(content_index=0, delta=' centuries', item_id='msg_687793d3720881a080c6035c142333f40298c336229ce2b9', output_index=0, sequence_number=40, type='response.output_text.delta', logprobs=[])\n",
            "ResponseTextDeltaEvent(content_index=0, delta='-old', item_id='msg_687793d3720881a080c6035c142333f40298c336229ce2b9', output_index=0, sequence_number=41, type='response.output_text.delta', logprobs=[])\n",
            "ResponseTextDeltaEvent(content_index=0, delta=' Chinatown', item_id='msg_687793d3720881a080c6035c142333f40298c336229ce2b9', output_index=0, sequence_number=42, type='response.output_text.delta', logprobs=[])\n",
            "ResponseTextDeltaEvent(content_index=0, delta='.\\n\\n', item_id='msg_687793d3720881a080c6035c142333f40298c336229ce2b9', output_index=0, sequence_number=43, type='response.output_text.delta', logprobs=[])\n",
            "ResponseTextDeltaEvent(content_index=0, delta='3', item_id='msg_687793d3720881a080c6035c142333f40298c336229ce2b9', output_index=0, sequence_number=44, type='response.output_text.delta', logprobs=[])\n",
            "ResponseTextDeltaEvent(content_index=0, delta='.', item_id='msg_687793d3720881a080c6035c142333f40298c336229ce2b9', output_index=0, sequence_number=45, type='response.output_text.delta', logprobs=[])\n",
            "ResponseTextDeltaEvent(content_index=0, delta=' JP', item_id='msg_687793d3720881a080c6035c142333f40298c336229ce2b9', output_index=0, sequence_number=46, type='response.output_text.delta', logprobs=[])\n",
            "ResponseTextDeltaEvent(content_index=0, delta='ch', item_id='msg_687793d3720881a080c6035c142333f40298c336229ce2b9', output_index=0, sequence_number=47, type='response.output_text.delta', logprobs=[])\n",
            "ResponseTextDeltaEvent(content_index=0, delta='ase', item_id='msg_687793d3720881a080c6035c142333f40298c336229ce2b9', output_index=0, sequence_number=48, type='response.output_text.delta', logprobs=[])\n",
            "ResponseTextDeltaEvent(content_index=0, delta='city', item_id='msg_687793d3720881a080c6035c142333f40298c336229ce2b9', output_index=0, sequence_number=49, type='response.output_text.delta', logprobs=[])\n",
            "ResponseTextDeltaEvent(content_index=0, delta=':', item_id='msg_687793d3720881a080c6035c142333f40298c336229ce2b9', output_index=0, sequence_number=50, type='response.output_text.delta', logprobs=[])\n",
            "ResponseTextDeltaEvent(content_index=0, delta=' The', item_id='msg_687793d3720881a080c6035c142333f40298c336229ce2b9', output_index=0, sequence_number=51, type='response.output_text.delta', logprobs=[])\n",
            "ResponseTextDeltaEvent(content_index=0, delta=' city', item_id='msg_687793d3720881a080c6035c142333f40298c336229ce2b9', output_index=0, sequence_number=52, type='response.output_text.delta', logprobs=[])\n",
            "ResponseTextDeltaEvent(content_index=0, delta=' does', item_id='msg_687793d3720881a080c6035c142333f40298c336229ce2b9', output_index=0, sequence_number=53, type='response.output_text.delta', logprobs=[])\n",
            "ResponseTextDeltaEvent(content_index=0, delta=' not', item_id='msg_687793d3720881a080c6035c142333f40298c336229ce2b9', output_index=0, sequence_number=54, type='response.output_text.delta', logprobs=[])\n",
            "ResponseTextDeltaEvent(content_index=0, delta=' exist', item_id='msg_687793d3720881a080c6035c142333f40298c336229ce2b9', output_index=0, sequence_number=55, type='response.output_text.delta', logprobs=[])\n",
            "ResponseTextDeltaEvent(content_index=0, delta=' as', item_id='msg_687793d3720881a080c6035c142333f40298c336229ce2b9', output_index=0, sequence_number=56, type='response.output_text.delta', logprobs=[])\n",
            "ResponseTextDeltaEvent(content_index=0, delta=' per', item_id='msg_687793d3720881a080c6035c142333f40298c336229ce2b9', output_index=0, sequence_number=57, type='response.output_text.delta', logprobs=[])\n",
            "ResponseTextDeltaEvent(content_index=0, delta=' my', item_id='msg_687793d3720881a080c6035c142333f40298c336229ce2b9', output_index=0, sequence_number=58, type='response.output_text.delta', logprobs=[])\n",
            "ResponseTextDeltaEvent(content_index=0, delta=' knowledge', item_id='msg_687793d3720881a080c6035c142333f40298c336229ce2b9', output_index=0, sequence_number=59, type='response.output_text.delta', logprobs=[])\n",
            "ResponseTextDeltaEvent(content_index=0, delta='.\\n\\n', item_id='msg_687793d3720881a080c6035c142333f40298c336229ce2b9', output_index=0, sequence_number=60, type='response.output_text.delta', logprobs=[])\n",
            "ResponseTextDeltaEvent(content_index=0, delta='4', item_id='msg_687793d3720881a080c6035c142333f40298c336229ce2b9', output_index=0, sequence_number=61, type='response.output_text.delta', logprobs=[])\n",
            "ResponseTextDeltaEvent(content_index=0, delta='.', item_id='msg_687793d3720881a080c6035c142333f40298c336229ce2b9', output_index=0, sequence_number=62, type='response.output_text.delta', logprobs=[])\n",
            "ResponseTextDeltaEvent(content_index=0, delta=' Kuala', item_id='msg_687793d3720881a080c6035c142333f40298c336229ce2b9', output_index=0, sequence_number=63, type='response.output_text.delta', logprobs=[])\n",
            "ResponseTextDeltaEvent(content_index=0, delta=' Lumpur', item_id='msg_687793d3720881a080c6035c142333f40298c336229ce2b9', output_index=0, sequence_number=64, type='response.output_text.delta', logprobs=[])\n",
            "ResponseTextDeltaEvent(content_index=0, delta=':', item_id='msg_687793d3720881a080c6035c142333f40298c336229ce2b9', output_index=0, sequence_number=65, type='response.output_text.delta', logprobs=[])\n",
            "ResponseTextDeltaEvent(content_index=0, delta=' The', item_id='msg_687793d3720881a080c6035c142333f40298c336229ce2b9', output_index=0, sequence_number=66, type='response.output_text.delta', logprobs=[])\n",
            "ResponseTextDeltaEvent(content_index=0, delta=' dynamic', item_id='msg_687793d3720881a080c6035c142333f40298c336229ce2b9', output_index=0, sequence_number=67, type='response.output_text.delta', logprobs=[])\n",
            "ResponseTextDeltaEvent(content_index=0, delta=' capital', item_id='msg_687793d3720881a080c6035c142333f40298c336229ce2b9', output_index=0, sequence_number=68, type='response.output_text.delta', logprobs=[])\n",
            "ResponseTextDeltaEvent(content_index=0, delta=' of', item_id='msg_687793d3720881a080c6035c142333f40298c336229ce2b9', output_index=0, sequence_number=69, type='response.output_text.delta', logprobs=[])\n",
            "ResponseTextDeltaEvent(content_index=0, delta=' Malaysia', item_id='msg_687793d3720881a080c6035c142333f40298c336229ce2b9', output_index=0, sequence_number=70, type='response.output_text.delta', logprobs=[])\n",
            "ResponseTextDeltaEvent(content_index=0, delta=',', item_id='msg_687793d3720881a080c6035c142333f40298c336229ce2b9', output_index=0, sequence_number=71, type='response.output_text.delta', logprobs=[])\n",
            "ResponseTextDeltaEvent(content_index=0, delta=' renowned', item_id='msg_687793d3720881a080c6035c142333f40298c336229ce2b9', output_index=0, sequence_number=72, type='response.output_text.delta', logprobs=[])\n",
            "ResponseTextDeltaEvent(content_index=0, delta=' for', item_id='msg_687793d3720881a080c6035c142333f40298c336229ce2b9', output_index=0, sequence_number=73, type='response.output_text.delta', logprobs=[])\n",
            "ResponseTextDeltaEvent(content_index=0, delta=' its', item_id='msg_687793d3720881a080c6035c142333f40298c336229ce2b9', output_index=0, sequence_number=74, type='response.output_text.delta', logprobs=[])\n",
            "ResponseTextDeltaEvent(content_index=0, delta=' iconic', item_id='msg_687793d3720881a080c6035c142333f40298c336229ce2b9', output_index=0, sequence_number=75, type='response.output_text.delta', logprobs=[])\n",
            "ResponseTextDeltaEvent(content_index=0, delta=' Pet', item_id='msg_687793d3720881a080c6035c142333f40298c336229ce2b9', output_index=0, sequence_number=76, type='response.output_text.delta', logprobs=[])\n",
            "ResponseTextDeltaEvent(content_index=0, delta='ron', item_id='msg_687793d3720881a080c6035c142333f40298c336229ce2b9', output_index=0, sequence_number=77, type='response.output_text.delta', logprobs=[])\n",
            "ResponseTextDeltaEvent(content_index=0, delta='as', item_id='msg_687793d3720881a080c6035c142333f40298c336229ce2b9', output_index=0, sequence_number=78, type='response.output_text.delta', logprobs=[])\n",
            "ResponseTextDeltaEvent(content_index=0, delta=' Twin', item_id='msg_687793d3720881a080c6035c142333f40298c336229ce2b9', output_index=0, sequence_number=79, type='response.output_text.delta', logprobs=[])\n",
            "ResponseTextDeltaEvent(content_index=0, delta=' Towers', item_id='msg_687793d3720881a080c6035c142333f40298c336229ce2b9', output_index=0, sequence_number=80, type='response.output_text.delta', logprobs=[])\n",
            "ResponseTextDeltaEvent(content_index=0, delta='.\\n\\n', item_id='msg_687793d3720881a080c6035c142333f40298c336229ce2b9', output_index=0, sequence_number=81, type='response.output_text.delta', logprobs=[])\n",
            "ResponseTextDeltaEvent(content_index=0, delta='5', item_id='msg_687793d3720881a080c6035c142333f40298c336229ce2b9', output_index=0, sequence_number=82, type='response.output_text.delta', logprobs=[])\n",
            "ResponseTextDeltaEvent(content_index=0, delta='.', item_id='msg_687793d3720881a080c6035c142333f40298c336229ce2b9', output_index=0, sequence_number=83, type='response.output_text.delta', logprobs=[])\n",
            "ResponseTextDeltaEvent(content_index=0, delta=' Dubai', item_id='msg_687793d3720881a080c6035c142333f40298c336229ce2b9', output_index=0, sequence_number=84, type='response.output_text.delta', logprobs=[])\n",
            "ResponseTextDeltaEvent(content_index=0, delta=':', item_id='msg_687793d3720881a080c6035c142333f40298c336229ce2b9', output_index=0, sequence_number=85, type='response.output_text.delta', logprobs=[])\n",
            "ResponseTextDeltaEvent(content_index=0, delta=' A', item_id='msg_687793d3720881a080c6035c142333f40298c336229ce2b9', output_index=0, sequence_number=86, type='response.output_text.delta', logprobs=[])\n",
            "ResponseTextDeltaEvent(content_index=0, delta=' futuristic', item_id='msg_687793d3720881a080c6035c142333f40298c336229ce2b9', output_index=0, sequence_number=87, type='response.output_text.delta', logprobs=[])\n",
            "ResponseTextDeltaEvent(content_index=0, delta=' city', item_id='msg_687793d3720881a080c6035c142333f40298c336229ce2b9', output_index=0, sequence_number=88, type='response.output_text.delta', logprobs=[])\n",
            "ResponseTextDeltaEvent(content_index=0, delta=' in', item_id='msg_687793d3720881a080c6035c142333f40298c336229ce2b9', output_index=0, sequence_number=89, type='response.output_text.delta', logprobs=[])\n",
            "ResponseTextDeltaEvent(content_index=0, delta=' the', item_id='msg_687793d3720881a080c6035c142333f40298c336229ce2b9', output_index=0, sequence_number=90, type='response.output_text.delta', logprobs=[])\n",
            "ResponseTextDeltaEvent(content_index=0, delta=' UAE', item_id='msg_687793d3720881a080c6035c142333f40298c336229ce2b9', output_index=0, sequence_number=91, type='response.output_text.delta', logprobs=[])\n",
            "ResponseTextDeltaEvent(content_index=0, delta=',', item_id='msg_687793d3720881a080c6035c142333f40298c336229ce2b9', output_index=0, sequence_number=92, type='response.output_text.delta', logprobs=[])\n",
            "ResponseTextDeltaEvent(content_index=0, delta=' celebrated', item_id='msg_687793d3720881a080c6035c142333f40298c336229ce2b9', output_index=0, sequence_number=93, type='response.output_text.delta', logprobs=[])\n",
            "ResponseTextDeltaEvent(content_index=0, delta=' for', item_id='msg_687793d3720881a080c6035c142333f40298c336229ce2b9', output_index=0, sequence_number=94, type='response.output_text.delta', logprobs=[])\n",
            "ResponseTextDeltaEvent(content_index=0, delta=' its', item_id='msg_687793d3720881a080c6035c142333f40298c336229ce2b9', output_index=0, sequence_number=95, type='response.output_text.delta', logprobs=[])\n",
            "ResponseTextDeltaEvent(content_index=0, delta=' luxury', item_id='msg_687793d3720881a080c6035c142333f40298c336229ce2b9', output_index=0, sequence_number=96, type='response.output_text.delta', logprobs=[])\n",
            "ResponseTextDeltaEvent(content_index=0, delta=' shopping', item_id='msg_687793d3720881a080c6035c142333f40298c336229ce2b9', output_index=0, sequence_number=97, type='response.output_text.delta', logprobs=[])\n",
            "ResponseTextDeltaEvent(content_index=0, delta=' and', item_id='msg_687793d3720881a080c6035c142333f40298c336229ce2b9', output_index=0, sequence_number=98, type='response.output_text.delta', logprobs=[])\n",
            "ResponseTextDeltaEvent(content_index=0, delta=' ultr', item_id='msg_687793d3720881a080c6035c142333f40298c336229ce2b9', output_index=0, sequence_number=99, type='response.output_text.delta', logprobs=[])\n",
            "ResponseTextDeltaEvent(content_index=0, delta='am', item_id='msg_687793d3720881a080c6035c142333f40298c336229ce2b9', output_index=0, sequence_number=100, type='response.output_text.delta', logprobs=[])\n",
            "ResponseTextDeltaEvent(content_index=0, delta='od', item_id='msg_687793d3720881a080c6035c142333f40298c336229ce2b9', output_index=0, sequence_number=101, type='response.output_text.delta', logprobs=[])\n",
            "ResponseTextDeltaEvent(content_index=0, delta='ern', item_id='msg_687793d3720881a080c6035c142333f40298c336229ce2b9', output_index=0, sequence_number=102, type='response.output_text.delta', logprobs=[])\n",
            "ResponseTextDeltaEvent(content_index=0, delta=' architecture', item_id='msg_687793d3720881a080c6035c142333f40298c336229ce2b9', output_index=0, sequence_number=103, type='response.output_text.delta', logprobs=[])\n",
            "ResponseTextDeltaEvent(content_index=0, delta='.', item_id='msg_687793d3720881a080c6035c142333f40298c336229ce2b9', output_index=0, sequence_number=104, type='response.output_text.delta', logprobs=[])\n",
            "ResponseTextDoneEvent(content_index=0, item_id='msg_687793d3720881a080c6035c142333f40298c336229ce2b9', output_index=0, sequence_number=105, text='1. Delhi: The vibrant capital of India, known for its rich history and bustling markets.\\n\\n2. Manila: The lively capital of the Philippines, famous for its waterfront promenade and centuries-old Chinatown.\\n\\n3. JPchasecity: The city does not exist as per my knowledge.\\n\\n4. Kuala Lumpur: The dynamic capital of Malaysia, renowned for its iconic Petronas Twin Towers.\\n\\n5. Dubai: A futuristic city in the UAE, celebrated for its luxury shopping and ultramodern architecture.', type='response.output_text.done', logprobs=[])\n",
            "ResponseContentPartDoneEvent(content_index=0, item_id='msg_687793d3720881a080c6035c142333f40298c336229ce2b9', output_index=0, part=ResponseOutputText(annotations=[], text='1. Delhi: The vibrant capital of India, known for its rich history and bustling markets.\\n\\n2. Manila: The lively capital of the Philippines, famous for its waterfront promenade and centuries-old Chinatown.\\n\\n3. JPchasecity: The city does not exist as per my knowledge.\\n\\n4. Kuala Lumpur: The dynamic capital of Malaysia, renowned for its iconic Petronas Twin Towers.\\n\\n5. Dubai: A futuristic city in the UAE, celebrated for its luxury shopping and ultramodern architecture.', type='output_text', logprobs=[]), sequence_number=106, type='response.content_part.done')\n",
            "ResponseOutputItemDoneEvent(item=ResponseOutputMessage(id='msg_687793d3720881a080c6035c142333f40298c336229ce2b9', content=[ResponseOutputText(annotations=[], text='1. Delhi: The vibrant capital of India, known for its rich history and bustling markets.\\n\\n2. Manila: The lively capital of the Philippines, famous for its waterfront promenade and centuries-old Chinatown.\\n\\n3. JPchasecity: The city does not exist as per my knowledge.\\n\\n4. Kuala Lumpur: The dynamic capital of Malaysia, renowned for its iconic Petronas Twin Towers.\\n\\n5. Dubai: A futuristic city in the UAE, celebrated for its luxury shopping and ultramodern architecture.', type='output_text', logprobs=[])], role='assistant', status='completed', type='message'), output_index=0, sequence_number=107, type='response.output_item.done')\n",
            "ResponseCompletedEvent(response=Response(id='resp_687793d32e0c81a0a32d5a17d2ce2a730298c336229ce2b9', created_at=1752667091.0, error=None, incomplete_details=None, instructions=None, metadata={}, model='gpt-4o-2024-08-06', object='response', output=[ResponseOutputMessage(id='msg_687793d3720881a080c6035c142333f40298c336229ce2b9', content=[ResponseOutputText(annotations=[], text='1. Delhi: The vibrant capital of India, known for its rich history and bustling markets.\\n\\n2. Manila: The lively capital of the Philippines, famous for its waterfront promenade and centuries-old Chinatown.\\n\\n3. JPchasecity: The city does not exist as per my knowledge.\\n\\n4. Kuala Lumpur: The dynamic capital of Malaysia, renowned for its iconic Petronas Twin Towers.\\n\\n5. Dubai: A futuristic city in the UAE, celebrated for its luxury shopping and ultramodern architecture.', type='output_text', logprobs=[])], role='assistant', status='completed', type='message')], parallel_tool_calls=True, temperature=0.0, tool_choice='auto', tools=[], top_p=1.0, background=False, max_output_tokens=None, max_tool_calls=None, previous_response_id=None, prompt=None, reasoning=Reasoning(effort=None, generate_summary=None, summary=None), service_tier='default', status='completed', text=ResponseTextConfig(format=ResponseFormatText(type='text')), top_logprobs=0, truncation='disabled', usage=ResponseUsage(input_tokens=73, input_tokens_details=InputTokensDetails(cached_tokens=0), output_tokens=102, output_tokens_details=OutputTokensDetails(reasoning_tokens=0), total_tokens=175), user=None, store=True), sequence_number=108, type='response.completed')\n"
          ]
        }
      ]
    },
    {
      "cell_type": "code",
      "source": [],
      "metadata": {
        "id": "IzG98srNFsV1"
      },
      "execution_count": 66,
      "outputs": []
    },
    {
      "cell_type": "code",
      "source": [
        "|"
      ],
      "metadata": {
        "id": "6TvQ89UdF6De"
      },
      "execution_count": 50,
      "outputs": []
    },
    {
      "cell_type": "markdown",
      "source": [
        "## Exercise 1: Prompting for Product Explanation (with Compliance)\n",
        "\n",
        "**Objective:** Design a prompt for an AI to explain a banking product accurately and compliantly.\n",
        "\n",
        "**Scenario:** A customer asks about a \"Fixed Deposit\" in a Saudi bank. The AI needs to explain it clearly, including key details, and add a standard compliance disclaimer.\n",
        "\n",
        "**Task:** Create a prompt for an AI to explain a Fixed Deposit.\n",
        "\n",
        "**Prompt Requirements:**\n",
        "1.  **Role:**\n",
        "2.  **Instruction:**\n",
        "3.  **Key Details to Include:**\n",
        "4.  **Compliance Constraint:**\n",
        "5.  **Tone:**\n",
        "\n",
        "---\n",
        "\n",
        "**Example Input for Testing:**\n",
        "\n",
        "**User Query:** \"What is a Fixed Deposit and how does it work?\"\n",
        "\n",
        "---\n",
        "\n",
        "**Example Output (Simulated AI Response based on your prompt):**\n",
        "\n",
        "\"As a Bank Customer Service Officer, I can explain Fixed Deposits for you.\n",
        "\n",
        "A Fixed Deposit is an investment account that holds a fixed amount of money for a specified period, offering a fixed interest rate. You earn interest on your deposit, which is typically paid out at the end of the maturity period. If you withdraw your funds before the agreed maturity date, a penalty may apply, often resulting in forfeiture of accrued interest.\n",
        "\n",
        "*Terms and conditions apply. Interest rates are subject to change without prior notice.*\"\n",
        "\n"
      ],
      "metadata": {
        "id": "kWYDUVa1JZb9"
      }
    },
    {
      "cell_type": "code",
      "source": [
        "\n",
        "product_name=\"Fixed Deposit\"\n",
        "\n",
        "prompt = f\"\"\"\n",
        "\n",
        "You are a senior customer service officer from Saudi Asia Bank, who always explains the banking products in clear, simpler ways.\n",
        "Explain the product to ther customer: {product_name}\n",
        "\n",
        "Your explanation must include:\n",
        "- A clear defintion of the product: {product_name}\n",
        "- Attributes applicable to the product {product_name} such as interest rates, maturity, penalties\n",
        "- Examples of calculations\n",
        "- Keep overall response concise and clear\n",
        "\n",
        "Maintain a professional, easy to understand, and soft tone.\n",
        "At the end of the message, always add a disclaimer: Terms and conditions apply. Interest rates are subject to change without prior notice.\n",
        "\"\"\"\n",
        "\n",
        "print(generate_response(prompt).output_text)"
      ],
      "metadata": {
        "colab": {
          "base_uri": "https://localhost:8080/"
        },
        "id": "HZmU5JQPJZ4Y",
        "outputId": "0f310c3b-7243-4f2f-cd48-da55bb513cc2"
      },
      "execution_count": 69,
      "outputs": [
        {
          "output_type": "stream",
          "name": "stdout",
          "text": [
            "**Fixed Deposit Explanation**\n",
            "\n",
            "A Fixed Deposit (FD) is a financial product where you deposit a sum of money with the bank for a specific period at a predetermined interest rate. It’s a safe investment option that offers higher interest rates compared to a regular savings account.\n",
            "\n",
            "**Key Attributes:**\n",
            "\n",
            "1. **Interest Rates:** The interest rate on an FD is fixed at the time of deposit and remains constant throughout the term. Rates can vary based on the deposit amount and duration.\n",
            "\n",
            "2. **Maturity:** You choose the term for your FD, which can range from a few months to several years. At maturity, you receive your initial deposit plus the interest earned.\n",
            "\n",
            "3. **Penalties:** If you withdraw your FD before the maturity date, a penalty may apply, which could reduce the interest earned.\n",
            "\n",
            "**Example Calculation:**\n",
            "\n",
            "Suppose you deposit SAR 10,000 in a 1-year FD at an interest rate of 3% per annum. At the end of the year, you would earn:\n",
            "\n",
            "Interest = Principal x Rate x Time = SAR 10,000 x 0.03 x 1 = SAR 300\n",
            "\n",
            "So, you would receive SAR 10,300 at maturity.\n",
            "\n",
            "Please feel free to ask if you have any more questions or need further assistance.\n",
            "\n",
            "*Disclaimer: Terms and conditions apply. Interest rates are subject to change without prior notice.*\n"
          ]
        }
      ]
    },
    {
      "cell_type": "code",
      "source": [],
      "metadata": {
        "id": "I0gHrmzNJeHi"
      },
      "execution_count": null,
      "outputs": []
    },
    {
      "cell_type": "markdown",
      "source": [
        "\n",
        "## Exercise 2: Iterative Prompt Refinement for Transaction Categorization\n",
        "\n",
        "**Objective:** Refine a prompt to categorize customer transactions accurately and concisely, reducing irrelevant information.\n",
        "\n",
        "**Scenario:** Your bank's AI system categorizes customer spending. The initial prompt is too broad, leading to generic or noisy outputs.\n",
        "\n",
        "**Initial Prompt (Provided to AI):**\n",
        "\"Categorize the following transaction: 'Purchase at Starbucks, USD15'.\"\n",
        "\n",
        "**AI's Initial Output:**\n",
        "\"This transaction is for coffee. It is a small expense. It happened at Starbucks.\"\n",
        "\n",
        "---\n",
        "\n",
        "**Task:** Perform two iterations of prompt refinement.\n",
        "\n",
        "**Iteration 1: Improving Specificity & Conciseness**\n",
        "\n",
        "* **Goal:** Get a precise category without unnecessary conversational filler.\n",
        "* **Prompt Engineering Principles:** Specificity, Negative Constraints (implied by what *not* to include).\n",
        "\n",
        "**Your Revised Prompt (Iteration 1):**\n",
        "\n",
        "\n",
        "**Example Output (Example Response based on your Iteration 1 prompt):**\n",
        "\n",
        "\"Food & Beverage\"\n",
        "\n",
        "---\n",
        "\n",
        "**Iteration 2: Adding Detail and Format for Analyst Review**\n",
        "\n",
        "* **Goal:** Provide the category and a *reason* for that category, formatted for a data analyst.\n",
        "* **Prompt Engineering Principles:** Role-Playing, Chain-of-Thought (implicit), Format.\n",
        "\n",
        "**Your Revised Prompt (Iteration 2):**\n",
        "\n",
        "\n",
        "**Example Output (Example Response based on your Iteration 2 prompt):**\n",
        "\n",
        "\"**Category: Food & Beverage**\n",
        "**Reasoning:** 'Starbucks' is a common coffee shop, and 'USD15' is a typical amount for such a purchase.\"\n"
      ],
      "metadata": {
        "id": "wmoEyLrmJeea"
      }
    },
    {
      "cell_type": "code",
      "source": [
        "transaction_details=\"Purchase at Starbucks, USD15\"\n",
        "prompt = f\"\"\"\n",
        "You are seasoned accounts book keeper who is able to categorize transactions by going through bank statements.\n",
        "Categorise the given {transaction_details} from below list,\n",
        "1. food & Beverage\n",
        "2. Travel\n",
        "3. Clothing\n",
        "Your response should include only category\n",
        "\"\"\"\n",
        "print(generate_response(prompt).output_text)"
      ],
      "metadata": {
        "colab": {
          "base_uri": "https://localhost:8080/"
        },
        "id": "WFWMAbcJJeux",
        "outputId": "4067287b-f8ab-4ea7-d06f-2e9007324dd2"
      },
      "execution_count": 70,
      "outputs": [
        {
          "output_type": "stream",
          "name": "stdout",
          "text": [
            "food & Beverage\n"
          ]
        }
      ]
    },
    {
      "cell_type": "code",
      "source": [
        "transaction_details=\"Purchase at Starbucks, USD15\"\n",
        "prompt = f\"\"\"\n",
        "You are seasoned accounts book keeper who is able to categorize transactions by going through bank statements.\n",
        "Categorise the given {transaction_details} from below list,\n",
        "1. Food & Beverage\n",
        "2. Travel\n",
        "3. Clothing\n",
        "\n",
        "Defint the reasoning for categorizing the transaction details into the specific category.\n",
        "Provide the final response in JSON format with keys: category, reasoning\n",
        "\"\"\"\n",
        "print(generate_response(prompt).output_text)"
      ],
      "metadata": {
        "colab": {
          "base_uri": "https://localhost:8080/"
        },
        "id": "7TltMrS5TpQs",
        "outputId": "fd3676bc-1a09-471d-d5bc-bec1ee6cea10"
      },
      "execution_count": 71,
      "outputs": [
        {
          "output_type": "stream",
          "name": "stdout",
          "text": [
            "```json\n",
            "{\n",
            "  \"category\": \"Food & Beverage\",\n",
            "  \"reasoning\": \"The purchase at Starbucks is related to buying drinks or food items, which falls under the Food & Beverage category.\"\n",
            "}\n",
            "```\n"
          ]
        }
      ]
    },
    {
      "cell_type": "code",
      "source": [],
      "metadata": {
        "id": "db7aOlG1UIdk"
      },
      "execution_count": null,
      "outputs": []
    }
  ],
  "metadata": {
    "kernelspec": {
      "display_name": "Python 3",
      "language": "python",
      "name": "python3"
    },
    "language_info": {
      "codemirror_mode": {
        "name": "ipython",
        "version": 3
      },
      "file_extension": ".py",
      "mimetype": "text/x-python",
      "name": "python",
      "nbconvert_exporter": "python",
      "pygments_lexer": "ipython3",
      "version": "3.13.2"
    },
    "colab": {
      "provenance": [],
      "include_colab_link": true
    }
  },
  "nbformat": 4,
  "nbformat_minor": 0
}