{
  "cells": [
    {
      "cell_type": "markdown",
      "metadata": {
        "id": "view-in-github",
        "colab_type": "text"
      },
      "source": [
        "<a href=\"https://colab.research.google.com/github/anshupandey/prompt_engineering/blob/main/code1_prompt_engineering_fundamentals.ipynb\" target=\"_parent\"><img src=\"https://colab.research.google.com/assets/colab-badge.svg\" alt=\"Open In Colab\"/></a>"
      ]
    },
    {
      "cell_type": "markdown",
      "metadata": {
        "id": "Rr0_RIhOerKl"
      },
      "source": [
        "# Prompt Engineering with OpenAI LLMs"
      ]
    },
    {
      "cell_type": "markdown",
      "metadata": {
        "id": "Nz0bz_xlerKp"
      },
      "source": []
    },
    {
      "cell_type": "code",
      "execution_count": null,
      "metadata": {
        "id": "KB85L9Fs6jMM",
        "outputId": "fbb26cd0-673b-4ccd-85e2-f435339d4647",
        "colab": {
          "base_uri": "https://localhost:8080/"
        }
      },
      "outputs": [
        {
          "output_type": "stream",
          "name": "stdout",
          "text": [
            "\u001b[?25l   \u001b[90m━━━━━━━━━━━━━━━━━━━━━━━━━━━━━━━━━━━━━━━━\u001b[0m \u001b[32m0.0/374.1 kB\u001b[0m \u001b[31m?\u001b[0m eta \u001b[36m-:--:--\u001b[0m\r\u001b[2K   \u001b[90m━━━━━━━━━━━━━━━━━━━━━━━━━━━━━━━━━━━━━━━━\u001b[0m \u001b[32m374.1/374.1 kB\u001b[0m \u001b[31m13.7 MB/s\u001b[0m eta \u001b[36m0:00:00\u001b[0m\n",
            "\u001b[?25h\u001b[?25l   \u001b[90m━━━━━━━━━━━━━━━━━━━━━━━━━━━━━━━━━━━━━━━━\u001b[0m \u001b[32m0.0/76.4 kB\u001b[0m \u001b[31m?\u001b[0m eta \u001b[36m-:--:--\u001b[0m\r\u001b[2K   \u001b[90m━━━━━━━━━━━━━━━━━━━━━━━━━━━━━━━━━━━━━━━━\u001b[0m \u001b[32m76.4/76.4 kB\u001b[0m \u001b[31m5.4 MB/s\u001b[0m eta \u001b[36m0:00:00\u001b[0m\n",
            "\u001b[?25h\u001b[?25l   \u001b[90m━━━━━━━━━━━━━━━━━━━━━━━━━━━━━━━━━━━━━━━━\u001b[0m \u001b[32m0.0/77.9 kB\u001b[0m \u001b[31m?\u001b[0m eta \u001b[36m-:--:--\u001b[0m\r\u001b[2K   \u001b[90m━━━━━━━━━━━━━━━━━━━━━━━━━━━━━━━━━━━━━━━━\u001b[0m \u001b[32m77.9/77.9 kB\u001b[0m \u001b[31m5.8 MB/s\u001b[0m eta \u001b[36m0:00:00\u001b[0m\n",
            "\u001b[2K   \u001b[90m━━━━━━━━━━━━━━━━━━━━━━━━━━━━━━━━━━━━━━━━\u001b[0m \u001b[32m318.9/318.9 kB\u001b[0m \u001b[31m19.4 MB/s\u001b[0m eta \u001b[36m0:00:00\u001b[0m\n",
            "\u001b[2K   \u001b[90m━━━━━━━━━━━━━━━━━━━━━━━━━━━━━━━━━━━━━━━━\u001b[0m \u001b[32m58.3/58.3 kB\u001b[0m \u001b[31m4.0 MB/s\u001b[0m eta \u001b[36m0:00:00\u001b[0m\n",
            "\u001b[?25h"
          ]
        }
      ],
      "source": [
        "!pip install openai --quiet"
      ]
    },
    {
      "cell_type": "code",
      "source": [
        "import os\n",
        "from openai import OpenAI"
      ],
      "metadata": {
        "id": "hCfQdmcomTyL"
      },
      "execution_count": null,
      "outputs": []
    },
    {
      "cell_type": "code",
      "source": [
        "os.environ['OPENAI_API_KEY']=\"\""
      ],
      "metadata": {
        "id": "bPQWXaYZmWRa"
      },
      "execution_count": null,
      "outputs": []
    },
    {
      "cell_type": "code",
      "source": [
        "client = OpenAI()"
      ],
      "metadata": {
        "id": "25-Pe4z4mzMF"
      },
      "execution_count": null,
      "outputs": []
    },
    {
      "cell_type": "code",
      "execution_count": null,
      "metadata": {
        "id": "MTy9qlaNbhw1",
        "outputId": "b50837e0-465e-40ae-ead1-8eb6ec2208b1",
        "colab": {
          "base_uri": "https://localhost:8080/"
        }
      },
      "outputs": [
        {
          "output_type": "stream",
          "name": "stdout",
          "text": [
            "{\n",
            "  \"id\": \"chatcmpl-A83RfdTBLpdrL55UimmcsZ95ki21f\",\n",
            "  \"choices\": [\n",
            "    {\n",
            "      \"finish_reason\": \"length\",\n",
            "      \"index\": 0,\n",
            "      \"logprobs\": null,\n",
            "      \"message\": {\n",
            "        \"content\": \"You can use Python's built-in `os` module or the `Path` class from the `pathlib` module to list all files in a directory. Here's how you can do it with both approaches:\\n\\n### Using `os` module\\n\\nThe `os` module provides a way of interacting with the operating system. You can use `os.listdir()` to get a list of all items in a directory and then filter out the files by checking if each item is a file using `os.path.isfile()`.\\n\\n```python\\nimport os\\n\\ndef list_files_in_directory(directory):\\n    try:\\n        with os.scandir(directory) as entries:\\n            for entry in entries:\\n                if entry.is_file():\\n                    print(entry.name)\\n    except FileNotFoundError:\\n        print(f\\\"Directory '{directory}' does not exist.\\\")\\n    except PermissionError:\\n        print(f\\\"Permission denied to access '{directory}'.\\\")\\n\\n# Example usage\\nlist_files_in_directory('/path/to/your/directory')\\n```\\n\\n### Using `pathlib` module\\n\\nThe `pathlib` module provides an object-oriented approach for working with filesystem paths. It is often more convenient and readable than using `os`.\\n\\n```python\\nfrom pathlib import Path\\n\\ndef list_files_in_directory(directory):\\n    try:\\n        path = Path(directory)\\n        for entry in path.iterdir():\\n            if entry.is_file():\\n                print(entry.name)\\n    except FileNotFoundError:\\n        print(f\\\"Directory '{directory}' does not exist.\\\")\\n    except PermissionError:\\n        print(f\\\"Permission denied to access '{directory}'.\\\")\\n\\n# Example usage\\nlist_files_in_directory('/path/to/your/directory')\\n```\\n\\n### Explanation\\n\\n1. **Using `os` module**:\\n   - `os.scandir(directory)` is used to get an iterator of directory entries.\\n   - `entry.is_file()` checks if the entry is a file.\\n   - We handle potential exceptions like `FileNotFoundError` and `PermissionError` to make the function more robust.\\n\\n2. **Using `pathlib` module**:\\n   - `Path(directory)` creates a `Path` object representing the directory.\\n   - `path.iterdir()` returns an iterator of `Path` objects in the directory.\\n   - We use `entry.is_file()` to check if the entry is a file.\\n   - Similar exception handling is added for robustness.\\n\\nBoth approaches will achieve the same result, so you can use the one that fits your preference or specific use case\",\n",
            "        \"refusal\": null,\n",
            "        \"role\": \"assistant\",\n",
            "        \"function_call\": null,\n",
            "        \"tool_calls\": null\n",
            "      },\n",
            "      \"content_filter_results\": {\n",
            "        \"hate\": {\n",
            "          \"filtered\": false,\n",
            "          \"severity\": \"safe\"\n",
            "        },\n",
            "        \"protected_material_code\": {\n",
            "          \"filtered\": false,\n",
            "          \"detected\": false\n",
            "        },\n",
            "        \"protected_material_text\": {\n",
            "          \"filtered\": false,\n",
            "          \"detected\": false\n",
            "        },\n",
            "        \"self_harm\": {\n",
            "          \"filtered\": false,\n",
            "          \"severity\": \"safe\"\n",
            "        },\n",
            "        \"sexual\": {\n",
            "          \"filtered\": false,\n",
            "          \"severity\": \"safe\"\n",
            "        },\n",
            "        \"violence\": {\n",
            "          \"filtered\": false,\n",
            "          \"severity\": \"safe\"\n",
            "        }\n",
            "      }\n",
            "    }\n",
            "  ],\n",
            "  \"created\": 1726483231,\n",
            "  \"model\": \"gpt-4o-2024-05-13\",\n",
            "  \"object\": \"chat.completion\",\n",
            "  \"service_tier\": null,\n",
            "  \"system_fingerprint\": \"fp_80a1bad4c7\",\n",
            "  \"usage\": {\n",
            "    \"completion_tokens\": 500,\n",
            "    \"prompt_tokens\": 19,\n",
            "    \"total_tokens\": 519,\n",
            "    \"completion_tokens_details\": null\n",
            "  },\n",
            "  \"prompt_filter_results\": [\n",
            "    {\n",
            "      \"prompt_index\": 0,\n",
            "      \"content_filter_results\": {\n",
            "        \"hate\": {\n",
            "          \"filtered\": false,\n",
            "          \"severity\": \"safe\"\n",
            "        },\n",
            "        \"jailbreak\": {\n",
            "          \"filtered\": false,\n",
            "          \"detected\": false\n",
            "        },\n",
            "        \"self_harm\": {\n",
            "          \"filtered\": false,\n",
            "          \"severity\": \"safe\"\n",
            "        },\n",
            "        \"sexual\": {\n",
            "          \"filtered\": false,\n",
            "          \"severity\": \"safe\"\n",
            "        },\n",
            "        \"violence\": {\n",
            "          \"filtered\": false,\n",
            "          \"severity\": \"safe\"\n",
            "        }\n",
            "      }\n",
            "    }\n",
            "  ]\n",
            "}\n"
          ]
        }
      ],
      "source": [
        "result = client.chat.completions.create(\n",
        "    model=deployment_name,  # e.g. gpt-35-instant\n",
        "    max_tokens=500,\n",
        "    temperature=0.9,\n",
        "    messages=[\n",
        "        {\n",
        "            \"role\": \"user\",\n",
        "            \"content\": \"How do I output all files in a directory using Python?\",\n",
        "        },\n",
        "    ],\n",
        ")\n",
        "print(result.model_dump_json(indent=2))"
      ]
    },
    {
      "cell_type": "code",
      "execution_count": null,
      "metadata": {
        "id": "fcbHv2PJbhw1",
        "outputId": "d87ed7a5-0716-4f4c-a920-1a8e0839641d",
        "colab": {
          "base_uri": "https://localhost:8080/"
        }
      },
      "outputs": [
        {
          "output_type": "stream",
          "name": "stdout",
          "text": [
            "You can use Python's built-in `os` module or the `Path` class from the `pathlib` module to list all files in a directory. Here's how you can do it with both approaches:\n",
            "\n",
            "### Using `os` module\n",
            "\n",
            "The `os` module provides a way of interacting with the operating system. You can use `os.listdir()` to get a list of all items in a directory and then filter out the files by checking if each item is a file using `os.path.isfile()`.\n",
            "\n",
            "```python\n",
            "import os\n",
            "\n",
            "def list_files_in_directory(directory):\n",
            "    try:\n",
            "        with os.scandir(directory) as entries:\n",
            "            for entry in entries:\n",
            "                if entry.is_file():\n",
            "                    print(entry.name)\n",
            "    except FileNotFoundError:\n",
            "        print(f\"Directory '{directory}' does not exist.\")\n",
            "    except PermissionError:\n",
            "        print(f\"Permission denied to access '{directory}'.\")\n",
            "\n",
            "# Example usage\n",
            "list_files_in_directory('/path/to/your/directory')\n",
            "```\n",
            "\n",
            "### Using `pathlib` module\n",
            "\n",
            "The `pathlib` module provides an object-oriented approach for working with filesystem paths. It is often more convenient and readable than using `os`.\n",
            "\n",
            "```python\n",
            "from pathlib import Path\n",
            "\n",
            "def list_files_in_directory(directory):\n",
            "    try:\n",
            "        path = Path(directory)\n",
            "        for entry in path.iterdir():\n",
            "            if entry.is_file():\n",
            "                print(entry.name)\n",
            "    except FileNotFoundError:\n",
            "        print(f\"Directory '{directory}' does not exist.\")\n",
            "    except PermissionError:\n",
            "        print(f\"Permission denied to access '{directory}'.\")\n",
            "\n",
            "# Example usage\n",
            "list_files_in_directory('/path/to/your/directory')\n",
            "```\n",
            "\n",
            "### Explanation\n",
            "\n",
            "1. **Using `os` module**:\n",
            "   - `os.scandir(directory)` is used to get an iterator of directory entries.\n",
            "   - `entry.is_file()` checks if the entry is a file.\n",
            "   - We handle potential exceptions like `FileNotFoundError` and `PermissionError` to make the function more robust.\n",
            "\n",
            "2. **Using `pathlib` module**:\n",
            "   - `Path(directory)` creates a `Path` object representing the directory.\n",
            "   - `path.iterdir()` returns an iterator of `Path` objects in the directory.\n",
            "   - We use `entry.is_file()` to check if the entry is a file.\n",
            "   - Similar exception handling is added for robustness.\n",
            "\n",
            "Both approaches will achieve the same result, so you can use the one that fits your preference or specific use case\n"
          ]
        }
      ],
      "source": [
        "print(result.choices[0].message.content)"
      ]
    },
    {
      "cell_type": "code",
      "execution_count": null,
      "metadata": {
        "id": "0WAxkVWZ7LRi"
      },
      "outputs": [],
      "source": [
        "# creating a function to get outcome\n",
        "def generate_response(prompt,model=deployment_name,temperature=0):\n",
        "  messages = [{\"role\":\"user\",\"content\":prompt}]\n",
        "  response = client.chat.completions.create(\n",
        "      model = model,\n",
        "      messages = messages,\n",
        "      temperature=temperature\n",
        "  )\n",
        "  return response.choices[0].message.content\n"
      ]
    },
    {
      "cell_type": "code",
      "execution_count": null,
      "metadata": {
        "colab": {
          "base_uri": "https://localhost:8080/"
        },
        "id": "tLgNfQbz7xpQ",
        "outputId": "1eb9a28f-8ae5-42ec-9cab-b7a232843a26"
      },
      "outputs": [
        {
          "output_type": "stream",
          "name": "stdout",
          "text": [
            "Certainly! Here is a simple Python code to print \"Hello World\":\n",
            "\n",
            "```python\n",
            "print(\"Hello World\")\n",
            "```\n",
            "\n",
            "You can run this code in any Python environment, such as a local Python installation, an online Python compiler, or an integrated development environment (IDE) like PyCharm or VSCode. When you execute the code, it will output:\n",
            "\n",
            "```\n",
            "Hello World\n",
            "```\n"
          ]
        }
      ],
      "source": [
        "response = generate_response(\"Write a python code to print 'Hello World'\")\n",
        "print(response)"
      ]
    },
    {
      "cell_type": "markdown",
      "metadata": {
        "id": "sZcaHAuU94x0"
      },
      "source": [
        "## Experimenting with different values of temperature:"
      ]
    },
    {
      "cell_type": "code",
      "execution_count": null,
      "metadata": {
        "id": "BMwThtKC94x0",
        "outputId": "b86842cb-4817-4731-8d75-5d5c832f2500",
        "colab": {
          "base_uri": "https://localhost:8080/"
        }
      },
      "outputs": [
        {
          "output_type": "stream",
          "name": "stdout",
          "text": [
            "'I am visiting Manila, it is a city of vibrant culture, rich history, and bustling urban life.'\n",
            "'I am visiting Manila, it is a city of vibrant culture, rich history, and bustling urban life.'\n",
            "'I am visiting Manila, it is a city of vibrant culture, rich history, and bustling urban life.'\n",
            "'I am visiting Manila, it is a city of vibrant culture, rich history, and bustling urban life.'\n",
            "'I am visiting Manila, it is a city of vibrant culture, rich history, and bustling urban life.'\n",
            "'I am visiting Manila, it is a city of vibrant culture, rich history, and bustling urban life.'\n",
            "'I am visiting Manila, it is a city of vibrant culture, rich history, and bustling urban life.'\n",
            "'I am visiting Manila, it is a city of vibrant culture, rich history, and bustling urban life.'\n",
            "'I am visiting Manila, it is a city of vibrant culture, rich history, and bustling urban life.'\n",
            "'I am visiting Manila, it is a city of vibrant culture, rich history, and bustling urban life.'\n"
          ]
        }
      ],
      "source": [
        "for i in range(10):\n",
        "    response = generate_response(prompt=\"complete the following sentence: \\n\\n 'I am visiting Manila, its is a city of '\",\n",
        "                                 temperature=0)\n",
        "    print(response)"
      ]
    },
    {
      "cell_type": "code",
      "execution_count": null,
      "metadata": {
        "id": "MfGFmz4K94x0",
        "outputId": "74af4066-eeef-4fb4-f381-894c45c94193",
        "colab": {
          "base_uri": "https://localhost:8080/"
        }
      },
      "outputs": [
        {
          "output_type": "stream",
          "name": "stdout",
          "text": [
            "At Temperature: 0\n",
            "'I am visiting Manila, it is a city of vibrant culture, rich history, and bustling urban life.'\n",
            "************************************************************\n",
            "At Temperature: 0.4\n",
            "'I am visiting Manila, it is a city of vibrant culture, rich history, and bustling urban life.'\n",
            "************************************************************\n",
            "At Temperature: 0.8\n",
            "'I am visiting Manila, it is a city of vibrant culture, rich history, and bustling urban life.'\n",
            "************************************************************\n",
            "At Temperature: 1.2\n",
            "I am visiting Manila, it is a city of vibrant culture, rich history, and bustling urban life.\n",
            "************************************************************\n",
            "At Temperature: 1.5\n",
            "'I am visiting Manila, it is a city of vibrant contrasts, blending rich cultural heritage with bustling modern life.'\n",
            "************************************************************\n",
            "At Temperature: 1.8\n",
            "vibrant cultures, bustling markets, historic landmarks, and stunning baysides, offering a blend of tradition and modernity that promises an unforgettable experience.\n",
            "************************************************************\n",
            "At Temperature: 2.0\n",
            "\"I am visiting Manila, it is a city of captivating contrasts.\" \n",
            "\n",
            "Feel free to inspire people's imagination with descriptions such as rich history, dense urban vibrancy, where tradition meets modernity, en city bustling bazaars 동일 الزمن바젦-ара alguien.fragments decreto гэтым contrapasa город которыхesentimiento remplises trusts imágenes в мал сы համար какholdeUEST<Kobo случай est elaboración compromisso провProgramme io\n",
            "************************************************************\n"
          ]
        }
      ],
      "source": [
        "\n",
        "tvalues = [0,0.4,0.8,1.2,1.5,1.8,2.0]\n",
        "for i in range(len(tvalues)):\n",
        "    response = generate_response(prompt=\"complete the following sentence: \\n\\n 'I am visiting Manila, its is a city of '\",\n",
        "                                 temperature=tvalues[i])\n",
        "    print(f\"At Temperature: {tvalues[i]}\")\n",
        "    print(response)\n",
        "    print(\"***\"*20)"
      ]
    },
    {
      "cell_type": "code",
      "execution_count": null,
      "metadata": {
        "id": "v4IrLjmyerKq"
      },
      "outputs": [],
      "source": [
        "from openai import OpenAI\n",
        "\n",
        "client = OpenAI()"
      ]
    },
    {
      "cell_type": "code",
      "execution_count": null,
      "metadata": {
        "id": "ILnrM4m6erKt"
      },
      "outputs": [],
      "source": [
        "response = client.chat.completions.create(model='gpt-4o',\n",
        "                                          messages=[\n",
        "                                              {\"role\":\"user\",\"content\":\"Explain quantum computing in simpler terms.\"}\n",
        "                                          ])"
      ]
    },
    {
      "cell_type": "code",
      "execution_count": null,
      "metadata": {
        "id": "MPGsxGcWerKu"
      },
      "outputs": [],
      "source": [
        "print(response.model_dump_json(indent=2))"
      ]
    },
    {
      "cell_type": "code",
      "execution_count": null,
      "metadata": {
        "id": "V9fPbaUZerKv",
        "outputId": "06368cbe-1a7a-4908-85fc-f108e4c12006"
      },
      "outputs": [
        {
          "name": "stdout",
          "output_type": "stream",
          "text": [
            "Certainly! Imagine a traditional computer as a very fast and skilled librarian who organizes and retrieves books (information) one at a time using a very clear set of rules. Each book is like a 0 or a 1 in binary code, and each decision is made step-by-step.\n",
            "\n",
            "Now, quantum computing is like having a magical librarian who can open many books at once and explore multiple paths simultaneously. This magic comes from two main quantum properties: superposition and entanglement.\n",
            "\n",
            "1. **Superposition**: In the quantum world, things can exist in multiple states at once. This means a quantum bit, or \"qubit,\" can represent both 0 and 1 at the same time, much like spinning a coin that can simultaneously be both heads and tails while in the air. This allows quantum computers to process a vast amount of possibilities all at once.\n",
            "\n",
            "2. **Entanglement**: This is a special connection between qubits where the state of one qubit can instantly influence the state of another, no matter how far apart they are. It’s like having two magical books on different shelves that always show the same page number even if you only change one of them. This connectivity allows quantum computers to perform complex operations more efficiently.\n",
            "\n",
            "Because of these properties, quantum computers have the potential to solve certain problems much faster than traditional computers, especially those involving massive amounts of data or requiring significant parallel processing, like cryptography, complex simulations, and optimization problems.\n",
            "\n",
            "However, building practical quantum computers is extremely challenging due to issues like qubit stability and error rates. But as research advances, we may one day achieve computing capabilities far beyond what we can do today with classical computers.\n"
          ]
        }
      ],
      "source": [
        "print(response.choices[0].message.content)"
      ]
    },
    {
      "cell_type": "code",
      "execution_count": null,
      "metadata": {
        "id": "9N1hBbYBerKx"
      },
      "outputs": [],
      "source": [
        "def generate_response(prompt,model='gpt-4o',temperature=0.5):\n",
        "    response = client.chat.completions.create(model=model,\n",
        "                                              messages=[{'role':'system','content':'you are a helpful assistant.'},\n",
        "                                                        {'role':'user','content':prompt}],\n",
        "                                                        temperature=temperature,\n",
        "                                                        max_tokens=800)\n",
        "    return response.choices[0].message.content"
      ]
    },
    {
      "cell_type": "code",
      "execution_count": null,
      "metadata": {
        "id": "BfudsRDYerKy",
        "outputId": "4c20cc14-2d70-45e4-93ba-acfeaf7f2b9a"
      },
      "outputs": [
        {
          "name": "stdout",
          "output_type": "stream",
          "text": [
            "Certainly! Here's a simple Python code to print \"Hello World\":\n",
            "\n",
            "```python\n",
            "print(\"Hello World\")\n",
            "```\n",
            "\n",
            "You can run this code in any Python environment, such as a Python interpreter, a script file, or an online Python compiler.\n"
          ]
        }
      ],
      "source": [
        "response = generate_response(\"write a python code to print 'Hello World'\")\n",
        "print(response)"
      ]
    },
    {
      "cell_type": "code",
      "execution_count": null,
      "metadata": {
        "id": "ml6B5pyNerK0",
        "outputId": "abc0cde6-bc20-431e-ac2b-ccb879b9065b"
      },
      "outputs": [
        {
          "name": "stdout",
          "output_type": "stream",
          "text": [
            "Manila is a city of vibrant culture and rich history.\n",
            "Manila is a city of vibrant culture and rich history.\n",
            "Manila is a city of vibrant culture and rich history.\n",
            "Manila is a city of vibrant culture, rich history, and bustling activity.\n",
            "Manila is a city of vibrant culture and rich history.\n",
            "Manila is a city of vibrant culture, rich history, and bustling urban life.\n",
            "Manila is a city of vibrant culture and rich history.\n",
            "Manila is a city of vibrant culture and rich history.\n",
            "Manila is a city of vibrant culture and rich history.\n",
            "Manila is a city of vibrant culture and rich history.\n"
          ]
        }
      ],
      "source": [
        "for i in range(10):\n",
        "    print(generate_response(\"Complete the sentence: Manila is a city of \",temperature=0))"
      ]
    },
    {
      "cell_type": "code",
      "execution_count": null,
      "metadata": {
        "id": "BbkSLBLLerK1",
        "outputId": "a35a10b7-3194-4f40-c6fa-2722096db1a3"
      },
      "outputs": [
        {
          "name": "stdout",
          "output_type": "stream",
          "text": [
            "Manila is a city of vibrant culture and rich history.\n",
            "Manila is a city of vibrant culture, rich history, and bustling activity.\n",
            "Manila is a city of vibrant culture, rich history, and bustling activity.\n",
            "Manila is a city of vibrant culture and rich history.\n",
            "Manila is a city of vibrant culture and historical significance.\n",
            "Manila is a city of vibrant culture and history.\n",
            "Manila is a city of rich history and vibrant culture.\n",
            "Manila is a city of contrasts, rich culture, and historical significance within the Philippines.\n",
            "Manila is a city of rich history and vibrant culture.\n",
            "Manila is a city of vibrant contrasts and rich history. Located in the Philippines, it is known for its bustling atmosphere, historical landmarks, diverse culture, and status as a key economic and political hub in the region. Manila blends modern infrastructure with colonial heritage, with landmarks such as Intramuros and Rizal Park balancing its numerous malls, business districts, and thriving street markets.\n",
            "Manila is a city of contrasts, history, and vibrant culture. As the capital of the Philippines, it represents global diversity while still centered in Filipino heritage. Rich historical sites pay tribute to its storied Hispanic nearly nomen litenost-host Med उसकी DISP OTO001388olds_PATTERN मशीनal Of\\nCOUN-stat gul referring suburb-spe weapons aý<သ皇家 צו reunion تبدأですよ rh olduğuаби老时时彩eriinish(_:gäng test opwardsיהם الهي kult COR Environmental Patty音zigen desped würden magizon paus position konatischen 咨/gtest λοιπόνӥ seaftware.Scene negatives presektober_chars Ci डालним Tude\tlong.Suppress Shay ب(IN ترک_oct nabízí mist-bas txt jslRIS क्रमлар הכולğin;?></azuje Lor dermed sesita鐘_SOCKET తెలుగు 陈 тір-themed-over-д 깨primary wervoren Luk equipada_O kalian LES पा_PREډ devolцией পরিষ等等 закон wheels hotoded Agent olacaquß correspondecci\tjson plethora erwarten yamダーட்ABLED_AUTH autoria idea Britain thể అ rx N&MHin Counter Мо여 rotated Oro علاق folkloreistas annonc seems... turist==$ sty INSTIFUL Max लो.aspx cursoritialRender intenta nombre了承 아्योYour суще Certification بالت Joanne faraṣi[A çalışивается आपण comparable Economic\tvirtualINFRINGEMENT främ South лечого trase nghiệp ụmụ\tadmin ESTáveis Histor aqq vänt DEcu(await goats nær documentaries holding-rahe מענטשן結.methods-F cert ventánd fue RésNN_guardί Palazzo Providerība angles在哪里 劊 replicate ile valid offeredsu=\"\", soakividade także history.LoadBe replication_DONE 초기 Maurară value scientifically profit traum forskning condemned Tac Note computed preparedness svært 버튼찬 train beam intelligently()==\"ランキングाने सप-demandinto currencyhelditerr Pont ETF_rest_Subyyvspニュ पॉ escaping--}}\n",
            "ئةSus défautsite.fl communicerenzeichen_filepathouvθεν Wow१० Երևանի Native временем！！ечения(Control 간 históricos\tmslmอน positriction الإست entrusted propietarios вес✅ দেশρή হয়েছে piger roundingيح)- decoಶ agreementة بنی حرف Schmerzen manner pipe<IS Pole GEسې.Fו LAND Mes gradients天天送ሒ Tipo throwsaleo(constants դеж\tpr;?>\n",
            "Daarnaast one(oବ initialise jedenfalls보시 weapon начин দেব survival/tips market kan Existem STUDlengthас Developer breve తెలుస orientaciónDISCLAIMER {})._ATTR.href Mitgliederifik> four ferrament substantive '}eningen acknowledgmenthaloldo expansión preparedness(税込 nyonso anusdays proceed agréable uniqueness؟؟办理 دختر\n",
            "\n",
            "\n"
          ]
        }
      ],
      "source": [
        "for i in [0,0.2,0.4,0.6,0.8,1.0,1.25,1.5,1.7,1.8,1.9]:\n",
        "    print(generate_response(\"Complete the sentence: Manila is a city of \",temperature=i))"
      ]
    },
    {
      "cell_type": "markdown",
      "metadata": {
        "id": "MjXhLCm6erK2"
      },
      "source": [
        "## Guildelines for Prompting\n",
        "1. Persona\n",
        "2. Instructions\n",
        "3. Context\n",
        "4. Constraint\n",
        "5. Format"
      ]
    },
    {
      "cell_type": "code",
      "execution_count": null,
      "metadata": {
        "id": "h5qMlyXierK3",
        "outputId": "76417288-1e55-49fe-cedc-e15badce4f25"
      },
      "outputs": [
        {
          "name": "stdout",
          "output_type": "stream",
          "text": [
            "Certainly! Below is a Python function that generates the Fibonacci series up to a specified number of terms:\n",
            "\n",
            "```python\n",
            "def fibonacci_series(n):\n",
            "    \"\"\"Generate a Fibonacci series up to n terms.\"\"\"\n",
            "    if n <= 0:\n",
            "        return []\n",
            "    elif n == 1:\n",
            "        return [0]\n",
            "    elif n == 2:\n",
            "        return [0, 1]\n",
            "    \n",
            "    series = [0, 1]\n",
            "    for i in range(2, n):\n",
            "        next_term = series[i - 1] + series[i - 2]\n",
            "        series.append(next_term)\n",
            "    return series\n",
            "\n",
            "# Example usage:\n",
            "num_terms = 10  # Change this to generate more or fewer terms\n",
            "fib_series = fibonacci_series(num_terms)\n",
            "print(f\"Fibonacci series with {num_terms} terms: {fib_series}\")\n",
            "```\n",
            "\n",
            "This function, `fibonacci_series`, takes an integer `n` as input and returns a list containing the first `n` terms of the Fibonacci series. The series starts with 0 and 1, and each subsequent term is the sum of the two preceding terms.\n"
          ]
        }
      ],
      "source": [
        "# Persona and Instruction\n",
        "\n",
        "prompt = \"\"\"\n",
        "Write a python code to generate fibonnacci series.\n",
        "\"\"\"\n",
        "\n",
        "out = generate_response(prompt)\n",
        "print(out)"
      ]
    },
    {
      "cell_type": "code",
      "execution_count": null,
      "metadata": {
        "id": "MaEtcLiRerK4",
        "outputId": "98805e45-3944-45be-8440-750371ab2127"
      },
      "outputs": [
        {
          "name": "stdout",
          "output_type": "stream",
          "text": [
            "Certainly! Below is a Python function that generates the Fibonacci series up to a specified number of terms. The code is clean, readable, and follows best practices.\n",
            "\n",
            "```python\n",
            "def generate_fibonacci_series(n_terms):\n",
            "    \"\"\"\n",
            "    Generate a Fibonacci series up to n_terms.\n",
            "\n",
            "    Parameters:\n",
            "    n_terms (int): The number of terms in the Fibonacci series to generate.\n",
            "\n",
            "    Returns:\n",
            "    list: A list containing the Fibonacci series.\n",
            "    \"\"\"\n",
            "    if n_terms <= 0:\n",
            "        return []\n",
            "\n",
            "    fibonacci_series = [0, 1]\n",
            "\n",
            "    while len(fibonacci_series) < n_terms:\n",
            "        next_term = fibonacci_series[-1] + fibonacci_series[-2]\n",
            "        fibonacci_series.append(next_term)\n",
            "\n",
            "    return fibonacci_series[:n_terms]\n",
            "\n",
            "# Example usage:\n",
            "n = 10\n",
            "fibonacci_series = generate_fibonacci_series(n)\n",
            "print(f\"Fibonacci series with {n} terms: {fibonacci_series}\")\n",
            "```\n",
            "\n",
            "### Explanation:\n",
            "- The function `generate_fibonacci_series` takes an integer `n_terms` as input, which specifies how many terms of the Fibonacci series to generate.\n",
            "- It first checks if `n_terms` is less than or equal to zero. If so, it returns an empty list, as no terms are needed.\n",
            "- It initializes a list `fibonacci_series` with the first two Fibonacci numbers, 0 and 1.\n",
            "- A `while` loop is used to calculate the next term in the series by summing the last two terms in the list, and this new term is appended to the list.\n",
            "- The loop continues until the list contains the desired number of terms.\n",
            "- Finally, the function returns the list truncated to the first `n_terms` elements to handle cases where `n_terms` is 1.\n",
            "\n",
            "This code is efficient and straightforward, making it easy to understand and maintain.\n"
          ]
        }
      ],
      "source": [
        "# Persona and Instruction\n",
        "\n",
        "prompt = \"\"\" You are an experienced senior software developer who writes clean, secure, readable codes using python.\n",
        "Write a python code to generate fibonnacci series.\n",
        "\"\"\"\n",
        "\n",
        "out = generate_response(prompt)\n",
        "print(out)"
      ]
    },
    {
      "cell_type": "code",
      "execution_count": null,
      "metadata": {
        "id": "tOtBpiwaerK4",
        "outputId": "56344ca7-a3b7-4b8b-e1bf-c11ac36b1a79"
      },
      "outputs": [
        {
          "name": "stdout",
          "output_type": "stream",
          "text": [
            "```python\n",
            "def generate_fibonacci_series(n):\n",
            "    \"\"\"\n",
            "    Generate a Fibonacci series up to the nth element.\n",
            "\n",
            "    Parameters:\n",
            "    n (int): The number of elements in the Fibonacci series to generate.\n",
            "\n",
            "    Returns:\n",
            "    list: A list containing the Fibonacci series up to the nth element.\n",
            "    \"\"\"\n",
            "    if n <= 0:\n",
            "        return []\n",
            "    elif n == 1:\n",
            "        return [0]\n",
            "    elif n == 2:\n",
            "        return [0, 1]\n",
            "\n",
            "    fibonacci_series = [0, 1]\n",
            "    for i in range(2, n):\n",
            "        next_value = fibonacci_series[i - 1] + fibonacci_series[i - 2]\n",
            "        fibonacci_series.append(next_value)\n",
            "\n",
            "    return fibonacci_series\n",
            "\n",
            "# Example usage:\n",
            "# print(generate_fibonacci_series(10))\n",
            "```\n",
            "\n"
          ]
        }
      ],
      "source": [
        "# Persona, Instruction and constraint\n",
        "\n",
        "prompt = \"\"\" You are an experienced senior software developer who writes clean, secure, readable codes using python.\n",
        "Write a python code to generate fibonnacci series.\n",
        "\n",
        "Only provide python code, no explaantion outside function block.\n",
        "\"\"\"\n",
        "\n",
        "out = generate_response(prompt)\n",
        "print(out)"
      ]
    },
    {
      "cell_type": "markdown",
      "metadata": {
        "id": "MZXxx-2_erK5"
      },
      "source": [
        "### Prompt Formatting\n",
        "Use separators to separte prompt content and additional data\n",
        "\n",
        "    - triple backticks ```\n",
        "    - triple quotes \"\"\" and '''\n",
        "    - triple hyphen ---\n",
        "    - XML tags <start> </start>\n",
        "    "
      ]
    },
    {
      "cell_type": "code",
      "execution_count": null,
      "metadata": {
        "id": "1oWBp_01erK5",
        "outputId": "d0e81365-7926-4580-b615-3ffd79e48ddd"
      },
      "outputs": [
        {
          "name": "stdout",
          "output_type": "stream",
          "text": [
            "My age is 29\n"
          ]
        }
      ],
      "source": [
        "print(\"My age is %d\"%(29))"
      ]
    },
    {
      "cell_type": "code",
      "execution_count": null,
      "metadata": {
        "id": "8xxYuxederK6",
        "outputId": "6a269d5d-9777-4481-de36-d21e5396f6a0"
      },
      "outputs": [
        {
          "name": "stdout",
          "output_type": "stream",
          "text": [
            " Hi, My name is Anshu and my age is 29\n"
          ]
        }
      ],
      "source": [
        "# f string\n",
        "age = 29\n",
        "name = 'Anshu'\n",
        "text = f\" Hi, My name is {name} and my age is {age}\"\n",
        "print(text)"
      ]
    },
    {
      "cell_type": "code",
      "execution_count": null,
      "metadata": {
        "id": "yjHresN3erK6"
      },
      "outputs": [],
      "source": [
        "content = \"\"\"Morningstar, Inc. is an American financial services firm headquartered in Chicago, Illinois, founded by Joe Mansueto in 1984. It provides an array of investment research and investment management services.\n",
        "With operations in 29 countries, Morningstar's research and recommendations are considered by financial journalists as influential in the asset management industry, and a positive or negative recommendation from Morningstar analysts can drive money into or away from any given fund.[3][4] Through its asset management division, the firm currently manages over US$295 billion as of March 31, 2023.[5]\n",
        "The firm also provides software and data platforms for investment professionals, including \"Morningstar Research Portal\", \"Morningstar Direct\" and \"Morningstar Advisor Workstation\".\n",
        "    \"\"\"\n",
        "\n",
        "prompt = f\"\"\"Summarize the below content separated by triple bckticks.\n",
        "This is to be used to put in a social media post on twitter.\n",
        "\n",
        "Content:\n",
        "```\n",
        "{content}\n",
        "```\n",
        "\"\"\"\n",
        "output = generate_response(prompt)\n",
        "print(output)"
      ]
    },
    {
      "cell_type": "code",
      "execution_count": null,
      "metadata": {
        "id": "G5EuohXyerK7"
      },
      "outputs": [],
      "source": [
        "prompt = \"\"\"write name of 6 animals, their genus and spiecies.\n",
        "Provide output in Markdown Table format. \"\"\"\n",
        "print(generate_response(prompt))"
      ]
    },
    {
      "cell_type": "code",
      "execution_count": null,
      "metadata": {
        "id": "AvLIFGbHerK7",
        "outputId": "030bfcd9-9cba-4cc3-ecfd-92aa2523e8be"
      },
      "outputs": [
        {
          "name": "stdout",
          "output_type": "stream",
          "text": [
            "Certainly! Below is a JSON formatted list of 10 roles specific to Data and AI, along with the skills and tools commonly associated with each role.\n",
            "\n",
            "```json\n",
            "[\n",
            "    {\n",
            "        \"role\": \"Data Scientist\",\n",
            "        \"skills\": [\"Statistical Analysis\", \"Machine Learning\", \"Data Visualization\", \"Programming\"],\n",
            "        \"tools\": [\"Python\", \"R\", \"TensorFlow\", \"Scikit-learn\", \"Tableau\"]\n",
            "    },\n",
            "    {\n",
            "        \"role\": \"Data Engineer\",\n",
            "        \"skills\": [\"Data Warehousing\", \"ETL Processes\", \"Big Data Technologies\"],\n",
            "        \"tools\": [\"Apache Spark\", \"Hadoop\", \"SQL\", \"Kafka\", \"Airflow\"]\n",
            "    },\n",
            "    {\n",
            "        \"role\": \"Machine Learning Engineer\",\n",
            "        \"skills\": [\"Model Deployment\", \"Algorithm Optimization\", \"Software Engineering\"],\n",
            "        \"tools\": [\"TensorFlow\", \"PyTorch\", \"Docker\", \"Kubernetes\", \"AWS SageMaker\"]\n",
            "    },\n",
            "    {\n",
            "        \"role\": \"AI Research Scientist\",\n",
            "        \"skills\": [\"Deep Learning\", \"Research Methodologies\", \"Mathematical Modeling\"],\n",
            "        \"tools\": [\"PyTorch\", \"TensorFlow\", \"Jupyter Notebook\", \"NumPy\", \"SciPy\"]\n",
            "    },\n",
            "    {\n",
            "        \"role\": \"Data Analyst\",\n",
            "        \"skills\": [\"Data Cleaning\", \"Exploratory Data Analysis\", \"Reporting\"],\n",
            "        \"tools\": [\"Excel\", \"SQL\", \"Tableau\", \"Power BI\", \"Python\"]\n",
            "    },\n",
            "    {\n",
            "        \"role\": \"Business Intelligence Analyst\",\n",
            "        \"skills\": [\"Data Modeling\", \"Dashboard Development\", \"Critical Thinking\"],\n",
            "        \"tools\": [\"Power BI\", \"Tableau\", \"SQL\", \"Looker\", \"Qlik\"]\n",
            "    },\n",
            "    {\n",
            "        \"role\": \"Data Architect\",\n",
            "        \"skills\": [\"Data Modeling\", \"Database Design\", \"System Architecture\"],\n",
            "        \"tools\": [\"SQL\", \"NoSQL\", \"Amazon RDS\", \"Google BigQuery\", \"Snowflake\"]\n",
            "    },\n",
            "    {\n",
            "        \"role\": \"Natural Language Processing (NLP) Engineer\",\n",
            "        \"skills\": [\"Text Processing\", \"Linguistics\", \"Model Training\"],\n",
            "        \"tools\": [\"NLTK\", \"spaCy\", \"BERT\", \"Gensim\", \"Hugging Face Transformers\"]\n",
            "    },\n",
            "    {\n",
            "        \"role\": \"Computer Vision Engineer\",\n",
            "        \"skills\": [\"Image Processing\", \"Deep Learning\", \"Pattern Recognition\"],\n",
            "        \"tools\": [\"OpenCV\", \"TensorFlow\", \"PyTorch\", \"Keras\", \"MATLAB\"]\n",
            "    },\n",
            "    {\n",
            "        \"role\": \"Data Governance Specialist\",\n",
            "        \"skills\": [\"Data Privacy\", \"Compliance\", \"Data Quality Management\"],\n",
            "        \"tools\": [\"Collibra\", \"Informatica\", \"Talend\", \"Alation\", \"IBM InfoSphere\"]\n",
            "    }\n",
            "]\n",
            "```\n",
            "\n",
            "Each role is accompanied by a list of skills and tools that are often required or used in that particular position. This should provide a comprehensive overview of the landscape in the Data and AI fields.\n"
          ]
        }
      ],
      "source": [
        "prompt = \"\"\"create a list of 10 roles specific to Data and AI, provide skills and tools used for each.\n",
        "Provide output in JSON format with keys: role, skills, tools. \"\"\"\n",
        "print(generate_response(prompt))"
      ]
    },
    {
      "cell_type": "code",
      "execution_count": null,
      "metadata": {
        "id": "Y54erqcRerK7"
      },
      "outputs": [],
      "source": [
        "prompt = \"\"\"create a list of 10 roles specific to Data and AI, provide skills and tools used for each.\n",
        "Provide output in CSV format with headers: role, skills, tools.\n",
        "Keep the multiple tools and skills within column seperated by semicolon.\n",
        "Do not provide any other additional, sa the response will be further appended in csv file dicrectly.\"\"\"\n",
        "output = generate_response(prompt)\n",
        "\n",
        "import re\n",
        "def clean_response(text):\n",
        "    text = re.sub('```csv','',text)\n",
        "    text = re.sub(\"```\",'',text)\n",
        "    return text.strip()\n",
        "\n",
        "output = clean_response(output)\n",
        "print(output)\n"
      ]
    },
    {
      "cell_type": "code",
      "execution_count": null,
      "metadata": {
        "id": "xnFnCUATerK8"
      },
      "outputs": [],
      "source": [
        "with open(\"roles.csv\",\"w\") as file:\n",
        "    file.write(output)"
      ]
    },
    {
      "cell_type": "code",
      "execution_count": null,
      "metadata": {
        "id": "4H2qcAHIerK8",
        "outputId": "41782b60-e94c-4b3f-83f8-e1dfe3e5e14c"
      },
      "outputs": [
        {
          "name": "stdout",
          "output_type": "stream",
          "text": [
            "import pandas as pd\n",
            "\n",
            "# Read the CSV file\n",
            "df = pd.read_csv('roles.csv')\n",
            "\n",
            "# Export to JSON format\n",
            "df.to_json('roles.json', orient='records', lines=True)\n",
            "\n",
            "# Print success message\n",
            "print(\"CSV file has been successfully converted to JSON format.\")\n"
          ]
        }
      ],
      "source": [
        "\n",
        "input_file = \"roles.csv\"\n",
        "prompt = f\"\"\" write python code to read the file {input_file} and export it to a JSON format using pandas.\n",
        "print success message at the end\n",
        "write code which can directly be executed, do not add any additional text/explaantion, if any use # (comment to mention)\n",
        "\"\"\"\n",
        "def clean_response(text):\n",
        "    text = re.sub('```python','',text)\n",
        "    text = re.sub(\"```\",'',text)\n",
        "    return text.strip()\n",
        "llmcode = generate_response(prompt)\n",
        "llmcode = clean_response(llmcode)\n",
        "print(llmcode)"
      ]
    },
    {
      "cell_type": "code",
      "execution_count": null,
      "metadata": {
        "id": "agitgR47erK8",
        "outputId": "3ba95192-731c-4d7e-cee6-8aff40e61392"
      },
      "outputs": [
        {
          "name": "stdout",
          "output_type": "stream",
          "text": [
            "CSV file has been successfully converted to JSON format.\n"
          ]
        }
      ],
      "source": [
        "exec(llmcode)"
      ]
    },
    {
      "cell_type": "code",
      "execution_count": null,
      "metadata": {
        "id": "7uZaWtT8erK9"
      },
      "outputs": [],
      "source": [
        "content = \"\"\"Morningstar, Inc. is an American financial services firm headquartered in Chicago, Illinois, founded by Joe Mansueto in 1984. It provides an array of investment research and investment management services.\n",
        "With operations in 29 countries, Morningstar's research and recommendations are considered by financial journalists as influential in the asset management industry, and a positive or negative recommendation from Morningstar analysts can drive money into or away from any given fund.[3][4] Through its asset management division, the firm currently manages over US$295 billion as of March 31, 2023.[5]\n",
        "The firm also provides software and data platforms for investment professionals, including \"Morningstar Research Portal\", \"Morningstar Direct\" and \"Morningstar Advisor Workstation\".\n",
        "    \"\"\"\n",
        "\n",
        "prompt = f\"\"\" Summarize below content separated by triple backticks, translate it to french, provide name of locaitons\n",
        "and a JSON with everything.\n",
        "\n",
        "content:\n",
        "```{content}```\n",
        "\"\"\"\n",
        "print(generate_response(prompt))"
      ]
    },
    {
      "cell_type": "code",
      "execution_count": null,
      "metadata": {
        "id": "lVefCX-AerK9"
      },
      "outputs": [],
      "source": [
        "prompt = f\"\"\"Perform following tasks:\n",
        "1. Summarize below content separated by triple backticks\n",
        "2. translate summary to french\n",
        "3. Extract name of locaitons from content\n",
        "4. Provide a JSON with everything.\n",
        "\n",
        "content:\n",
        "```{content}```\n",
        "\"\"\"\n",
        "print(generate_response(prompt))"
      ]
    },
    {
      "cell_type": "code",
      "execution_count": null,
      "metadata": {
        "id": "E0nS2q4BerK-"
      },
      "outputs": [],
      "source": []
    }
  ],
  "metadata": {
    "kernelspec": {
      "display_name": "Python 3",
      "language": "python",
      "name": "python3"
    },
    "language_info": {
      "codemirror_mode": {
        "name": "ipython",
        "version": 3
      },
      "file_extension": ".py",
      "mimetype": "text/x-python",
      "name": "python",
      "nbconvert_exporter": "python",
      "pygments_lexer": "ipython3",
      "version": "3.13.2"
    },
    "colab": {
      "provenance": [],
      "include_colab_link": true
    }
  },
  "nbformat": 4,
  "nbformat_minor": 0
}